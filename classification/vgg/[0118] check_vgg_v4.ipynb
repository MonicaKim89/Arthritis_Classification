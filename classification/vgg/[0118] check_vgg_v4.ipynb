{
 "cells": [
  {
   "cell_type": "code",
   "execution_count": 1,
   "metadata": {},
   "outputs": [
    {
     "name": "stdout",
     "output_type": "stream",
     "text": [
      "C:\\Users\\yukir\\Documents\\GitHub\\Sign_Recognition\\py\n"
     ]
    },
    {
     "name": "stderr",
     "output_type": "stream",
     "text": [
      "Using TensorFlow backend.\n"
     ]
    },
    {
     "name": "stdout",
     "output_type": "stream",
     "text": [
      "[name: \"/device:CPU:0\"\n",
      "device_type: \"CPU\"\n",
      "memory_limit: 268435456\n",
      "locality {\n",
      "}\n",
      "incarnation: 8323598365169073090\n",
      ", name: \"/device:XLA_CPU:0\"\n",
      "device_type: \"XLA_CPU\"\n",
      "memory_limit: 17179869184\n",
      "locality {\n",
      "}\n",
      "incarnation: 8509971620554598557\n",
      "physical_device_desc: \"device: XLA_CPU device\"\n",
      ", name: \"/device:GPU:0\"\n",
      "device_type: \"GPU\"\n",
      "memory_limit: 9883535296\n",
      "locality {\n",
      "  bus_id: 1\n",
      "  links {\n",
      "  }\n",
      "}\n",
      "incarnation: 1121447243553442043\n",
      "physical_device_desc: \"device: 0, name: NVIDIA GeForce RTX 2080 Ti, pci bus id: 0000:01:00.0, compute capability: 7.5\"\n",
      ", name: \"/device:XLA_GPU:0\"\n",
      "device_type: \"XLA_GPU\"\n",
      "memory_limit: 17179869184\n",
      "locality {\n",
      "}\n",
      "incarnation: 400366196231725244\n",
      "physical_device_desc: \"device: XLA_GPU device\"\n",
      "]\n",
      "tf 2.2.0\n",
      "keras 2.3.0-tf\n",
      "set_global_determinism(seed=1337) 이거 꼭 해라\n",
      "set_global_determinism(seed=1337) 이거 꼭 해라\n",
      "set_global_determinism(seed=1337) 이거 꼭 해라\n",
      "C:\\Users\\yukir\\Documents\\Monicas_workspace\\Knee\n"
     ]
    }
   ],
   "source": [
    "%cd C:\\Users\\yukir\\Documents\\GitHub\\Sign_Recognition\\py\n",
    "\n",
    "from basic_preprocessing import *\n",
    "from deeplearning_check import *\n",
    "from machine_learning import *\n",
    "\n",
    "gpu_check()\n",
    "set_global_determinism(seed=SEED)\n",
    "\n",
    "import os\n",
    "import numpy as np\n",
    "import pandas as pd\n",
    "pd.set_option('display.max_rows', None)\n",
    "import matplotlib.pylab as plt\n",
    "from sklearn.linear_model import LinearRegression\n",
    "import seaborn as sns\n",
    "import glob\n",
    "import math\n",
    "from IPython import get_ipython\n",
    "get_ipython().run_line_magic('matplotlib', 'inline')\n",
    "from IPython.display import Image\n",
    "\n",
    "import tensorflow as tf\n",
    "import os\n",
    "from tensorflow.keras.models import *\n",
    "from tensorflow.keras.layers import *\n",
    "from tensorflow.keras.optimizers import *\n",
    "from tensorflow.keras.callbacks import *\n",
    "import keras\n",
    "\n",
    "#cv\n",
    "import cv2\n",
    "import math\n",
    "from PIL import Image\n",
    "import math\n",
    "from scipy import ndimage\n",
    "import argparse\n",
    "import imutils\n",
    "import xml.etree.ElementTree as ET\n",
    "\n",
    "import random \n",
    "from tqdm import tqdm\n",
    "from skimage.io import imread, imshow\n",
    "from skimage.transform import resize\n",
    "\n",
    "#시각화\n",
    "import seaborn as sns\n",
    "import matplotlib.pyplot as plt\n",
    "import matplotlib\n",
    "get_ipython().run_line_magic('matplotlib', 'inline')\n",
    "\n",
    "import matplotlib.image as mpimg\n",
    "from matplotlib import font_manager, rc\n",
    "rc('font',family=\"consolas\")\n",
    "plt.rcParams[\"font.family\"]=\"consolas\" #plt 한글꺠짐\n",
    "plt.rcParams[\"font.family\"]=\"Arial\" #외국어꺠짐\n",
    "plt.rcParams['axes.unicode_minus'] = False # 마이너스 부호 출력 설정\n",
    "plt.rc('figure', figsize=(10,8))\n",
    "\n",
    "sns.set(font=\"consolas\", \n",
    "        rc={\"axes.unicode_minus\":False},style='darkgrid')\n",
    "\n",
    "%cd C:\\Users\\yukir\\Documents\\Monicas_workspace\\Knee"
   ]
  },
  {
   "cell_type": "code",
   "execution_count": 2,
   "metadata": {},
   "outputs": [],
   "source": [
    "# process시각화 및 손실함수\n",
    "\n",
    "def plot_it(history):\n",
    "    '''function to plot training and validation error'''\n",
    "    fig, ax = plt.subplots( figsize=(20,10))\n",
    "    ax.plot(history.history['mae_in_months'])\n",
    "    ax.plot(history.history['val_mae_in_months'])\n",
    "    plt.title('Model Error')\n",
    "    plt.ylabel('error')\n",
    "    plt.xlabel('Epoch')\n",
    "    plt.legend(['Train', 'Val'], loc='upper right')\n",
    "    ax.grid(color='black')\n",
    "    plt.show()\n",
    "    fig = plt.gcf()\n",
    "    fig.savefig(\"../03_model_visualization/\"+model_name+\".jpg\")\n",
    "    plt.close(fig)"
   ]
  },
  {
   "cell_type": "markdown",
   "metadata": {},
   "source": [
    "#### DATA"
   ]
  },
  {
   "cell_type": "code",
   "execution_count": 3,
   "metadata": {},
   "outputs": [],
   "source": [
    "train_dir = 'C:\\\\Users\\\\yukir\\\\Documents\\\\Monicas_workspace\\\\Knee\\\\vgg_dataset\\\\org_preproc\\\\train'\n",
    "test_dir = 'C:\\\\Users\\\\yukir\\\\Documents\\\\Monicas_workspace\\\\Knee\\\\vgg_dataset\\\\org_preproc\\\\test'\n",
    "val_dir = 'C:\\\\Users\\\\yukir\\\\Documents\\\\Monicas_workspace\\\\Knee\\\\vgg_dataset\\\\org_preproc\\\\val'"
   ]
  },
  {
   "cell_type": "code",
   "execution_count": 4,
   "metadata": {},
   "outputs": [],
   "source": [
    "train_datagen = ImageDataGenerator(rescale=1./255)\n",
    "val_datagen = ImageDataGenerator(rescale=1./255)\n",
    "test_datagen = ImageDataGenerator(rescale=1./255)"
   ]
  },
  {
   "cell_type": "code",
   "execution_count": 5,
   "metadata": {},
   "outputs": [
    {
     "name": "stdout",
     "output_type": "stream",
     "text": [
      "Found 6262 images belonging to 5 classes.\n",
      "Found 1935 images belonging to 5 classes.\n",
      "Found 1543 images belonging to 5 classes.\n"
     ]
    }
   ],
   "source": [
    "from keras import Input\n",
    "train_generator = train_datagen.flow_from_directory(train_dir, batch_size=16, target_size=(224,224), color_mode='rgb')\n",
    "val_generator = val_datagen.flow_from_directory(val_dir, batch_size=16, target_size=(224, 224), color_mode='rgb')\n",
    "test_generator = test_datagen.flow_from_directory(test_dir,batch_size=16, target_size=(224, 224), color_mode='rgb')\n",
    "\n",
    "input_tensor = Input(shape=(224, 224, 3), dtype='float32', name='input')"
   ]
  },
  {
   "cell_type": "code",
   "execution_count": 6,
   "metadata": {},
   "outputs": [],
   "source": [
    "from tensorflow.keras.applications import VGG16\n",
    "\n",
    "def create_model():\n",
    "    optimizer = Adam()\n",
    "    \n",
    "    pre_trained_vgg = VGG16(include_top=False, input_shape=(224, 224, 3))\n",
    "    #include_top FC 레이어 포함유무 결정\n",
    "    #feature extraction 파라미터들은 이미지넷으로 학습된 값들을 그대로 사용할 것이기 때문에 trainable의 속성을 False\n",
    "    pre_trained_vgg.trainable = False\n",
    "    additional_model = tf.keras.Sequential()\n",
    "    additional_model.add(pre_trained_vgg)\n",
    "    additional_model.add(Flatten()) ###여기다가 mask layer붙히면 안되나\n",
    "    additional_model.add(tf.keras.layers.Dense(4096, activation='relu'))\n",
    "    additional_model.add(tf.keras.layers.Dense(2048, activation='relu'))\n",
    "    additional_model.add(tf.keras.layers.Dense(1024, activation='relu'))\n",
    "    additional_model.add(tf.keras.layers.Dense(5, activation='softmax'))\n",
    "    \n",
    "\n",
    "    additional_model.compile(optimizer = optimizer, loss = keras.losses.categorical_crossentropy, metrics=['acc'])\n",
    "\n",
    "    \n",
    "    return additional_model"
   ]
  },
  {
   "cell_type": "code",
   "execution_count": 8,
   "metadata": {},
   "outputs": [
    {
     "name": "stdout",
     "output_type": "stream",
     "text": [
      "Model: \"sequential_1\"\n",
      "_________________________________________________________________\n",
      "Layer (type)                 Output Shape              Param #   \n",
      "=================================================================\n",
      "vgg16 (Model)                (None, 7, 7, 512)         14714688  \n",
      "_________________________________________________________________\n",
      "flatten_1 (Flatten)          (None, 25088)             0         \n",
      "_________________________________________________________________\n",
      "dense_4 (Dense)              (None, 4096)              102764544 \n",
      "_________________________________________________________________\n",
      "dense_5 (Dense)              (None, 2048)              8390656   \n",
      "_________________________________________________________________\n",
      "dense_6 (Dense)              (None, 1024)              2098176   \n",
      "_________________________________________________________________\n",
      "dense_7 (Dense)              (None, 5)                 5125      \n",
      "=================================================================\n",
      "Total params: 127,973,189\n",
      "Trainable params: 113,258,501\n",
      "Non-trainable params: 14,714,688\n",
      "_________________________________________________________________\n"
     ]
    }
   ],
   "source": [
    "# 모델 실행 옵션 \n",
    "model = create_model()\n",
    "model.summary()"
   ]
  },
  {
   "cell_type": "code",
   "execution_count": 9,
   "metadata": {},
   "outputs": [],
   "source": [
    "checkpoint_path = \"check_point/cp.ckpt\"\n",
    "checkpoint_dir = os.path.dirname(checkpoint_path)"
   ]
  },
  {
   "cell_type": "code",
   "execution_count": 10,
   "metadata": {},
   "outputs": [
    {
     "name": "stdout",
     "output_type": "stream",
     "text": [
      "WARNING:tensorflow:From C:\\Users\\yukir\\AppData\\Local\\Temp/ipykernel_31412/2427704121.py:16: Model.fit_generator (from tensorflow.python.keras.engine.training) is deprecated and will be removed in a future version.\n",
      "Instructions for updating:\n",
      "Please use Model.fit, which supports generators.\n",
      "Epoch 1/30\n",
      "392/392 [==============================] - ETA: 0s - loss: 1.5707 - acc: 0.4431- E\n",
      "Epoch 00001: loss improved from inf to 1.57073, saving model to check_point/cp.ckpt\n",
      "392/392 [==============================] - 55s 141ms/step - loss: 1.5707 - acc: 0.4431 - val_loss: 1.2662 - val_acc: 0.4615\n",
      "Epoch 2/30\n",
      "391/392 [============================>.] - ETA: 0s - loss: 1.1066 - acc: 0.5304- ETA: 2s - lo\n",
      "Epoch 00002: loss improved from 1.57073 to 1.10702, saving model to check_point/cp.ckpt\n",
      "392/392 [==============================] - 50s 128ms/step - loss: 1.1070 - acc: 0.5302 - val_loss: 1.1001 - val_acc: 0.5344\n",
      "Epoch 3/30\n",
      "391/392 [============================>.] - ETA: 0s - loss: 1.0257 - acc: 0.5572\n",
      "Epoch 00003: loss improved from 1.10702 to 1.02595, saving model to check_point/cp.ckpt\n",
      "392/392 [==============================] - 47s 121ms/step - loss: 1.0259 - acc: 0.5570 - val_loss: 1.1241 - val_acc: 0.5375\n",
      "Epoch 4/30\n",
      "391/392 [============================>.] - ETA: 0s - loss: 0.9858 - acc: 0.5910  ETA: 13 \n",
      "Epoch 00004: loss improved from 1.02595 to 0.98588, saving model to check_point/cp.ckpt\n",
      "392/392 [==============================] - 49s 126ms/step - loss: 0.9859 - acc: 0.5907 - val_loss: 1.1227 - val_acc: 0.5344\n",
      "Epoch 5/30\n",
      "391/392 [============================>.] - ETA: 0s - loss: 0.9696 - acc: 0.5940\n",
      "Epoch 00005: loss improved from 0.98588 to 0.96974, saving model to check_point/cp.ckpt\n",
      "392/392 [==============================] - 47s 121ms/step - loss: 0.9697 - acc: 0.5941 - val_loss: 1.2429 - val_acc: 0.5008\n",
      "Epoch 6/30\n",
      "391/392 [============================>.] - ETA: 0s - loss: 0.9098 - acc: 0.6200\n",
      "Epoch 00006: loss improved from 0.96974 to 0.90990, saving model to check_point/cp.ckpt\n",
      "392/392 [==============================] - 46s 117ms/step - loss: 0.9099 - acc: 0.6199 - val_loss: 1.0958 - val_acc: 0.5457\n",
      "Epoch 7/30\n",
      "391/392 [============================>.] - ETA: 0s - loss: 0.8564 - acc: 0.6395\n",
      "Epoch 00007: loss improved from 0.90990 to 0.85616, saving model to check_point/cp.ckpt\n",
      "392/392 [==============================] - 45s 116ms/step - loss: 0.8562 - acc: 0.6396 - val_loss: 1.0468 - val_acc: 0.5587\n",
      "Epoch 8/30\n",
      "391/392 [============================>.] - ETA: 0s - loss: 0.8288 - acc: 0.6584- ETA: 1s - loss:\n",
      "Epoch 00008: loss improved from 0.85616 to 0.82872, saving model to check_point/cp.ckpt\n",
      "392/392 [==============================] - 47s 121ms/step - loss: 0.8287 - acc: 0.6583 - val_loss: 1.1185 - val_acc: 0.5473\n",
      "Epoch 9/30\n",
      "391/392 [============================>.] - ETA: 0s - loss: 0.7943 - acc: 0.6630\n",
      "Epoch 00009: loss improved from 0.82872 to 0.79422, saving model to check_point/cp.ckpt\n",
      "392/392 [==============================] - 48s 121ms/step - loss: 0.7942 - acc: 0.6630 - val_loss: 1.0869 - val_acc: 0.5643\n",
      "Epoch 10/30\n",
      "391/392 [============================>.] - ETA: 0s - loss: 0.7667 - acc: 0.6739\n",
      "Epoch 00010: loss improved from 0.79422 to 0.76637, saving model to check_point/cp.ckpt\n",
      "392/392 [==============================] - 47s 121ms/step - loss: 0.7664 - acc: 0.6741 - val_loss: 1.1319 - val_acc: 0.5607\n",
      "Epoch 11/30\n",
      "391/392 [============================>.] - ETA: 0s - loss: 0.7182 - acc: 0.7038\n",
      "Epoch 00011: loss improved from 0.76637 to 0.71876, saving model to check_point/cp.ckpt\n",
      "392/392 [==============================] - 47s 119ms/step - loss: 0.7188 - acc: 0.7036 - val_loss: 1.1089 - val_acc: 0.5457\n",
      "Epoch 12/30\n",
      "391/392 [============================>.] - ETA: 0s - loss: 0.7287 - acc: 0.7004\n",
      "Epoch 00012: loss did not improve from 0.71876\n",
      "392/392 [==============================] - 39s 101ms/step - loss: 0.7286 - acc: 0.7006 - val_loss: 1.1990 - val_acc: 0.5323\n",
      "Epoch 13/30\n",
      "391/392 [============================>.] - ETA: 0s - loss: 0.6567 - acc: 0.7291\n",
      "Epoch 00013: loss improved from 0.71876 to 0.65681, saving model to check_point/cp.ckpt\n",
      "392/392 [==============================] - 45s 114ms/step - loss: 0.6568 - acc: 0.7288 - val_loss: 1.2615 - val_acc: 0.5540\n",
      "Epoch 14/30\n",
      "391/392 [============================>.] - ETA: 0s - loss: 0.6176 - acc: 0.7473\n",
      "Epoch 00014: loss improved from 0.65681 to 0.61761, saving model to check_point/cp.ckpt\n",
      "392/392 [==============================] - 45s 114ms/step - loss: 0.6176 - acc: 0.7472 - val_loss: 1.4877 - val_acc: 0.5401\n",
      "Epoch 15/30\n",
      "391/392 [============================>.] - ETA: 0s - loss: 0.6240 - acc: 0.7462\n",
      "Epoch 00015: loss did not improve from 0.61761\n",
      "392/392 [==============================] - 39s 100ms/step - loss: 0.6241 - acc: 0.7461 - val_loss: 1.4814 - val_acc: 0.4946\n",
      "Epoch 16/30\n",
      "391/392 [============================>.] - ETA: 0s - loss: 0.5999 - acc: 0.7530\n",
      "Epoch 00016: loss improved from 0.61761 to 0.59968, saving model to check_point/cp.ckpt\n",
      "392/392 [==============================] - 45s 114ms/step - loss: 0.5997 - acc: 0.7531 - val_loss: 1.3530 - val_acc: 0.5643\n",
      "Epoch 17/30\n",
      "391/392 [============================>.] - ETA: 0s - loss: 0.5624 - acc: 0.7740\n",
      "Epoch 00017: loss improved from 0.59968 to 0.56217, saving model to check_point/cp.ckpt\n",
      "392/392 [==============================] - 45s 115ms/step - loss: 0.5622 - acc: 0.7740 - val_loss: 1.3613 - val_acc: 0.5597\n",
      "Epoch 18/30\n",
      "391/392 [============================>.] - ETA: 0s - loss: 0.5208 - acc: 0.7916\n",
      "Epoch 00018: loss improved from 0.56217 to 0.52047, saving model to check_point/cp.ckpt\n",
      "392/392 [==============================] - 45s 115ms/step - loss: 0.5205 - acc: 0.7918 - val_loss: 1.3857 - val_acc: 0.5643\n",
      "Epoch 19/30\n",
      "391/392 [============================>.] - ETA: 0s - loss: 0.5193 - acc: 0.7904\n",
      "Epoch 00019: loss improved from 0.52047 to 0.51998, saving model to check_point/cp.ckpt\n",
      "392/392 [==============================] - 45s 114ms/step - loss: 0.5200 - acc: 0.7905 - val_loss: 1.5720 - val_acc: 0.5463\n",
      "Epoch 20/30\n",
      "391/392 [============================>.] - ETA: 0s - loss: 0.5166 - acc: 0.7968\n",
      "Epoch 00020: loss improved from 0.51998 to 0.51616, saving model to check_point/cp.ckpt\n",
      "392/392 [==============================] - 45s 115ms/step - loss: 0.5162 - acc: 0.7970 - val_loss: 1.6021 - val_acc: 0.5054\n",
      "Epoch 21/30\n",
      "391/392 [============================>.] - ETA: 0s - loss: 0.4734 - acc: 0.8120\n",
      "Epoch 00021: loss improved from 0.51616 to 0.47309, saving model to check_point/cp.ckpt\n",
      "392/392 [==============================] - 45s 114ms/step - loss: 0.4731 - acc: 0.8122 - val_loss: 1.4977 - val_acc: 0.5649\n",
      "Epoch 22/30\n",
      "391/392 [============================>.] - ETA: 0s - loss: 0.4318 - acc: 0.8341\n",
      "Epoch 00022: loss improved from 0.47309 to 0.43175, saving model to check_point/cp.ckpt\n",
      "392/392 [==============================] - 45s 115ms/step - loss: 0.4318 - acc: 0.8341 - val_loss: 1.5690 - val_acc: 0.5571\n",
      "Epoch 23/30\n",
      "391/392 [============================>.] - ETA: 0s - loss: 0.4308 - acc: 0.8262- ETA: 5s - loss: 0.4268 - acc: 0.82 - ETA: 5s - loss: 0.42 - ETA: 0s - loss: 0.4294 - acc\n",
      "Epoch 00023: loss improved from 0.43175 to 0.43166, saving model to check_point/cp.ckpt\n",
      "392/392 [==============================] - 48s 123ms/step - loss: 0.4317 - acc: 0.8259 - val_loss: 1.5677 - val_acc: 0.5499\n",
      "Epoch 24/30\n",
      "391/392 [============================>.] - ETA: 0s - loss: 0.3969 - acc: 0.8456\n",
      "Epoch 00024: loss improved from 0.43166 to 0.39680, saving model to check_point/cp.ckpt\n",
      "392/392 [==============================] - 48s 123ms/step - loss: 0.3968 - acc: 0.8456 - val_loss: 1.6018 - val_acc: 0.5127\n",
      "Epoch 25/30\n",
      "391/392 [============================>.] - ETA: 0s - loss: 0.3678 - acc: 0.8541\n",
      "Epoch 00025: loss improved from 0.39680 to 0.36742, saving model to check_point/cp.ckpt\n",
      "392/392 [==============================] - 48s 121ms/step - loss: 0.3674 - acc: 0.8542 - val_loss: 1.7098 - val_acc: 0.5643\n",
      "Epoch 26/30\n",
      "391/392 [============================>.] - ETA: 0s - loss: 0.3687 - acc: 0.8579- ETA: 8s - loss: 0.3831 - a - ETA: 7s - loss: 0.3812 - acc: 0 - ETA: 6s - loss: 0.3819 - ETA: 5s - lo - ETA: 3s - loss: 0.3764  - ETA: 2s - loss: 0.3730 - acc: 0 - ETA: 1s - loss: 0.3\n",
      "Epoch 00026: loss did not improve from 0.36742\n",
      "392/392 [==============================] - 46s 117ms/step - loss: 0.3685 - acc: 0.8580 - val_loss: 1.7627 - val_acc: 0.5643\n",
      "Epoch 27/30\n",
      "391/392 [============================>.] - ETA: 0s - loss: 0.3855 - acc: 0.8448- ETA: 1s - loss: 0.3879 - \n",
      "Epoch 00027: loss did not improve from 0.36742\n",
      "392/392 [==============================] - 43s 110ms/step - loss: 0.3855 - acc: 0.8448 - val_loss: 1.7833 - val_acc: 0.5323\n",
      "Epoch 28/30\n",
      "391/392 [============================>.] - ETA: 0s - loss: 0.3251 - acc: 0.8702- ETA: 5s - loss: 0.3115 - acc: 0. - ETA: 5s - loss: 0.3126 -  - ETA: 4s - loss: 0.3116 -  - ETA: 3s - loss: 0.3142 - acc: 0. - ET\n",
      "Epoch 00028: loss improved from 0.36742 to 0.32502, saving model to check_point/cp.ckpt\n",
      "392/392 [==============================] - 50s 127ms/step - loss: 0.3250 - acc: 0.8702 - val_loss: 2.0415 - val_acc: 0.5220\n",
      "Epoch 29/30\n",
      "391/392 [============================>.] - ETA: 0s - loss: 0.3223 - acc: 0.8726- ETA: 0s - loss: 0.3206 - acc: \n",
      "Epoch 00029: loss improved from 0.32502 to 0.32225, saving model to check_point/cp.ckpt\n",
      "392/392 [==============================] - 50s 126ms/step - loss: 0.3222 - acc: 0.8727 - val_loss: 1.5689 - val_acc: 0.5178\n",
      "Epoch 30/30\n",
      "391/392 [============================>.] - ETA: 0s - loss: 0.3232 - acc: 0.8676  ETA: 17s - loss: 0.2955 - a - ETA: 10s - loss: 0.3158  - ETA: 8s - - ETA: 6s - loss: 0.3215 - acc:  - ETA: 5s - loss: 0 - ETA: 4s - los - ETA: 2s - loss\n",
      "Epoch 00030: loss did not improve from 0.32225\n",
      "392/392 [==============================] - 45s 115ms/step - loss: 0.3229 - acc: 0.8678 - val_loss: 1.9221 - val_acc: 0.5592\n"
     ]
    }
   ],
   "source": [
    "#모델의 가중치 저장\n",
    "checkpoint = ModelCheckpoint(filepath=checkpoint_path,\n",
    "            monitor='loss', \n",
    "            mode='min',\n",
    "            save_best_only=True,\n",
    "            save_weights_only=True,\n",
    "            verbose=1)\n",
    "\n",
    "#새로운 콜백으로 모델 훈련하기\n",
    "history = model.fit_generator(train_generator, \n",
    "            steps_per_epoch=math.ceil(train_generator.n / train_generator.batch_size), \n",
    "            epochs=30, \n",
    "            validation_data=val_generator, \n",
    "            validation_steps=math.ceil(val_generator.n / val_generator.batch_size), \n",
    "            callbacks=[checkpoint],\n",
    "            shuffle=False)"
   ]
  },
  {
   "cell_type": "code",
   "execution_count": 11,
   "metadata": {},
   "outputs": [
    {
     "data": {
      "image/png": "[encoded data removed]",
      "text/plain": [
       "<Figure size 1080x360 with 2 Axes>"
      ]
     },
     "metadata": {},
     "output_type": "display_data"
    }
   ],
   "source": [
    "acc = history.history['acc']\n",
    "val_acc = history.history['val_acc']\n",
    "\n",
    "loss = history.history['loss']\n",
    "val_loss = history.history['val_loss']\n",
    "\n",
    "epochs = range(1, len(acc) +1)\n",
    "    \n",
    "    \n",
    "\n",
    "fig = plt.figure()\n",
    "fig.set_size_inches(15, 5)\n",
    "\n",
    "fig.add_subplot(1, 2, 1)\n",
    "plt.plot(epochs, acc, 'b', label ='Training acc')\n",
    "plt.plot(epochs, val_acc, 'r', label = 'Validation acc')\n",
    "plt.title('Training and validation accuracy')\n",
    "plt.legend()\n",
    "\n",
    "# plt.figure()\n",
    "fig.add_subplot(1, 2, 2) \n",
    "plt.plot(epochs, loss, 'b', label = \"Training loss\")\n",
    "plt.plot(epochs, val_loss, 'r', label ='Validation loss')\n",
    "plt.title('Training and validation lose')\n",
    "plt.legend()\n",
    "\n",
    "plt.show()"
   ]
  },
  {
   "cell_type": "code",
   "execution_count": 12,
   "metadata": {},
   "outputs": [
    {
     "name": "stdout",
     "output_type": "stream",
     "text": [
      " C ����̺��� �������� �̸��� �����ϴ�.\n",
      " ���� �Ϸ� ��ȣ: 5848-7E5C\n",
      "\n",
      " C:\\Users\\yukir\\Documents\\Monicas_workspace\\Knee\\check_point ���͸�\n",
      "\n",
      "2022-01-18  ���� 03:01    <DIR>          .\n",
      "2022-01-18  ���� 03:01    <DIR>          ..\n",
      "2022-01-18  ���� 03:01                71 checkpoint\n",
      "2022-01-18  ���� 03:01             7,657 cp.ckpt.data-00000-of-00002\n",
      "2022-01-18  ���� 03:01     1,417,960,788 cp.ckpt.data-00001-of-00002\n",
      "2022-01-18  ���� 03:01             4,030 cp.ckpt.index\n",
      "               4�� ����       1,417,972,546 ����Ʈ\n",
      "               2�� ���͸�  188,454,236,160 ����Ʈ ����\n"
     ]
    }
   ],
   "source": [
    "#맥에서는 !ls\n",
    "#저장된 checkpoint확인하기\n",
    "!dir {checkpoint_dir}"
   ]
  },
  {
   "cell_type": "code",
   "execution_count": 13,
   "metadata": {},
   "outputs": [
    {
     "data": {
      "text/plain": [
       "'check_point\\\\cp.ckpt'"
      ]
     },
     "execution_count": 13,
     "metadata": {},
     "output_type": "execute_result"
    }
   ],
   "source": [
    "#가장 마지막에 만들어진 체크포인트 확인\n",
    "latest = tf.train.latest_checkpoint(checkpoint_dir)\n",
    "latest"
   ]
  },
  {
   "cell_type": "code",
   "execution_count": 14,
   "metadata": {},
   "outputs": [
    {
     "name": "stdout",
     "output_type": "stream",
     "text": [
      "97/97 [==============================] - 14s 145ms/step - loss: 1.6573 - acc: 0.1841\n",
      "훈련 안 한 모델의 정확도: 18.41%\n"
     ]
    }
   ],
   "source": [
    "#모델 평가\n",
    "model = create_model()\n",
    "loss, acc = model.evaluate(test_generator)\n",
    "print(\"훈련 안 한 모델의 정확도: {:5.2f}%\".format(100*acc))\n"
   ]
  },
  {
   "cell_type": "code",
   "execution_count": 15,
   "metadata": {},
   "outputs": [
    {
     "name": "stdout",
     "output_type": "stream",
     "text": [
      "121/121 [==============================] - 10s 82ms/step - loss: 1.5689 - acc: 0.5178\n",
      "복원된 모델의 정확도: 51.78%\n"
     ]
    }
   ],
   "source": [
    "# 가중치 로드\n",
    "model.load_weights(latest)\n",
    "\n",
    "# # 모델 재평가\n",
    "loss,acc = model.evaluate(val_generator)\n",
    "print(\"복원된 모델의 정확도: {:5.2f}%\".format(100*acc))"
   ]
  },
  {
   "cell_type": "code",
   "execution_count": 16,
   "metadata": {},
   "outputs": [
    {
     "name": "stdout",
     "output_type": "stream",
     "text": [
      "97/97 [==============================] - 8s 80ms/step - loss: 1.4650 - acc: 0.5275\n",
      "복원된 모델의 정확도: 52.75%\n"
     ]
    }
   ],
   "source": [
    "# 가중치 로드\n",
    "model.load_weights(latest)\n",
    "\n",
    "# # 모델 재평가\n",
    "loss,acc = model.evaluate(test_generator)\n",
    "print(\"복원된 모델의 정확도: {:5.2f}%\".format(100*acc))"
   ]
  }
 ],
 "metadata": {
  "interpreter": {
   "hash": "2d93d6df27dcc797823232b994e4f43d959f011089850837812bf48ca3e70a46"
  },
  "kernelspec": {
   "display_name": "Python 3.7.11 64-bit ('tensorflow37': conda)",
   "language": "python",
   "name": "python3"
  },
  "language_info": {
   "codemirror_mode": {
    "name": "ipython",
    "version": 3
   },
   "file_extension": ".py",
   "mimetype": "text/x-python",
   "name": "python",
   "nbconvert_exporter": "python",
   "pygments_lexer": "ipython3",
   "version": "3.7.11"
  },
  "orig_nbformat": 4
 },
 "nbformat": 4,
 "nbformat_minor": 2
}
