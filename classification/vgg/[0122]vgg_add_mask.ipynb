{
 "cells": [
  {
   "cell_type": "code",
   "execution_count": 1,
   "metadata": {},
   "outputs": [
    {
     "name": "stdout",
     "output_type": "stream",
     "text": [
      "C:\\Users\\yukir\\Documents\\GitHub\\Sign_Recognition\\py\n"
     ]
    },
    {
     "name": "stderr",
     "output_type": "stream",
     "text": [
      "Using TensorFlow backend.\n"
     ]
    },
    {
     "name": "stdout",
     "output_type": "stream",
     "text": [
      "[name: \"/device:CPU:0\"\n",
      "device_type: \"CPU\"\n",
      "memory_limit: 268435456\n",
      "locality {\n",
      "}\n",
      "incarnation: 295927745808897184\n",
      ", name: \"/device:XLA_CPU:0\"\n",
      "device_type: \"XLA_CPU\"\n",
      "memory_limit: 17179869184\n",
      "locality {\n",
      "}\n",
      "incarnation: 5333959293117864826\n",
      "physical_device_desc: \"device: XLA_CPU device\"\n",
      ", name: \"/device:GPU:0\"\n",
      "device_type: \"GPU\"\n",
      "memory_limit: 9883535296\n",
      "locality {\n",
      "  bus_id: 1\n",
      "  links {\n",
      "  }\n",
      "}\n",
      "incarnation: 2888102443133881505\n",
      "physical_device_desc: \"device: 0, name: NVIDIA GeForce RTX 2080 Ti, pci bus id: 0000:01:00.0, compute capability: 7.5\"\n",
      ", name: \"/device:XLA_GPU:0\"\n",
      "device_type: \"XLA_GPU\"\n",
      "memory_limit: 17179869184\n",
      "locality {\n",
      "}\n",
      "incarnation: 5484348733139799434\n",
      "physical_device_desc: \"device: XLA_GPU device\"\n",
      "]\n",
      "tf 2.2.0\n",
      "keras 2.3.0-tf\n",
      "set_global_determinism(seed=1337) 이거 꼭 해라\n",
      "set_global_determinism(seed=1337) 이거 꼭 해라\n",
      "set_global_determinism(seed=1337) 이거 꼭 해라\n",
      "C:\\Users\\yukir\\Documents\\Monicas_workspace\\Knee\n"
     ]
    }
   ],
   "source": [
    "%cd C:\\Users\\yukir\\Documents\\GitHub\\Sign_Recognition\\py\n",
    "\n",
    "from basic_preprocessing import *\n",
    "from deeplearning_check import *\n",
    "from machine_learning import *\n",
    "\n",
    "gpu_check()\n",
    "set_global_determinism(seed=SEED)\n",
    "\n",
    "import os\n",
    "import numpy as np\n",
    "import pandas as pd\n",
    "pd.set_option('display.max_rows', None)\n",
    "import matplotlib.pylab as plt\n",
    "from sklearn.linear_model import LinearRegression\n",
    "import seaborn as sns\n",
    "import glob\n",
    "import math\n",
    "from IPython import get_ipython\n",
    "get_ipython().run_line_magic('matplotlib', 'inline')\n",
    "from IPython.display import Image\n",
    "\n",
    "import tensorflow as tf\n",
    "import os\n",
    "from tensorflow.keras.models import *\n",
    "from tensorflow.keras.layers import *\n",
    "from tensorflow.keras.optimizers import *\n",
    "from tensorflow.keras.callbacks import *\n",
    "import keras\n",
    "\n",
    "#cv\n",
    "import cv2\n",
    "import math\n",
    "from PIL import Image\n",
    "import math\n",
    "from scipy import ndimage\n",
    "import argparse\n",
    "import imutils\n",
    "import xml.etree.ElementTree as ET\n",
    "\n",
    "import random \n",
    "from tqdm import tqdm\n",
    "from skimage.io import imread, imshow\n",
    "from skimage.transform import resize\n",
    "\n",
    "#시각화\n",
    "import seaborn as sns\n",
    "import matplotlib.pyplot as plt\n",
    "import matplotlib\n",
    "get_ipython().run_line_magic('matplotlib', 'inline')\n",
    "\n",
    "import matplotlib.image as mpimg\n",
    "from matplotlib import font_manager, rc\n",
    "rc('font',family=\"consolas\")\n",
    "plt.rcParams[\"font.family\"]=\"consolas\" #plt 한글꺠짐\n",
    "plt.rcParams[\"font.family\"]=\"Arial\" #외국어꺠짐\n",
    "plt.rcParams['axes.unicode_minus'] = False # 마이너스 부호 출력 설정\n",
    "plt.rc('figure', figsize=(10,8))\n",
    "\n",
    "sns.set(font=\"consolas\", \n",
    "        rc={\"axes.unicode_minus\":False},style='darkgrid')\n",
    "\n",
    "%cd C:\\Users\\yukir\\Documents\\Monicas_workspace\\Knee"
   ]
  },
  {
   "cell_type": "code",
   "execution_count": 2,
   "metadata": {},
   "outputs": [],
   "source": [
    "set_global_determinism(seed=1337)"
   ]
  },
  {
   "cell_type": "code",
   "execution_count": 3,
   "metadata": {},
   "outputs": [],
   "source": [
    "def print_info( test_gen, preds, print_code, save_dir, subject ):\n",
    "    class_dict=test_gen.class_indices\n",
    "    labels= test_gen.labels\n",
    "    file_names= test_gen.filenames \n",
    "    error_list=[]\n",
    "    true_class=[]\n",
    "    pred_class=[]\n",
    "    prob_list=[]\n",
    "    new_dict={}\n",
    "    error_indices=[]\n",
    "    y_pred=[]\n",
    "    for key,value in class_dict.items():\n",
    "        new_dict[value]=key             # dictionary {integer of class number: string of class name}\n",
    "    # store new_dict as a text fine in the save_dir\n",
    "    classes=list(new_dict.values())     # list of string of class names\n",
    "    classes=['Normal', 'Doubful', 'Mild', 'Moderate', 'Severe']\n",
    "    print ('*** classes ', classes)\n",
    "    dict_as_text=str(new_dict)\n",
    "    dict_name= subject + '-' +str(len(classes)) +'.txt'  \n",
    "    dict_path=os.path.join(save_dir,dict_name)    \n",
    "    with open(dict_path, 'w') as x_file:\n",
    "        x_file.write(dict_as_text)    \n",
    "    errors=0      \n",
    "    for i, p in enumerate(preds):\n",
    "        pred_index=np.argmax(p)        \n",
    "        true_index=labels[i]  # labels are integer values\n",
    "        if pred_index != true_index: # a misclassification has occurred\n",
    "            file_id=os.path.split(file_names[i])[1]\n",
    "            error_list.append(file_id)\n",
    "            true_class.append(new_dict[true_index])\n",
    "            pred_class.append(new_dict[pred_index])\n",
    "            prob_list.append(p[pred_index])\n",
    "            error_indices.append(true_index)            \n",
    "            errors=errors + 1\n",
    "        y_pred.append(pred_index)    \n",
    "    if print_code !=0:\n",
    "        if errors>0:\n",
    "            if print_code>errors:\n",
    "                r=errors\n",
    "            else:\n",
    "                r=print_code           \n",
    "            msg='{0:^28s}{1:^28s}{2:^28s}{3:^16s}'.format('Filename', 'Predicted Class' , 'True Class', 'Probability')\n",
    "            print_in_color(msg, (0,255,0),(55,65,80))\n",
    "            for i in range(r):\n",
    "                msg='{0:^28s}{1:^28s}{2:^28s}{3:4s}{4:^6.4f}'.format(error_list[i], pred_class[i],true_class[i], ' ', prob_list[i])\n",
    "                print_in_color(msg, (255,255,255), (55,65,60))\n",
    "                #print(error_list[i]  , pred_class[i], true_class[i], prob_list[i])               \n",
    "        else:\n",
    "            msg='With accuracy of 100 % there are no errors to print'\n",
    "            print_in_color(msg, (0,255,0),(55,65,80))\n",
    "    if errors>0:\n",
    "        plot_bar=[]\n",
    "        plot_class=[]\n",
    "        for  key, value in new_dict.items():        \n",
    "            count=error_indices.count(key) \n",
    "            if count!=0:\n",
    "                plot_bar.append(count) # list containg how many times a class c had an error\n",
    "                plot_class.append(value)   # stores the class \n",
    "        fig=plt.figure()\n",
    "        fig.set_figheight(len(plot_class)/3)\n",
    "        fig.set_figwidth(10)\n",
    "        plt.style.use('fivethirtyeight')\n",
    "        for i in range(0, len(plot_class)):\n",
    "            c=plot_class[i]\n",
    "            x=plot_bar[i]\n",
    "            plt.barh(c, x, )\n",
    "            plt.title( ' Errors by Class on Test Set')\n",
    "    if len(classes)<= 20:\n",
    "        # create a confusion matrix and a test report        \n",
    "        y_true= np.array(labels)        \n",
    "        y_pred=np.array(y_pred)        \n",
    "        cm = confusion_matrix(y_true, y_pred )\n",
    "        clr = classification_report(y_true, y_pred, target_names=classes)\n",
    "        length=len(classes)\n",
    "        if length<8:\n",
    "            fig_width=8\n",
    "            fig_height=8\n",
    "        else:\n",
    "            fig_width=length\n",
    "            fig_height=length\n",
    "        plt.figure(figsize=(fig_width, fig_height))\n",
    "        sns.heatmap(cm, annot=True, vmin=0, fmt='g', cmap='Blues', cbar=False)       \n",
    "        plt.xticks(np.arange(length)+.5, classes, rotation= 90)\n",
    "        plt.yticks(np.arange(length)+.5, classes, rotation=0)\n",
    "        plt.xlabel(\"Predicted\")\n",
    "        plt.ylabel(\"Actual\")\n",
    "        plt.title(\"Confusion Matrix\")\n",
    "        plt.show()    \n",
    "        print(\"Classification Report:\\n----------------------\\n\", clr)"
   ]
  },
  {
   "cell_type": "code",
   "execution_count": 4,
   "metadata": {},
   "outputs": [],
   "source": [
    "# process시각화 및 손실함수\n",
    "\n",
    "def plot_it(history):\n",
    "    '''function to plot training and validation error'''\n",
    "    fig, ax = plt.subplots( figsize=(20,10))\n",
    "    ax.plot(history.history['mae_in_months'])\n",
    "    ax.plot(history.history['val_mae_in_months'])\n",
    "    plt.title('Model Error')\n",
    "    plt.ylabel('error')\n",
    "    plt.xlabel('Epoch')\n",
    "    plt.legend(['Train', 'Val'], loc='upper right')\n",
    "    ax.grid(color='black')\n",
    "    plt.show()\n",
    "    fig = plt.gcf()\n",
    "    fig.savefig(\"../03_model_visualization/\"+model_name+\".jpg\")\n",
    "    plt.close(fig)"
   ]
  },
  {
   "cell_type": "code",
   "execution_count": 5,
   "metadata": {},
   "outputs": [],
   "source": [
    "def print_in_color(txt_msg,fore_tupple,back_tupple,):\n",
    "    #prints the text_msg in the foreground color specified by fore_tupple with the background specified by back_tupple \n",
    "    #text_msg is the text, fore_tupple is foregroud color tupple (r,g,b), back_tupple is background tupple (r,g,b)\n",
    "    rf,gf,bf=fore_tupple\n",
    "    rb,gb,bb=back_tupple\n",
    "    msg='{0}' + txt_msg\n",
    "    mat='\\33[38;2;' + str(rf) +';' + str(gf) + ';' + str(bf) + ';48;2;' + str(rb) + ';' +str(gb) + ';' + str(bb) +'m' \n",
    "    print(msg .format(mat), flush=True)\n",
    "    print('\\33[0m', flush=True) # returns default print color to back to black\n",
    "    return"
   ]
  },
  {
   "cell_type": "markdown",
   "metadata": {},
   "source": [
    "### DATA"
   ]
  },
  {
   "cell_type": "code",
   "execution_count": 6,
   "metadata": {},
   "outputs": [],
   "source": [
    "train_dir = 'C:\\\\Users\\\\yukir\\\\Documents\\\\Monicas_workspace\\\\Knee\\\\dataset\\\\vgg_dataset\\\\mask\\\\train'\n",
    "test_dir = 'C:\\\\Users\\\\yukir\\\\Documents\\\\Monicas_workspace\\\\Knee\\\\dataset\\\\vgg_dataset\\\\mask\\\\test'\n",
    "val_dir = 'C:\\\\Users\\\\yukir\\\\Documents\\\\Monicas_workspace\\\\Knee\\\\dataset\\\\vgg_dataset\\\\mask\\\\val'"
   ]
  },
  {
   "cell_type": "code",
   "execution_count": 7,
   "metadata": {},
   "outputs": [
    {
     "name": "stdout",
     "output_type": "stream",
     "text": [
      " class:  0  totals_samples:  2000\n",
      " class:  1  totals_samples:  1495\n",
      " class:  2  totals_samples:  2000\n",
      " class:  3  totals_samples:  1086\n",
      " class:  4  totals_samples:  205\n",
      "class weight:  {0: 1.0, 1: 1.3377926421404682, 2: 1.0, 3: 1.8416206261510129, 4: 9.75609756097561}\n",
      " total files:  6786   total labels 6786\n"
     ]
    }
   ],
   "source": [
    "filepaths=[]\n",
    "labels=[]\n",
    "max_files=2000 # set maximum number of files in a class\n",
    "data_dir=r'C:\\\\Users\\\\yukir\\\\Documents\\\\Monicas_workspace\\\\Knee\\\\dataset\\\\vgg_dataset\\\\mask'\n",
    "set_list=['train', 'test', 'val']\n",
    "class_totals=[0,0,0,0,0]\n",
    "for s in set_list:\n",
    "    spath=os.path.join(data_dir,s)\n",
    "    classes=os.listdir(spath) # list of classes    \n",
    "    for i, klass in enumerate(classes):        \n",
    "        classpath=os.path.join(spath, klass)\n",
    "        filelist=os.listdir(classpath)\n",
    "        for f in filelist:\n",
    "            fpath=os.path.join(classpath,f)\n",
    "            # checks if the file extension is one that can be used with ImageDataGenerator\n",
    "            index=fpath.rfind('.')\n",
    "            ext=fpath[index+1:].lower()\n",
    "            if ext in ['jpg', 'jpeg', 'png']:\n",
    "                # check to see if the image files are valid images\n",
    "                try:\n",
    "                    img = Image.open(fpath)\n",
    "                    img.verify()\n",
    "                    if class_totals[i] < max_files:                                              \n",
    "                        class_totals[i]=class_totals[i] + 1\n",
    "                        filepaths.append(fpath)\n",
    "                        labels.append(klass)\n",
    "                    \n",
    "                except:\n",
    "                    print ('file ', fpath, ' is an invalid image file and will not be processed')\n",
    "                \n",
    "            else:\n",
    "                print ('file ', fpath, ' with ', ext, '  will not be processed')\n",
    "        \n",
    "# determine the class weight dictionary\n",
    "for i in range(len(class_totals)):\n",
    "    print (' class: ', classes[i],  ' totals_samples: ', class_totals[i])\n",
    "max_samples=np.max(class_totals)\n",
    "class_weight={}\n",
    "for i in range (len(class_totals)):\n",
    "    class_weight[i]=max_samples/class_totals[i]\n",
    "print ('class weight: ',class_weight)\n",
    "print(' total files: ',len(filepaths), '  total labels', len(labels))"
   ]
  },
  {
   "cell_type": "code",
   "execution_count": 8,
   "metadata": {},
   "outputs": [],
   "source": [
    "train_datagen = ImageDataGenerator(rescale=1./255)\n",
    "val_datagen = ImageDataGenerator(rescale=1./255)\n",
    "test_datagen = ImageDataGenerator(rescale=1./255)"
   ]
  },
  {
   "cell_type": "code",
   "execution_count": 9,
   "metadata": {},
   "outputs": [
    {
     "name": "stdout",
     "output_type": "stream",
     "text": [
      "Found 5298 images belonging to 5 classes.\n",
      "Found 1614 images belonging to 5 classes.\n",
      "Found 1302 images belonging to 5 classes.\n"
     ]
    }
   ],
   "source": [
    "from keras import Input\n",
    "train_generator = train_datagen.flow_from_directory(train_dir, batch_size=16, target_size=(224,224), color_mode='rgb')\n",
    "val_generator = val_datagen.flow_from_directory(val_dir, batch_size=16, target_size=(224, 224), color_mode='rgb')\n",
    "test_generator = test_datagen.flow_from_directory(test_dir,batch_size=16, target_size=(224, 224), color_mode='rgb')\n",
    "\n",
    "input_tensor = Input(shape=(224, 224, 3), dtype='float32', name='input')"
   ]
  },
  {
   "cell_type": "markdown",
   "metadata": {},
   "source": [
    "### MODEL"
   ]
  },
  {
   "cell_type": "code",
   "execution_count": 10,
   "metadata": {},
   "outputs": [],
   "source": [
    "from tensorflow.keras.applications import VGG16\n",
    "\n",
    "def create_model():\n",
    "    optimizer = Adam()\n",
    "    \n",
    "    pre_trained_vgg = VGG16(include_top=False, input_shape=(224, 224, 3))\n",
    "    #include_top FC 레이어 포함유무 결정\n",
    "    #feature extraction 파라미터들은 이미지넷으로 학습된 값들을 그대로 사용할 것이기 때문에 trainable의 속성을 False\n",
    "    pre_trained_vgg.trainable = False\n",
    "    additional_model = tf.keras.Sequential()\n",
    "    additional_model.add(pre_trained_vgg)\n",
    "    additional_model.add(Flatten()) ###여기다가 mask layer붙히면 안되나\n",
    "    additional_model.add(tf.keras.layers.Dense(4096, activation='relu'))\n",
    "    additional_model.add(tf.keras.layers.Dense(2048, activation='relu'))\n",
    "    additional_model.add(tf.keras.layers.Dense(1024, activation='relu'))\n",
    "    additional_model.add(tf.keras.layers.Dense(5, activation='softmax'))\n",
    "    \n",
    "\n",
    "    additional_model.compile(optimizer = optimizer, loss = keras.losses.categorical_crossentropy, metrics=['acc'])\n",
    "\n",
    "    \n",
    "    return additional_model"
   ]
  },
  {
   "cell_type": "code",
   "execution_count": 11,
   "metadata": {},
   "outputs": [
    {
     "name": "stdout",
     "output_type": "stream",
     "text": [
      "Model: \"sequential\"\n",
      "_________________________________________________________________\n",
      "Layer (type)                 Output Shape              Param #   \n",
      "=================================================================\n",
      "vgg16 (Model)                (None, 7, 7, 512)         14714688  \n",
      "_________________________________________________________________\n",
      "flatten (Flatten)            (None, 25088)             0         \n",
      "_________________________________________________________________\n",
      "dense (Dense)                (None, 4096)              102764544 \n",
      "_________________________________________________________________\n",
      "dense_1 (Dense)              (None, 2048)              8390656   \n",
      "_________________________________________________________________\n",
      "dense_2 (Dense)              (None, 1024)              2098176   \n",
      "_________________________________________________________________\n",
      "dense_3 (Dense)              (None, 5)                 5125      \n",
      "=================================================================\n",
      "Total params: 127,973,189\n",
      "Trainable params: 113,258,501\n",
      "Non-trainable params: 14,714,688\n",
      "_________________________________________________________________\n"
     ]
    }
   ],
   "source": [
    "# 모델 실행 옵션 \n",
    "model = create_model()\n",
    "model.summary()"
   ]
  },
  {
   "cell_type": "code",
   "execution_count": 12,
   "metadata": {},
   "outputs": [],
   "source": [
    "checkpoint_path = \"check_point/cp.ckpt\"\n",
    "checkpoint_dir = os.path.dirname(checkpoint_path)"
   ]
  },
  {
   "cell_type": "code",
   "execution_count": 13,
   "metadata": {},
   "outputs": [
    {
     "name": "stdout",
     "output_type": "stream",
     "text": [
      "WARNING:tensorflow:From C:\\Users\\yukir\\AppData\\Local\\Temp/ipykernel_27508/529577026.py:25: Model.fit_generator (from tensorflow.python.keras.engine.training) is deprecated and will be removed in a future version.\n",
      "Instructions for updating:\n",
      "Please use Model.fit, which supports generators.\n",
      "Epoch 1/30\n",
      "332/332 [==============================] - ETA: 0s - loss: 2.6545 - acc: 0.3479\n",
      "Epoch 00001: loss improved from inf to 2.65452, saving model to check_point/cp.ckpt\n",
      "332/332 [==============================] - 44s 132ms/step - loss: 2.6545 - acc: 0.3479 - val_loss: 1.2317 - val_acc: 0.4480\n",
      "Epoch 2/30\n",
      "331/332 [============================>.] - ETA: 0s - loss: 1.6674 - acc: 0.4360  ETA: 12s - loss: 1.7118 - acc - ETA: 11s  - - ETA: 4s - loss: 1.6722 - acc: 0. - ETA: 3s - l - ETA: 1s - loss: 1.6768 - acc: 0.433 - ETA: 1s - loss: 1.6760\n",
      "Epoch 00002: loss improved from 2.65452 to 1.66731, saving model to check_point/cp.ckpt\n",
      "332/332 [==============================] - 43s 129ms/step - loss: 1.6673 - acc: 0.4358 - val_loss: 1.1996 - val_acc: 0.4442\n",
      "Epoch 3/30\n",
      "331/332 [============================>.] - ETA: 0s - loss: 1.5006 - acc: 0.4735  ETA: 1 - ETA: 9s - loss: 1.5209 - acc: 0.4 - ETA: 8s - loss:  - ETA: 0s - loss: 1.5033 - acc: 0.4736\n",
      "Epoch 00003: loss improved from 1.66731 to 1.50315, saving model to check_point/cp.ckpt\n",
      "332/332 [==============================] - 43s 131ms/step - loss: 1.5032 - acc: 0.4736 - val_loss: 1.1289 - val_acc: 0.5118\n",
      "Epoch 4/30\n",
      "331/332 [============================>.] - ETA: 0s - loss: 1.4176 - acc: 0.5136  ETA - ETA: 12s - loss: 1.3895 - - ETA: 11s - loss: 1. - ETA: 10s - loss:  - ET\n",
      "Epoch 00004: loss improved from 1.50315 to 1.41744, saving model to check_point/cp.ckpt\n",
      "332/332 [==============================] - 43s 129ms/step - loss: 1.4174 - acc: 0.5138 - val_loss: 1.1927 - val_acc: 0.4634\n",
      "Epoch 5/30\n",
      "331/332 [============================>.] - ETA: 0s - loss: 1.4225 - acc: 0.5079  ETA: 21s - loss: 1.4391 - acc: 0. - ETA: 21 - ETA: 19s - lo - ETA:  - ETA: 13s - loss: 1. - ETA: 12s -  - ETA: 1\n",
      "Epoch 00005: loss did not improve from 1.41744\n",
      "332/332 [==============================] - 38s 114ms/step - loss: 1.4225 - acc: 0.5079 - val_loss: 1.1573 - val_acc: 0.5149\n",
      "Epoch 6/30\n",
      "331/332 [============================>.] - ETA: 0s - loss: 1.3217 - acc: 0.5279  ETA: 15s - loss: 1. - ETA: 12s - loss: 1 - ETA: 3s - loss: 1.3313 - acc - ETA: 2s - loss: 1.326 - ETA: 1s - loss: 1.3257 - acc: 0.5 - ETA: 1s - loss: 1.3259 - a\n",
      "Epoch 00006: loss improved from 1.41744 to 1.32145, saving model to check_point/cp.ckpt\n",
      "332/332 [==============================] - 43s 131ms/step - loss: 1.3215 - acc: 0.5281 - val_loss: 1.1490 - val_acc: 0.5304\n",
      "Epoch 7/30\n",
      "331/332 [============================>.] - ETA: 0s - loss: 1.3063 - acc: 0.5355  ETA: 21s - loss: 1. - ETA: 20s - lo - ETA: 19s  - ETA: 1 - ETA: 8s - loss: 1.3008 -  - ETA: 7s - ETA: 4s - loss: 1.2 - ETA: 3s - loss: - ETA: 1s - loss: 1.2908 - - ETA: 0s - loss: 1.3048 - acc: 0.53\n",
      "Epoch 00007: loss improved from 1.32145 to 1.30638, saving model to check_point/cp.ckpt\n",
      "332/332 [==============================] - 43s 130ms/step - loss: 1.3064 - acc: 0.5355 - val_loss: 1.1946 - val_acc: 0.4907\n",
      "Epoch 8/30\n",
      "331/332 [============================>.] - ETA: 0s - loss: 1.2288 - acc: 0.5583- ETA: 6s - loss: 1.2314 - acc: 0 - ETA: 5s - lo\n",
      "Epoch 00008: loss improved from 1.30638 to 1.22849, saving model to check_point/cp.ckpt\n",
      "332/332 [==============================] - 44s 132ms/step - loss: 1.2285 - acc: 0.5585 - val_loss: 1.0664 - val_acc: 0.5508\n",
      "Epoch 9/30\n",
      "331/332 [============================>.] - ETA: 0s - loss: 1.1757 - acc: 0.5725  - ETA: 27s - lo - ETA: 24s - loss: 1. - ETA:  - ETA: 18s - loss: 1.1760 - a - ETA: 16s - loss: - ETA: 6s - loss: 1.1791 - acc - ETA: 6s \n",
      "Epoch 00009: loss improved from 1.22849 to 1.17546, saving model to check_point/cp.ckpt\n",
      "332/332 [==============================] - 43s 130ms/step - loss: 1.1755 - acc: 0.5727 - val_loss: 1.0932 - val_acc: 0.5397\n",
      "Epoch 10/30\n",
      "331/332 [============================>.] - ETA: 0s - loss: 1.1363 - acc: 0.5889\n",
      "Epoch 00010: loss improved from 1.17546 to 1.13661, saving model to check_point/cp.ckpt\n",
      "332/332 [==============================] - 42s 127ms/step - loss: 1.1366 - acc: 0.5887 - val_loss: 1.4302 - val_acc: 0.3550\n",
      "Epoch 11/30\n",
      "331/332 [============================>.] - ETA: 0s - loss: 1.1046 - acc: 0.5878- ETA: 6s - loss:  - ETA: 5s - loss: 1.0999 - acc: 0 - ETA: 4s - loss: 1.098 - ETA: 3s - - ETA: 0s - loss: 1.0979 - a\n",
      "Epoch 00011: loss improved from 1.13661 to 1.10450, saving model to check_point/cp.ckpt\n",
      "332/332 [==============================] - 42s 126ms/step - loss: 1.1045 - acc: 0.5878 - val_loss: 1.1365 - val_acc: 0.5322\n",
      "Epoch 12/30\n",
      "331/332 [============================>.] - ETA: 0s - loss: 1.1511 - acc: 0.5852- ETA: 5s - loss: 1.112 - ETA: 4s - loss: 1.119 - ETA: 2s - loss: 1.1502 - acc: 0.5 - ETA: 2s -\n",
      "Epoch 00012: loss did not improve from 1.10450\n",
      "332/332 [==============================] - 37s 110ms/step - loss: 1.1510 - acc: 0.5851 - val_loss: 1.4271 - val_acc: 0.5081\n",
      "Epoch 13/30\n",
      "331/332 [============================>.] - ETA: 0s - loss: 1.2055 - acc: 0.5744\n",
      "Epoch 00013: loss did not improve from 1.10450\n",
      "332/332 [==============================] - 37s 110ms/step - loss: 1.2053 - acc: 0.5746 - val_loss: 1.4759 - val_acc: 0.4133\n",
      "Epoch 14/30\n",
      "331/332 [============================>.] - ETA: 0s - loss: 1.2989 - acc: 0.5551- ETA: 2s - loss\n",
      "Epoch 00014: loss did not improve from 1.10450\n",
      "332/332 [==============================] - 37s 110ms/step - loss: 1.2989 - acc: 0.5551 - val_loss: 1.1239 - val_acc: 0.5229\n",
      "Epoch 15/30\n",
      "331/332 [============================>.] - ETA: 0s - loss: 1.1018 - acc: 0.6122  ETA: 13s - loss - ETA: 12s - loss: 1.09\n",
      "Epoch 00015: loss improved from 1.10450 to 1.10156, saving model to check_point/cp.ckpt\n",
      "332/332 [==============================] - 42s 127ms/step - loss: 1.1016 - acc: 0.6123 - val_loss: 1.0983 - val_acc: 0.5489\n",
      "Epoch 16/30\n",
      "331/332 [============================>.] - ETA: 0s - loss: 1.2366 - acc: 0.5735- ETA: 1s - loss:\n",
      "Epoch 00016: loss did not improve from 1.10156\n",
      "332/332 [==============================] - 37s 110ms/step - loss: 1.2364 - acc: 0.5734 - val_loss: 1.1026 - val_acc: 0.5496\n",
      "Epoch 17/30\n",
      "331/332 [============================>.] - ETA: 0s - loss: 1.0823 - acc: 0.6195\n",
      "Epoch 00017: loss improved from 1.10156 to 1.08254, saving model to check_point/cp.ckpt\n",
      "332/332 [==============================] - 43s 128ms/step - loss: 1.0825 - acc: 0.6195 - val_loss: 1.1765 - val_acc: 0.4938\n",
      "Epoch 18/30\n",
      "331/332 [============================>.] - ETA: 0s - loss: 0.9960 - acc: 0.6369\n",
      "Epoch 00018: loss improved from 1.08254 to 0.99583, saving model to check_point/cp.ckpt\n",
      "332/332 [==============================] - 42s 128ms/step - loss: 0.9958 - acc: 0.6370 - val_loss: 1.1177 - val_acc: 0.5384\n"
     ]
    }
   ],
   "source": [
    "#모델의 가중치 저장\n",
    "checkpoint = ModelCheckpoint(filepath=checkpoint_path,\n",
    "            monitor='loss', \n",
    "            mode='min',\n",
    "            save_best_only=True,\n",
    "            save_weights_only=True,\n",
    "            verbose=1)\n",
    "\n",
    "call_back = [tf.keras.callbacks.EarlyStopping(patience=10, monitor= 'val_loss'),\n",
    "            tf.keras.callbacks.ModelCheckpoint(filepath=checkpoint_path, monitor='loss',\n",
    "            mode='min',\n",
    "            save_best_only=True,\n",
    "            save_weights_only=True,\n",
    "            verbose=1)]\n",
    "\n",
    "#새로운 콜백으로 모델 훈련하기\n",
    "history = model.fit_generator(train_generator, \n",
    "            steps_per_epoch=math.ceil(train_generator.n / train_generator.batch_size), \n",
    "            epochs=30, \n",
    "            validation_data=val_generator,\n",
    "            verbose = 1, \n",
    "            class_weight= class_weight,\n",
    "            validation_steps=math.ceil(val_generator.n / val_generator.batch_size), \n",
    "            callbacks=[call_back],\n",
    "            shuffle=False)"
   ]
  },
  {
   "cell_type": "markdown",
   "metadata": {},
   "source": [
    "### RESULT"
   ]
  },
  {
   "cell_type": "code",
   "execution_count": 21,
   "metadata": {},
   "outputs": [
    {
     "data": {
      "image/png": "[encoded data removed]",
      "text/plain": [
       "<Figure size 1080x360 with 2 Axes>"
      ]
     },
     "metadata": {},
     "output_type": "display_data"
    }
   ],
   "source": [
    "acc = history.history['acc']\n",
    "val_acc = history.history['val_acc']\n",
    "\n",
    "loss = history.history['loss']\n",
    "val_loss = history.history['val_loss']\n",
    "\n",
    "epochs = range(1, len(acc) +1)\n",
    "    \n",
    "    \n",
    "\n",
    "fig = plt.figure()\n",
    "fig.set_size_inches(15, 5)\n",
    "\n",
    "fig.add_subplot(1, 2, 1)\n",
    "plt.plot(epochs, acc, 'b', label ='Training acc')\n",
    "plt.plot(epochs, val_acc, 'r', label = 'Validation acc')\n",
    "plt.title('Training and validation accuracy')\n",
    "plt.legend()\n",
    "\n",
    "# plt.figure()\n",
    "fig.add_subplot(1, 2, 2) \n",
    "plt.plot(epochs, loss, 'b', label = \"Training loss\")\n",
    "plt.plot(epochs, val_loss, 'r', label ='Validation loss')\n",
    "plt.title('Training and validation lose')\n",
    "plt.legend()\n",
    "\n",
    "plt.show()"
   ]
  },
  {
   "cell_type": "code",
   "execution_count": 22,
   "metadata": {},
   "outputs": [
    {
     "name": "stdout",
     "output_type": "stream",
     "text": [
      " C ����̺��� �������� �̸��� �����ϴ�.\n",
      " ���� �Ϸ� ��ȣ: 5848-7E5C\n",
      "\n",
      " C:\\Users\\yukir\\Documents\\Monicas_workspace\\Knee\\check_point ���͸�\n",
      "\n",
      "2022-01-22  ���� 01:18    <DIR>          .\n",
      "2022-01-22  ���� 01:18    <DIR>          ..\n",
      "2022-01-22  ���� 01:18                71 checkpoint\n",
      "2022-01-22  ���� 01:18             7,593 cp.ckpt.data-00000-of-00002\n",
      "2022-01-22  ���� 01:18     1,417,960,788 cp.ckpt.data-00001-of-00002\n",
      "2022-01-22  ���� 01:18             4,030 cp.ckpt.index\n",
      "               4�� ����       1,417,972,482 ����Ʈ\n",
      "               2�� ���͸�  205,301,727,232 ����Ʈ ����\n"
     ]
    }
   ],
   "source": [
    "#맥에서는 !ls\n",
    "#저장된 checkpoint확인하기\n",
    "!dir {checkpoint_dir}"
   ]
  },
  {
   "cell_type": "code",
   "execution_count": 23,
   "metadata": {},
   "outputs": [
    {
     "data": {
      "text/plain": [
       "'check_point\\\\cp.ckpt'"
      ]
     },
     "execution_count": 23,
     "metadata": {},
     "output_type": "execute_result"
    }
   ],
   "source": [
    "#가장 마지막에 만들어진 체크포인트 확인\n",
    "latest = tf.train.latest_checkpoint(checkpoint_dir)\n",
    "latest"
   ]
  },
  {
   "cell_type": "code",
   "execution_count": 24,
   "metadata": {},
   "outputs": [
    {
     "name": "stdout",
     "output_type": "stream",
     "text": [
      "82/82 [==============================] - 6s 76ms/step - loss: 1.6537 - acc: 0.1874\n",
      "훈련 안 한 모델의 정확도: 18.74%\n"
     ]
    }
   ],
   "source": [
    "#모델 평가\n",
    "model = create_model()\n",
    "loss, acc = model.evaluate(test_generator)\n",
    "print(\"훈련 안 한 모델의 정확도: {:5.2f}%\".format(100*acc))"
   ]
  },
  {
   "cell_type": "code",
   "execution_count": 25,
   "metadata": {},
   "outputs": [
    {
     "name": "stdout",
     "output_type": "stream",
     "text": [
      "82/82 [==============================] - 6s 76ms/step - loss: 1.1173 - acc: 0.5292\n",
      "복원된 모델의 정확도: 52.92%\n"
     ]
    }
   ],
   "source": [
    "# 가중치 로드\n",
    "model.load_weights(latest)\n",
    "\n",
    "# # 모델 재평가\n",
    "loss,acc = model.evaluate(test_generator)\n",
    "print(\"복원된 모델의 정확도: {:5.2f}%\".format(100*acc))"
   ]
  },
  {
   "cell_type": "code",
   "execution_count": 26,
   "metadata": {},
   "outputs": [],
   "source": [
    "save_dir = 'C:\\\\Users\\\\yukir\\\\Documents\\\\Monicas_workspace\\\\Knee'\n",
    "subject='knees'"
   ]
  },
  {
   "cell_type": "code",
   "execution_count": 27,
   "metadata": {},
   "outputs": [
    {
     "name": "stdout",
     "output_type": "stream",
     "text": [
      "*** classes  ['Normal', 'Doubful', 'Mild', 'Moderate', 'Severe']\n",
      "\u001b[38;2;0;255;0;48;2;55;65;80m          Filename                Predicted Class                True Class           Probability   \n",
      "\u001b[0m\n",
      "\u001b[38;2;255;255;255;48;2;55;65;60m       0_9003126R.jpg                    3                           0                  0.9385\n",
      "\u001b[0m\n",
      "\u001b[38;2;255;255;255;48;2;55;65;60m       0_9005075R.jpg                    2                           0                  0.4567\n",
      "\u001b[0m\n",
      "\u001b[38;2;255;255;255;48;2;55;65;60m       0_9007904R.jpg                    4                           0                  0.8268\n",
      "\u001b[0m\n",
      "\u001b[38;2;255;255;255;48;2;55;65;60m       0_9009067R.jpg                    3                           0                  0.9455\n",
      "\u001b[0m\n",
      "\u001b[38;2;255;255;255;48;2;55;65;60m       0_9011115L.jpg                    2                           0                  0.6980\n",
      "\u001b[0m\n",
      "\u001b[38;2;255;255;255;48;2;55;65;60m       0_9011949R.jpg                    1                           0                  0.3550\n",
      "\u001b[0m\n",
      "\u001b[38;2;255;255;255;48;2;55;65;60m       0_9016121R.jpg                    3                           0                  0.8836\n",
      "\u001b[0m\n",
      "\u001b[38;2;255;255;255;48;2;55;65;60m       0_9016179L.jpg                    3                           0                  0.7364\n",
      "\u001b[0m\n",
      "\u001b[38;2;255;255;255;48;2;55;65;60m       0_9016886R.jpg                    2                           0                  0.5024\n",
      "\u001b[0m\n",
      "\u001b[38;2;255;255;255;48;2;55;65;60m       0_9017909L.jpg                    2                           0                  0.7150\n",
      "\u001b[0m\n"
     ]
    },
    {
     "data": {
      "image/png": "[encoded data removed]",
      "text/plain": [
       "<Figure size 720x120 with 1 Axes>"
      ]
     },
     "metadata": {},
     "output_type": "display_data"
    },
    {
     "data": {
      "image/png": "[encoded data removed]",
      "text/plain": [
       "<Figure size 576x576 with 1 Axes>"
      ]
     },
     "metadata": {},
     "output_type": "display_data"
    },
    {
     "name": "stdout",
     "output_type": "stream",
     "text": [
      "Classification Report:\n",
      "----------------------\n",
      "               precision    recall  f1-score   support\n",
      "\n",
      "      Normal       0.42      0.54      0.47       523\n",
      "     Doubful       0.27      0.16      0.20       244\n",
      "        Mild       0.29      0.21      0.24       342\n",
      "    Moderate       0.11      0.13      0.12       171\n",
      "      Severe       0.03      0.05      0.04        22\n",
      "\n",
      "    accuracy                           0.32      1302\n",
      "   macro avg       0.22      0.22      0.22      1302\n",
      "weighted avg       0.31      0.32      0.31      1302\n",
      "\n"
     ]
    }
   ],
   "source": [
    "preds=model.predict(test_generator, batch_size=16, verbose=0, steps=1302/16)\n",
    "print_code=10\n",
    "print_info( test_generator, preds, print_code, save_dir, subject ) "
   ]
  },
  {
   "cell_type": "markdown",
   "metadata": {},
   "source": [
    "### SAVE"
   ]
  },
  {
   "cell_type": "code",
   "execution_count": 28,
   "metadata": {},
   "outputs": [
    {
     "name": "stdout",
     "output_type": "stream",
     "text": [
      "Saved model to disk\n"
     ]
    }
   ],
   "source": [
    "model.save('[0122]vggadd_full_mask.h5')\n",
    "\n",
    "model_json = model.to_json()\n",
    "with open(\"[0122]vggadd_full_mask.json\", \"w\") as json_file : \n",
    "    json_file.write(model_json)\n",
    "\n",
    "model.save_weights(\"[0122]vggadd_full_mask_weight.h5\")\n",
    "print(\"Saved model to disk\")"
   ]
  }
 ],
 "metadata": {
  "interpreter": {
   "hash": "2d93d6df27dcc797823232b994e4f43d959f011089850837812bf48ca3e70a46"
  },
  "kernelspec": {
   "display_name": "Python 3.7.11 64-bit ('tensorflow37': conda)",
   "language": "python",
   "name": "python3"
  },
  "language_info": {
   "codemirror_mode": {
    "name": "ipython",
    "version": 3
   },
   "file_extension": ".py",
   "mimetype": "text/x-python",
   "name": "python",
   "nbconvert_exporter": "python",
   "pygments_lexer": "ipython3",
   "version": "3.7.11"
  },
  "orig_nbformat": 4
 },
 "nbformat": 4,
 "nbformat_minor": 2
}
