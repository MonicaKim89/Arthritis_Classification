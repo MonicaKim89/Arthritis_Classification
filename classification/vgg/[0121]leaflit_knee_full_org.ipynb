{
 "cells": [
  {
   "cell_type": "code",
   "execution_count": 1,
   "metadata": {},
   "outputs": [
    {
     "name": "stdout",
     "output_type": "stream",
     "text": [
      "C:\\Users\\yukir\\Documents\\GitHub\\Sign_Recognition\\py\n"
     ]
    },
    {
     "name": "stderr",
     "output_type": "stream",
     "text": [
      "Using TensorFlow backend.\n"
     ]
    },
    {
     "name": "stdout",
     "output_type": "stream",
     "text": [
      "[name: \"/device:CPU:0\"\n",
      "device_type: \"CPU\"\n",
      "memory_limit: 268435456\n",
      "locality {\n",
      "}\n",
      "incarnation: 8171823067361522924\n",
      ", name: \"/device:XLA_CPU:0\"\n",
      "device_type: \"XLA_CPU\"\n",
      "memory_limit: 17179869184\n",
      "locality {\n",
      "}\n",
      "incarnation: 10969628971033103277\n",
      "physical_device_desc: \"device: XLA_CPU device\"\n",
      ", name: \"/device:GPU:0\"\n",
      "device_type: \"GPU\"\n",
      "memory_limit: 9883535296\n",
      "locality {\n",
      "  bus_id: 1\n",
      "  links {\n",
      "  }\n",
      "}\n",
      "incarnation: 5361848791514903943\n",
      "physical_device_desc: \"device: 0, name: NVIDIA GeForce RTX 2080 Ti, pci bus id: 0000:01:00.0, compute capability: 7.5\"\n",
      ", name: \"/device:XLA_GPU:0\"\n",
      "device_type: \"XLA_GPU\"\n",
      "memory_limit: 17179869184\n",
      "locality {\n",
      "}\n",
      "incarnation: 461788267212679968\n",
      "physical_device_desc: \"device: XLA_GPU device\"\n",
      "]\n",
      "tf 2.2.0\n",
      "keras 2.3.0-tf\n",
      "set_global_determinism(seed=1337) 이거 꼭 해라\n",
      "set_global_determinism(seed=1337) 이거 꼭 해라\n",
      "set_global_determinism(seed=1337) 이거 꼭 해라\n",
      "C:\\Users\\yukir\\Documents\\Monicas_workspace\\Knee\n"
     ]
    }
   ],
   "source": [
    "%cd C:\\Users\\yukir\\Documents\\GitHub\\Sign_Recognition\\py\n",
    "\n",
    "from basic_preprocessing import *\n",
    "from deeplearning_check import *\n",
    "from machine_learning import *\n",
    "\n",
    "gpu_check()\n",
    "set_global_determinism(seed=SEED)\n",
    "\n",
    "import os\n",
    "import numpy as np\n",
    "import pandas as pd\n",
    "pd.set_option('display.max_rows', None)\n",
    "import matplotlib.pylab as plt\n",
    "from sklearn.linear_model import LinearRegression\n",
    "import seaborn as sns\n",
    "import glob\n",
    "import math\n",
    "from IPython import get_ipython\n",
    "get_ipython().run_line_magic('matplotlib', 'inline')\n",
    "from IPython.display import Image\n",
    "\n",
    "import tensorflow as tf\n",
    "import os\n",
    "from tensorflow.keras.models import *\n",
    "from tensorflow.keras.layers import *\n",
    "from tensorflow.keras.optimizers import *\n",
    "from tensorflow.keras.callbacks import *\n",
    "import keras\n",
    "\n",
    "#cv\n",
    "import cv2\n",
    "import math\n",
    "from PIL import Image\n",
    "import math\n",
    "from scipy import ndimage\n",
    "import argparse\n",
    "import imutils\n",
    "import xml.etree.ElementTree as ET\n",
    "\n",
    "import random \n",
    "from tqdm import tqdm\n",
    "from skimage.io import imread, imshow\n",
    "from skimage.transform import resize\n",
    "\n",
    "#시각화\n",
    "import seaborn as sns\n",
    "import matplotlib.pyplot as plt\n",
    "import matplotlib\n",
    "get_ipython().run_line_magic('matplotlib', 'inline')\n",
    "\n",
    "import matplotlib.image as mpimg\n",
    "from matplotlib import font_manager, rc\n",
    "rc('font',family=\"consolas\")\n",
    "plt.rcParams[\"font.family\"]=\"consolas\" #plt 한글꺠짐\n",
    "plt.rcParams[\"font.family\"]=\"Arial\" #외국어꺠짐\n",
    "plt.rcParams['axes.unicode_minus'] = False # 마이너스 부호 출력 설정\n",
    "plt.rc('figure', figsize=(10,8))\n",
    "\n",
    "sns.set(font=\"consolas\", \n",
    "        rc={\"axes.unicode_minus\":False},style='darkgrid')\n",
    "\n",
    "%cd C:\\Users\\yukir\\Documents\\Monicas_workspace\\Knee"
   ]
  },
  {
   "cell_type": "code",
   "execution_count": 2,
   "metadata": {},
   "outputs": [],
   "source": [
    "set_global_determinism(seed=1337)"
   ]
  },
  {
   "cell_type": "code",
   "execution_count": null,
   "metadata": {},
   "outputs": [],
   "source": [
    "def print_info( test_gen, preds, print_code, save_dir, subject ):\n",
    "    class_dict=test_gen.class_indices\n",
    "    labels= test_gen.labels\n",
    "    file_names= test_gen.filenames \n",
    "    error_list=[]\n",
    "    true_class=[]\n",
    "    pred_class=[]\n",
    "    prob_list=[]\n",
    "    new_dict={}\n",
    "    error_indices=[]\n",
    "    y_pred=[]\n",
    "    for key,value in class_dict.items():\n",
    "        new_dict[value]=key             # dictionary {integer of class number: string of class name}\n",
    "    # store new_dict as a text fine in the save_dir\n",
    "    classes=list(new_dict.values())     # list of string of class names\n",
    "    classes=['Normal', 'Doubful', 'Midl', 'Moderate', 'Severe']\n",
    "    print ('*** classes ', classes)\n",
    "    dict_as_text=str(new_dict)\n",
    "    dict_name= subject + '-' +str(len(classes)) +'.txt'  \n",
    "    dict_path=os.path.join(save_dir,dict_name)    \n",
    "    with open(dict_path, 'w') as x_file:\n",
    "        x_file.write(dict_as_text)    \n",
    "    errors=0      \n",
    "    for i, p in enumerate(preds):\n",
    "        pred_index=np.argmax(p)        \n",
    "        true_index=labels[i]  # labels are integer values\n",
    "        if pred_index != true_index: # a misclassification has occurred\n",
    "            file_id=os.path.split(file_names[i])[1]\n",
    "            error_list.append(file_id)\n",
    "            true_class.append(new_dict[true_index])\n",
    "            pred_class.append(new_dict[pred_index])\n",
    "            prob_list.append(p[pred_index])\n",
    "            error_indices.append(true_index)            \n",
    "            errors=errors + 1\n",
    "        y_pred.append(pred_index)    \n",
    "    if print_code !=0:\n",
    "        if errors>0:\n",
    "            if print_code>errors:\n",
    "                r=errors\n",
    "            else:\n",
    "                r=print_code           \n",
    "            msg='{0:^28s}{1:^28s}{2:^28s}{3:^16s}'.format('Filename', 'Predicted Class' , 'True Class', 'Probability')\n",
    "            print_in_color(msg, (0,255,0),(55,65,80))\n",
    "            for i in range(r):\n",
    "                msg='{0:^28s}{1:^28s}{2:^28s}{3:4s}{4:^6.4f}'.format(error_list[i], pred_class[i],true_class[i], ' ', prob_list[i])\n",
    "                print_in_color(msg, (255,255,255), (55,65,60))\n",
    "                #print(error_list[i]  , pred_class[i], true_class[i], prob_list[i])               \n",
    "        else:\n",
    "            msg='With accuracy of 100 % there are no errors to print'\n",
    "            print_in_color(msg, (0,255,0),(55,65,80))\n",
    "    if errors>0:\n",
    "        plot_bar=[]\n",
    "        plot_class=[]\n",
    "        for  key, value in new_dict.items():        \n",
    "            count=error_indices.count(key) \n",
    "            if count!=0:\n",
    "                plot_bar.append(count) # list containg how many times a class c had an error\n",
    "                plot_class.append(value)   # stores the class \n",
    "        fig=plt.figure()\n",
    "        fig.set_figheight(len(plot_class)/3)\n",
    "        fig.set_figwidth(10)\n",
    "        plt.style.use('fivethirtyeight')\n",
    "        for i in range(0, len(plot_class)):\n",
    "            c=plot_class[i]\n",
    "            x=plot_bar[i]\n",
    "            plt.barh(c, x, )\n",
    "            plt.title( ' Errors by Class on Test Set')\n",
    "    if len(classes)<= 20:\n",
    "        # create a confusion matrix and a test report        \n",
    "        y_true= np.array(labels)        \n",
    "        y_pred=np.array(y_pred)        \n",
    "        cm = confusion_matrix(y_true, y_pred )\n",
    "        clr = classification_report(y_true, y_pred, target_names=classes)\n",
    "        length=len(classes)\n",
    "        if length<8:\n",
    "            fig_width=8\n",
    "            fig_height=8\n",
    "        else:\n",
    "            fig_width=length\n",
    "            fig_height=length\n",
    "        plt.figure(figsize=(fig_width, fig_height))\n",
    "        sns.heatmap(cm, annot=True, vmin=0, fmt='g', cmap='Blues', cbar=False)       \n",
    "        plt.xticks(np.arange(length)+.5, classes, rotation= 90)\n",
    "        plt.yticks(np.arange(length)+.5, classes, rotation=0)\n",
    "        plt.xlabel(\"Predicted\")\n",
    "        plt.ylabel(\"Actual\")\n",
    "        plt.title(\"Confusion Matrix\")\n",
    "        plt.show()    \n",
    "        print(\"Classification Report:\\n----------------------\\n\", clr)"
   ]
  },
  {
   "cell_type": "code",
   "execution_count": 3,
   "metadata": {},
   "outputs": [],
   "source": [
    "# process시각화 및 손실함수\n",
    "\n",
    "def plot_it(history):\n",
    "    '''function to plot training and validation error'''\n",
    "    fig, ax = plt.subplots( figsize=(20,10))\n",
    "    ax.plot(history.history['mae_in_months'])\n",
    "    ax.plot(history.history['val_mae_in_months'])\n",
    "    plt.title('Model Error')\n",
    "    plt.ylabel('error')\n",
    "    plt.xlabel('Epoch')\n",
    "    plt.legend(['Train', 'Val'], loc='upper right')\n",
    "    ax.grid(color='black')\n",
    "    plt.show()\n",
    "    fig = plt.gcf()\n",
    "    fig.savefig(\"../03_model_visualization/\"+model_name+\".jpg\")\n",
    "    plt.close(fig)"
   ]
  },
  {
   "cell_type": "code",
   "execution_count": null,
   "metadata": {},
   "outputs": [],
   "source": [
    "def print_in_color(txt_msg,fore_tupple,back_tupple,):\n",
    "    #prints the text_msg in the foreground color specified by fore_tupple with the background specified by back_tupple \n",
    "    #text_msg is the text, fore_tupple is foregroud color tupple (r,g,b), back_tupple is background tupple (r,g,b)\n",
    "    rf,gf,bf=fore_tupple\n",
    "    rb,gb,bb=back_tupple\n",
    "    msg='{0}' + txt_msg\n",
    "    mat='\\33[38;2;' + str(rf) +';' + str(gf) + ';' + str(bf) + ';48;2;' + str(rb) + ';' +str(gb) + ';' + str(bb) +'m' \n",
    "    print(msg .format(mat), flush=True)\n",
    "    print('\\33[0m', flush=True) # returns default print color to back to black\n",
    "    return"
   ]
  },
  {
   "cell_type": "markdown",
   "metadata": {},
   "source": [
    "### DATA"
   ]
  },
  {
   "cell_type": "code",
   "execution_count": 4,
   "metadata": {},
   "outputs": [],
   "source": [
    "train_dir = 'C:\\\\Users\\\\yukir\\\\Documents\\\\Monicas_workspace\\\\Knee\\\\dataset\\\\(zip)Knee\\\\archive\\\\train'\n",
    "test_dir = 'C:\\\\Users\\\\yukir\\\\Documents\\\\Monicas_workspace\\\\Knee\\\\dataset\\\\(zip)Knee\\\\archive\\\\test'\n",
    "val_dir = 'C:\\\\Users\\\\yukir\\\\Documents\\\\Monicas_workspace\\\\Knee\\\\dataset\\\\(zip)Knee\\\\archive\\\\val'"
   ]
  },
  {
   "cell_type": "code",
   "execution_count": 5,
   "metadata": {},
   "outputs": [],
   "source": [
    "train_datagen = ImageDataGenerator(rescale=1./255)\n",
    "val_datagen = ImageDataGenerator(rescale=1./255)\n",
    "test_datagen = ImageDataGenerator(rescale=1./255)"
   ]
  },
  {
   "cell_type": "code",
   "execution_count": 6,
   "metadata": {},
   "outputs": [
    {
     "name": "stdout",
     "output_type": "stream",
     "text": [
      "Found 5778 images belonging to 5 classes.\n",
      "Found 826 images belonging to 5 classes.\n",
      "Found 1656 images belonging to 5 classes.\n"
     ]
    }
   ],
   "source": [
    "from keras import Input\n",
    "train_generator = train_datagen.flow_from_directory(train_dir, batch_size=16, target_size=(224,224), color_mode='rgb')\n",
    "val_generator = val_datagen.flow_from_directory(val_dir, batch_size=16, target_size=(224, 224), color_mode='rgb')\n",
    "test_generator = test_datagen.flow_from_directory(test_dir,batch_size=16, target_size=(224, 224), color_mode='rgb')\n",
    "\n",
    "input_tensor = Input(shape=(224, 224, 3), dtype='float32', name='input')"
   ]
  },
  {
   "cell_type": "markdown",
   "metadata": {},
   "source": [
    "### MODEL"
   ]
  },
  {
   "cell_type": "code",
   "execution_count": 7,
   "metadata": {},
   "outputs": [],
   "source": [
    "from tensorflow.keras.applications import VGG16\n",
    "\n",
    "def create_model():\n",
    "    optimizer = Adam()\n",
    "\n",
    "    x_input = tf.keras.Input(shape=(224, 224, 3), name=\"x_input_node\")\n",
    "    x = Conv2D(kernel_size=(5, 5), filters=16, padding='same', use_bias=False, dilation_rate=2)(x_input)\n",
    "    x = BatchNormalization()(x)\n",
    "    x1 = PReLU()(x)\n",
    "\n",
    "    short_cut = MaxPool2D(pool_size=(2, 3))(x1)\n",
    "    x = Conv2D(kernel_size=(5, 5), filters=16, padding='same', use_bias=False, dilation_rate=2)(short_cut)\n",
    "    x = BatchNormalization()(x)\n",
    "    x2 = PReLU()(x) + short_cut\n",
    "\n",
    "\n",
    "    short_cut = MaxPool2D(pool_size=(2, 3))(x2)\n",
    "    x = Conv2D(kernel_size=(5, 5), filters=16, padding='same', use_bias=False, dilation_rate=2)(short_cut)\n",
    "    x = BatchNormalization()(x)\n",
    "    x3 = PReLU()(x) + short_cut\n",
    "\n",
    "\n",
    "    short_cut = MaxPool2D(pool_size=(2, 3))(x3)\n",
    "    x = Conv2D(kernel_size=(5, 5), filters=16, padding='same', use_bias=False, dilation_rate=2)(short_cut)\n",
    "    x = BatchNormalization()(x)\n",
    "    x4 = PReLU()(x) + short_cut\n",
    "\n",
    "\n",
    "    x = Conv2D(kernel_size=(3, 3), filters=16, padding='same')(x4)\n",
    "    x = BatchNormalization()(x)\n",
    "    x = Conv2D(kernel_size=(3, 3), filters=8, padding='same')(x)\n",
    "    x = BatchNormalization()(x)\n",
    "    x = Conv2D(kernel_size=(3, 3), filters=5, padding='same')(x)\n",
    "    x = BatchNormalization()(x)\n",
    "    x = PReLU()(x)\n",
    "    x = GlobalAveragePooling2D()(x)\n",
    "    x = Softmax(name='output')(x)\n",
    "\n",
    "    model = Model(x_input, x)\n",
    "\n",
    "    model.compile(optimizer = optimizer, loss = keras.losses.categorical_crossentropy, metrics=['acc'])\n",
    "\n",
    "    return model"
   ]
  },
  {
   "cell_type": "code",
   "execution_count": 8,
   "metadata": {},
   "outputs": [
    {
     "name": "stdout",
     "output_type": "stream",
     "text": [
      "Model: \"model\"\n",
      "__________________________________________________________________________________________________\n",
      "Layer (type)                    Output Shape         Param #     Connected to                     \n",
      "==================================================================================================\n",
      "x_input_node (InputLayer)       [(None, 224, 224, 3) 0                                            \n",
      "__________________________________________________________________________________________________\n",
      "conv2d (Conv2D)                 (None, 224, 224, 16) 1200        x_input_node[0][0]               \n",
      "__________________________________________________________________________________________________\n",
      "batch_normalization (BatchNorma (None, 224, 224, 16) 64          conv2d[0][0]                     \n",
      "__________________________________________________________________________________________________\n",
      "p_re_lu (PReLU)                 (None, 224, 224, 16) 802816      batch_normalization[0][0]        \n",
      "__________________________________________________________________________________________________\n",
      "max_pooling2d (MaxPooling2D)    (None, 112, 74, 16)  0           p_re_lu[0][0]                    \n",
      "__________________________________________________________________________________________________\n",
      "conv2d_1 (Conv2D)               (None, 112, 74, 16)  6400        max_pooling2d[0][0]              \n",
      "__________________________________________________________________________________________________\n",
      "batch_normalization_1 (BatchNor (None, 112, 74, 16)  64          conv2d_1[0][0]                   \n",
      "__________________________________________________________________________________________________\n",
      "p_re_lu_1 (PReLU)               (None, 112, 74, 16)  132608      batch_normalization_1[0][0]      \n",
      "__________________________________________________________________________________________________\n",
      "tf_op_layer_AddV2 (TensorFlowOp [(None, 112, 74, 16) 0           p_re_lu_1[0][0]                  \n",
      "                                                                 max_pooling2d[0][0]              \n",
      "__________________________________________________________________________________________________\n",
      "max_pooling2d_1 (MaxPooling2D)  (None, 56, 24, 16)   0           tf_op_layer_AddV2[0][0]          \n",
      "__________________________________________________________________________________________________\n",
      "conv2d_2 (Conv2D)               (None, 56, 24, 16)   6400        max_pooling2d_1[0][0]            \n",
      "__________________________________________________________________________________________________\n",
      "batch_normalization_2 (BatchNor (None, 56, 24, 16)   64          conv2d_2[0][0]                   \n",
      "__________________________________________________________________________________________________\n",
      "p_re_lu_2 (PReLU)               (None, 56, 24, 16)   21504       batch_normalization_2[0][0]      \n",
      "__________________________________________________________________________________________________\n",
      "tf_op_layer_AddV2_1 (TensorFlow [(None, 56, 24, 16)] 0           p_re_lu_2[0][0]                  \n",
      "                                                                 max_pooling2d_1[0][0]            \n",
      "__________________________________________________________________________________________________\n",
      "max_pooling2d_2 (MaxPooling2D)  (None, 28, 8, 16)    0           tf_op_layer_AddV2_1[0][0]        \n",
      "__________________________________________________________________________________________________\n",
      "conv2d_3 (Conv2D)               (None, 28, 8, 16)    6400        max_pooling2d_2[0][0]            \n",
      "__________________________________________________________________________________________________\n",
      "batch_normalization_3 (BatchNor (None, 28, 8, 16)    64          conv2d_3[0][0]                   \n",
      "__________________________________________________________________________________________________\n",
      "p_re_lu_3 (PReLU)               (None, 28, 8, 16)    3584        batch_normalization_3[0][0]      \n",
      "__________________________________________________________________________________________________\n",
      "tf_op_layer_AddV2_2 (TensorFlow [(None, 28, 8, 16)]  0           p_re_lu_3[0][0]                  \n",
      "                                                                 max_pooling2d_2[0][0]            \n",
      "__________________________________________________________________________________________________\n",
      "conv2d_4 (Conv2D)               (None, 28, 8, 16)    2320        tf_op_layer_AddV2_2[0][0]        \n",
      "__________________________________________________________________________________________________\n",
      "batch_normalization_4 (BatchNor (None, 28, 8, 16)    64          conv2d_4[0][0]                   \n",
      "__________________________________________________________________________________________________\n",
      "conv2d_5 (Conv2D)               (None, 28, 8, 8)     1160        batch_normalization_4[0][0]      \n",
      "__________________________________________________________________________________________________\n",
      "batch_normalization_5 (BatchNor (None, 28, 8, 8)     32          conv2d_5[0][0]                   \n",
      "__________________________________________________________________________________________________\n",
      "conv2d_6 (Conv2D)               (None, 28, 8, 5)     365         batch_normalization_5[0][0]      \n",
      "__________________________________________________________________________________________________\n",
      "batch_normalization_6 (BatchNor (None, 28, 8, 5)     20          conv2d_6[0][0]                   \n",
      "__________________________________________________________________________________________________\n",
      "p_re_lu_4 (PReLU)               (None, 28, 8, 5)     1120        batch_normalization_6[0][0]      \n",
      "__________________________________________________________________________________________________\n",
      "global_average_pooling2d (Globa (None, 5)            0           p_re_lu_4[0][0]                  \n",
      "__________________________________________________________________________________________________\n",
      "output (Softmax)                (None, 5)            0           global_average_pooling2d[0][0]   \n",
      "==================================================================================================\n",
      "Total params: 986,249\n",
      "Trainable params: 986,063\n",
      "Non-trainable params: 186\n",
      "__________________________________________________________________________________________________\n"
     ]
    }
   ],
   "source": [
    "# 모델 실행 옵션 \n",
    "model = create_model()\n",
    "model.summary()"
   ]
  },
  {
   "cell_type": "code",
   "execution_count": 9,
   "metadata": {},
   "outputs": [],
   "source": [
    "checkpoint_path = \"check_point/cp.ckpt\"\n",
    "checkpoint_dir = os.path.dirname(checkpoint_path)"
   ]
  },
  {
   "cell_type": "code",
   "execution_count": 10,
   "metadata": {},
   "outputs": [
    {
     "name": "stdout",
     "output_type": "stream",
     "text": [
      "WARNING:tensorflow:From C:\\Users\\yukir\\AppData\\Local\\Temp/ipykernel_19612/3975870180.py:16: Model.fit_generator (from tensorflow.python.keras.engine.training) is deprecated and will be removed in a future version.\n",
      "Instructions for updating:\n",
      "Please use Model.fit, which supports generators.\n",
      "Epoch 1/10\n",
      "362/362 [==============================] - ETA: 0s - loss: 1.5005 - acc: 0.3839\n",
      "Epoch 00001: loss improved from inf to 1.50050, saving model to check_point/cp.ckpt\n",
      "362/362 [==============================] - 21s 57ms/step - loss: 1.5005 - acc: 0.3839 - val_loss: 1.4965 - val_acc: 0.3172\n",
      "Epoch 2/10\n",
      "360/362 [============================>.] - ETA: 0s - loss: 1.4336 - acc: 0.4007- ETA: 0s - loss: 1.4358 - a\n",
      "Epoch 00002: loss improved from 1.50050 to 1.43328, saving model to check_point/cp.ckpt\n",
      "362/362 [==============================] - 20s 55ms/step - loss: 1.4333 - acc: 0.4010 - val_loss: 1.4098 - val_acc: 0.3923\n",
      "Epoch 3/10\n",
      "360/362 [============================>.] - ETA: 0s - loss: 1.3978 - acc: 0.4118- ETA: 1s - loss: 1.4 - ETA: 0s - loss: 1.3980 - acc: 0\n",
      "Epoch 00003: loss improved from 1.43328 to 1.39842, saving model to check_point/cp.ckpt\n",
      "362/362 [==============================] - 20s 56ms/step - loss: 1.3984 - acc: 0.4112 - val_loss: 1.4625 - val_acc: 0.3499\n",
      "Epoch 4/10\n",
      "361/362 [============================>.] - ETA: 0s - loss: 1.3650 - acc: 0.4216- ETA: 3s - loss: 1.3698 - acc: 0 - ETA: 0s - loss: 1.3671 - ac\n",
      "Epoch 00004: loss improved from 1.39842 to 1.36486, saving model to check_point/cp.ckpt\n",
      "362/362 [==============================] - 20s 55ms/step - loss: 1.3649 - acc: 0.4216 - val_loss: 1.4153 - val_acc: 0.3971\n",
      "Epoch 5/10\n",
      "360/362 [============================>.] - ETA: 0s - loss: 1.3303 - acc: 0.4352- ETA: 6s  - ETA: 4s - loss: 1.3369 -  - ETA: 0s - loss: 1.3306 - acc: 0.4\n",
      "Epoch 00005: loss improved from 1.36486 to 1.32961, saving model to check_point/cp.ckpt\n",
      "362/362 [==============================] - 20s 55ms/step - loss: 1.3296 - acc: 0.4354 - val_loss: 1.3566 - val_acc: 0.4237\n",
      "Epoch 6/10\n",
      "360/362 [============================>.] - ETA: 0s - loss: 1.2678 - acc: 0.4543\n",
      "Epoch 00006: loss improved from 1.32961 to 1.26742, saving model to check_point/cp.ckpt\n",
      "362/362 [==============================] - 20s 55ms/step - loss: 1.2674 - acc: 0.4547 - val_loss: 1.7714 - val_acc: 0.1889\n",
      "Epoch 7/10\n",
      "361/362 [============================>.] - ETA: 0s - loss: 1.2068 - acc: 0.4907- ETA: 0s - loss: 1.2068 - acc: 0.490\n",
      "Epoch 00007: loss improved from 1.26742 to 1.20677, saving model to check_point/cp.ckpt\n",
      "362/362 [==============================] - 21s 57ms/step - loss: 1.2068 - acc: 0.4907 - val_loss: 1.6973 - val_acc: 0.2349\n",
      "Epoch 8/10\n",
      "360/362 [============================>.] - ETA: 0s - loss: 1.1565 - acc: 0.5144\n",
      "Epoch 00008: loss improved from 1.20677 to 1.15625, saving model to check_point/cp.ckpt\n",
      "362/362 [==============================] - 21s 59ms/step - loss: 1.1563 - acc: 0.5145 - val_loss: 1.2749 - val_acc: 0.4419\n",
      "Epoch 9/10\n",
      "360/362 [============================>.] - ETA: 0s - loss: 1.1192 - acc: 0.5210\n",
      "Epoch 00009: loss improved from 1.15625 to 1.11904, saving model to check_point/cp.ckpt\n",
      "362/362 [==============================] - 21s 59ms/step - loss: 1.1190 - acc: 0.5215 - val_loss: 1.3451 - val_acc: 0.4564\n",
      "Epoch 10/10\n",
      "360/362 [============================>.] - ETA: 0s - loss: 1.0724 - acc: 0.5422\n",
      "Epoch 00010: loss improved from 1.11904 to 1.07260, saving model to check_point/cp.ckpt\n",
      "362/362 [==============================] - 21s 59ms/step - loss: 1.0726 - acc: 0.5419 - val_loss: 1.7237 - val_acc: 0.3414\n"
     ]
    }
   ],
   "source": [
    "#모델의 가중치 저장\n",
    "checkpoint = ModelCheckpoint(filepath=checkpoint_path,\n",
    "            monitor='loss', \n",
    "            mode='min',\n",
    "            save_best_only=True,\n",
    "            save_weights_only=True,\n",
    "            verbose=1)\n",
    "\n",
    "#새로운 콜백으로 모델 훈련하기\n",
    "history = model.fit_generator(train_generator, \n",
    "            steps_per_epoch=math.ceil(train_generator.n / train_generator.batch_size), \n",
    "            epochs=10, \n",
    "            validation_data=val_generator, \n",
    "            validation_steps=math.ceil(val_generator.n / val_generator.batch_size), \n",
    "            callbacks=[checkpoint],\n",
    "            shuffle=False)"
   ]
  },
  {
   "cell_type": "markdown",
   "metadata": {},
   "source": [
    "### RESULT"
   ]
  },
  {
   "cell_type": "code",
   "execution_count": 11,
   "metadata": {},
   "outputs": [
    {
     "data": {
      "image/png": "[encoded data removed]",
      "text/plain": [
       "<Figure size 1080x360 with 2 Axes>"
      ]
     },
     "metadata": {},
     "output_type": "display_data"
    }
   ],
   "source": [
    "acc = history.history['acc']\n",
    "val_acc = history.history['val_acc']\n",
    "\n",
    "loss = history.history['loss']\n",
    "val_loss = history.history['val_loss']\n",
    "\n",
    "epochs = range(1, len(acc) +1)\n",
    "    \n",
    "    \n",
    "\n",
    "fig = plt.figure()\n",
    "fig.set_size_inches(15, 5)\n",
    "\n",
    "fig.add_subplot(1, 2, 1)\n",
    "plt.plot(epochs, acc, 'b', label ='Training acc')\n",
    "plt.plot(epochs, val_acc, 'r', label = 'Validation acc')\n",
    "plt.title('Training and validation accuracy')\n",
    "plt.legend()\n",
    "\n",
    "# plt.figure()\n",
    "fig.add_subplot(1, 2, 2) \n",
    "plt.plot(epochs, loss, 'b', label = \"Training loss\")\n",
    "plt.plot(epochs, val_loss, 'r', label ='Validation loss')\n",
    "plt.title('Training and validation lose')\n",
    "plt.legend()\n",
    "\n",
    "plt.show()"
   ]
  },
  {
   "cell_type": "code",
   "execution_count": 12,
   "metadata": {},
   "outputs": [
    {
     "name": "stdout",
     "output_type": "stream",
     "text": [
      " C ����̺��� �������� �̸��� �����ϴ�.\n",
      " ���� �Ϸ� ��ȣ: 5848-7E5C\n",
      "\n",
      " C:\\Users\\yukir\\Documents\\Monicas_workspace\\Knee\\check_point ���͸�\n",
      "\n",
      "2022-01-21  ���� 11:05    <DIR>          .\n",
      "2022-01-21  ���� 11:05    <DIR>          ..\n",
      "2022-01-21  ���� 11:05                71 checkpoint\n",
      "2022-01-21  ���� 11:05            14,887 cp.ckpt.data-00000-of-00002\n",
      "2022-01-21  ���� 11:05        11,833,524 cp.ckpt.data-00001-of-00002\n",
      "2022-01-21  ���� 11:05             7,443 cp.ckpt.index\n",
      "               4�� ����          11,855,925 ����Ʈ\n",
      "               2�� ���͸�  187,944,394,752 ����Ʈ ����\n"
     ]
    }
   ],
   "source": [
    "#맥에서는 !ls\n",
    "#저장된 checkpoint확인하기\n",
    "!dir {checkpoint_dir}"
   ]
  },
  {
   "cell_type": "code",
   "execution_count": 13,
   "metadata": {},
   "outputs": [
    {
     "data": {
      "text/plain": [
       "'check_point\\\\cp.ckpt'"
      ]
     },
     "execution_count": 13,
     "metadata": {},
     "output_type": "execute_result"
    }
   ],
   "source": [
    "#가장 마지막에 만들어진 체크포인트 확인\n",
    "latest = tf.train.latest_checkpoint(checkpoint_dir)\n",
    "latest"
   ]
  },
  {
   "cell_type": "code",
   "execution_count": 14,
   "metadata": {},
   "outputs": [
    {
     "name": "stdout",
     "output_type": "stream",
     "text": [
      "104/104 [==============================] - 4s 40ms/step - loss: 1.8788 - acc: 0.1787\n",
      "훈련 안 한 모델의 정확도: 17.87%\n"
     ]
    }
   ],
   "source": [
    "#모델 평가\n",
    "model = create_model()\n",
    "loss, acc = model.evaluate(test_generator)\n",
    "print(\"훈련 안 한 모델의 정확도: {:5.2f}%\".format(100*acc))"
   ]
  },
  {
   "cell_type": "code",
   "execution_count": 15,
   "metadata": {},
   "outputs": [
    {
     "name": "stdout",
     "output_type": "stream",
     "text": [
      "104/104 [==============================] - 4s 36ms/step - loss: 1.7231 - acc: 0.3750\n",
      "복원된 모델의 정확도: 37.50%\n"
     ]
    }
   ],
   "source": [
    "# 가중치 로드\n",
    "model.load_weights(latest)\n",
    "\n",
    "# # 모델 재평가\n",
    "loss,acc = model.evaluate(test_generator)\n",
    "print(\"복원된 모델의 정확도: {:5.2f}%\".format(100*acc))"
   ]
  },
  {
   "cell_type": "code",
   "execution_count": 17,
   "metadata": {},
   "outputs": [],
   "source": [
    "save_dir = 'C:\\\\Users\\\\yukir\\\\Documents\\\\Monicas_workspace\\\\Knee'\n",
    "subject='knees'"
   ]
  },
  {
   "cell_type": "code",
   "execution_count": 19,
   "metadata": {},
   "outputs": [
    {
     "name": "stdout",
     "output_type": "stream",
     "text": [
      "*** classes  ['Normal', 'Doubful', 'Midl', 'Moderate', 'Severe']\n",
      "\u001b[38;2;0;255;0;48;2;55;65;80m          Filename                Predicted Class                True Class           Probability   \n",
      "\u001b[0m\n",
      "\u001b[38;2;255;255;255;48;2;55;65;60m        9003175R.png                     2                           0                  0.3452\n",
      "\u001b[0m\n",
      "\u001b[38;2;255;255;255;48;2;55;65;60m        9003316L.png                     2                           0                  0.7641\n",
      "\u001b[0m\n",
      "\u001b[38;2;255;255;255;48;2;55;65;60m        9003815L.png                     2                           0                  0.4531\n",
      "\u001b[0m\n",
      "\u001b[38;2;255;255;255;48;2;55;65;60m        9003815R.png                     2                           0                  0.7806\n",
      "\u001b[0m\n",
      "\u001b[38;2;255;255;255;48;2;55;65;60m        9004184R.png                     1                           0                  0.3538\n",
      "\u001b[0m\n",
      "\u001b[38;2;255;255;255;48;2;55;65;60m        9006407L.png                     1                           0                  0.3708\n",
      "\u001b[0m\n",
      "\u001b[38;2;255;255;255;48;2;55;65;60m        9009957L.png                     2                           0                  0.6352\n",
      "\u001b[0m\n",
      "\u001b[38;2;255;255;255;48;2;55;65;60m        9010308R.png                     2                           0                  0.7071\n",
      "\u001b[0m\n",
      "\u001b[38;2;255;255;255;48;2;55;65;60m        9013941L.png                     2                           0                  0.4680\n",
      "\u001b[0m\n",
      "\u001b[38;2;255;255;255;48;2;55;65;60m        9013941R.png                     2                           0                  0.5465\n",
      "\u001b[0m\n"
     ]
    },
    {
     "data": {
      "image/png": "[encoded data removed]",
      "text/plain": [
       "<Figure size 720x120 with 1 Axes>"
      ]
     },
     "metadata": {},
     "output_type": "display_data"
    },
    {
     "data": {
      "image/png": "[encoded data removed]",
      "text/plain": [
       "<Figure size 576x576 with 1 Axes>"
      ]
     },
     "metadata": {},
     "output_type": "display_data"
    },
    {
     "name": "stdout",
     "output_type": "stream",
     "text": [
      "Classification Report:\n",
      "----------------------\n",
      "               precision    recall  f1-score   support\n",
      "\n",
      "      Normal       0.37      0.17      0.23       639\n",
      "     Doubful       0.19      0.29      0.23       296\n",
      "        Midl       0.27      0.55      0.36       447\n",
      "    Moderate       0.00      0.00      0.00       223\n",
      "      Severe       0.00      0.00      0.00        51\n",
      "\n",
      "    accuracy                           0.27      1656\n",
      "   macro avg       0.17      0.20      0.16      1656\n",
      "weighted avg       0.25      0.27      0.23      1656\n",
      "\n"
     ]
    }
   ],
   "source": [
    "preds=model.predict(test_generator, batch_size=16, verbose=0, steps=1656/16)\n",
    "print_code=10\n",
    "print_info( test_generator, preds, print_code, save_dir, subject ) "
   ]
  },
  {
   "cell_type": "code",
   "execution_count": null,
   "metadata": {},
   "outputs": [],
   "source": []
  },
  {
   "cell_type": "code",
   "execution_count": null,
   "metadata": {},
   "outputs": [],
   "source": []
  },
  {
   "cell_type": "code",
   "execution_count": null,
   "metadata": {},
   "outputs": [],
   "source": []
  }
 ],
 "metadata": {
  "interpreter": {
   "hash": "2d93d6df27dcc797823232b994e4f43d959f011089850837812bf48ca3e70a46"
  },
  "kernelspec": {
   "display_name": "Python 3.7.11 64-bit ('tensorflow37': conda)",
   "language": "python",
   "name": "python3"
  },
  "language_info": {
   "codemirror_mode": {
    "name": "ipython",
    "version": 3
   },
   "file_extension": ".py",
   "mimetype": "text/x-python",
   "name": "python",
   "nbconvert_exporter": "python",
   "pygments_lexer": "ipython3",
   "version": "3.7.11"
  },
  "orig_nbformat": 4
 },
 "nbformat": 4,
 "nbformat_minor": 2
}
