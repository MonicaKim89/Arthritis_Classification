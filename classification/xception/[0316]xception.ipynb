{
 "cells": [
  {
   "cell_type": "code",
   "execution_count": 54,
   "metadata": {},
   "outputs": [
    {
     "name": "stdout",
     "output_type": "stream",
     "text": [
      "C:\\Users\\yukir\\Documents\\GitHub\\Sign_Recognition\\py\n",
      "[name: \"/device:CPU:0\"\n",
      "device_type: \"CPU\"\n",
      "memory_limit: 268435456\n",
      "locality {\n",
      "}\n",
      "incarnation: 12429037738060100663\n",
      ", name: \"/device:XLA_CPU:0\"\n",
      "device_type: \"XLA_CPU\"\n",
      "memory_limit: 17179869184\n",
      "locality {\n",
      "}\n",
      "incarnation: 16797565939088312483\n",
      "physical_device_desc: \"device: XLA_CPU device\"\n",
      ", name: \"/device:GPU:0\"\n",
      "device_type: \"GPU\"\n",
      "memory_limit: 9883535296\n",
      "locality {\n",
      "  bus_id: 1\n",
      "  links {\n",
      "  }\n",
      "}\n",
      "incarnation: 5299630727136419782\n",
      "physical_device_desc: \"device: 0, name: NVIDIA GeForce RTX 2080 Ti, pci bus id: 0000:01:00.0, compute capability: 7.5\"\n",
      ", name: \"/device:XLA_GPU:0\"\n",
      "device_type: \"XLA_GPU\"\n",
      "memory_limit: 17179869184\n",
      "locality {\n",
      "}\n",
      "incarnation: 1175499543468443476\n",
      "physical_device_desc: \"device: XLA_GPU device\"\n",
      "]\n",
      "tf 2.2.0\n",
      "keras 2.3.0-tf\n",
      "set_global_determinism(seed=1337) 이거 꼭 해라\n",
      "set_global_determinism(seed=1337) 이거 꼭 해라\n",
      "set_global_determinism(seed=1337) 이거 꼭 해라\n",
      "C:\\Users\\yukir\\Documents\\Monicas_workspace\\Knee\n"
     ]
    }
   ],
   "source": [
    "%cd C:\\Users\\yukir\\Documents\\GitHub\\Sign_Recognition\\py\n",
    "\n",
    "from basic_preprocessing import *\n",
    "from deeplearning_check import *\n",
    "from machine_learning import *\n",
    "\n",
    "gpu_check()\n",
    "set_global_determinism(seed=SEED)\n",
    "\n",
    "%cd C:\\Users\\yukir\\Documents\\Monicas_workspace\\Knee"
   ]
  },
  {
   "cell_type": "code",
   "execution_count": 55,
   "metadata": {},
   "outputs": [],
   "source": [
    "%matplotlib inline\n",
    "import numpy as np \n",
    "import pandas as pd\n",
    "import os\n",
    "from glob import glob\n",
    "import matplotlib.pyplot as plt\n",
    "from keras_preprocessing.image import ImageDataGenerator\n",
    "from tensorflow.keras.applications import ResNet152V2\n",
    "from tensorflow.keras.layers import GlobalAveragePooling2D\n",
    "import tensorflow as tf\n",
    "from tensorflow.keras.callbacks import ModelCheckpoint, EarlyStopping, ReduceLROnPlateau\n",
    "from keras.models import Model"
   ]
  },
  {
   "cell_type": "code",
   "execution_count": 56,
   "metadata": {},
   "outputs": [],
   "source": [
    "from tensorflow.keras.applications import Xception"
   ]
  },
  {
   "cell_type": "code",
   "execution_count": 57,
   "metadata": {},
   "outputs": [],
   "source": [
    "model = tf.keras.applications.xception.Xception(\n",
    "    include_top=True, weights='imagenet', input_tensor=None,\n",
    "    input_shape=None, pooling=None, classes=1000,\n",
    "    classifier_activation='softmax'\n",
    ")"
   ]
  },
  {
   "cell_type": "code",
   "execution_count": 58,
   "metadata": {},
   "outputs": [],
   "source": [
    "n_class = 5\n",
    "\n",
    "# path to kaggle dataset\n",
    "root_path = \"C:\\\\Users\\\\yukir\\\\Documents\\\\Monicas_workspace\\\\NEW_Knee\\\\data\\\\archive\\\\\"\n",
    "\n",
    "# list of folders\n",
    "folder_list = os.listdir(root_path)\n",
    "image_path_list = []\n",
    "label_list = []\n",
    "\n",
    "# for each folder, get the image path and labels\n",
    "for folder in folder_list:\n",
    "    for label in range(n_class):\n",
    "        \n",
    "        # get all the images path inside the current folder\n",
    "        image_list = os.listdir(f\"{root_path}{folder}/{label}\")\n",
    "        # add to the image path list\n",
    "        image_path_list += [ f\"{root_path}{folder}/{label}/\"+ path for path in image_list]\n",
    "        \n",
    "        # add labels to the label list\n",
    "        label_list += [label] * len(image_list)\n",
    "\n",
    "# convert to dataframe\n",
    "df_train_kaggle = pd.DataFrame({\"filepath\" : image_path_list, \"label\": label_list})"
   ]
  },
  {
   "cell_type": "code",
   "execution_count": 59,
   "metadata": {},
   "outputs": [
    {
     "data": {
      "text/plain": [
       "0    3857\n",
       "2    2578\n",
       "1    1770\n",
       "3    1286\n",
       "4     295\n",
       "Name: label, dtype: int64"
      ]
     },
     "execution_count": 59,
     "metadata": {},
     "output_type": "execute_result"
    }
   ],
   "source": [
    "df_train_kaggle.label.value_counts()"
   ]
  },
  {
   "cell_type": "code",
   "execution_count": 60,
   "metadata": {},
   "outputs": [
    {
     "data": {
      "text/plain": [
       "(9786, 2)"
      ]
     },
     "execution_count": 60,
     "metadata": {},
     "output_type": "execute_result"
    }
   ],
   "source": [
    "df_train_kaggle.shape"
   ]
  },
  {
   "cell_type": "markdown",
   "metadata": {},
   "source": [
    "### class distribution"
   ]
  },
  {
   "cell_type": "code",
   "execution_count": 61,
   "metadata": {},
   "outputs": [
    {
     "data": {
      "text/plain": [
       "Text(0, 0.5, 'count')"
      ]
     },
     "execution_count": 61,
     "metadata": {},
     "output_type": "execute_result"
    },
    {
     "data": {
      "image/png": "[encoded data removed]",
      "text/plain": [
       "<Figure size 432x288 with 1 Axes>"
      ]
     },
     "metadata": {
      "needs_background": "light"
     },
     "output_type": "display_data"
    }
   ],
   "source": [
    "df_train_kaggle.label.value_counts().plot.bar()\n",
    "plt.xlabel(\"label\")\n",
    "plt.ylabel(\"count\")"
   ]
  },
  {
   "cell_type": "code",
   "execution_count": 62,
   "metadata": {},
   "outputs": [],
   "source": [
    "# train data generator object\n",
    "train_aug = ImageDataGenerator(rescale=1./255)\n",
    "\n",
    "# validation data generator object\n",
    "valid_aug = ImageDataGenerator(rescale=1./255)"
   ]
  },
  {
   "cell_type": "code",
   "execution_count": 63,
   "metadata": {},
   "outputs": [
    {
     "name": "stdout",
     "output_type": "stream",
     "text": [
      "Found 9786 validated image filenames.\n"
     ]
    }
   ],
   "source": [
    "# create train generator\n",
    "train_generator = train_aug.flow_from_dataframe(\n",
    "dataframe=df_train_kaggle,\n",
    "directory=None,\n",
    "x_col=\"filepath\",\n",
    "y_col=\"label\",\n",
    "batch_size=32,\n",
    "seed=42,\n",
    "shuffle=True,\n",
    "class_mode=\"raw\",\n",
    "target_size=(224,224))"
   ]
  },
  {
   "cell_type": "code",
   "execution_count": 64,
   "metadata": {},
   "outputs": [
    {
     "name": "stdout",
     "output_type": "stream",
     "text": [
      "C:\\Users\\yukir\\Documents\\Monicas_workspace\\NEW_Knee\\data\n"
     ]
    }
   ],
   "source": [
    "%cd C:\\Users\\yukir\\Documents\\Monicas_workspace\\NEW_Knee\\data"
   ]
  },
  {
   "cell_type": "code",
   "execution_count": 65,
   "metadata": {},
   "outputs": [],
   "source": [
    "# !gdown --id \"1NdDqPK4NLn2aV8ZdF5ilux1sfG6IyebC\""
   ]
  },
  {
   "cell_type": "code",
   "execution_count": 66,
   "metadata": {},
   "outputs": [
    {
     "data": {
      "text/html": [
       "<div>\n",
       "<style scoped>\n",
       "    .dataframe tbody tr th:only-of-type {\n",
       "        vertical-align: middle;\n",
       "    }\n",
       "\n",
       "    .dataframe tbody tr th {\n",
       "        vertical-align: top;\n",
       "    }\n",
       "\n",
       "    .dataframe thead th {\n",
       "        text-align: right;\n",
       "    }\n",
       "</style>\n",
       "<table border=\"1\" class=\"dataframe\">\n",
       "  <thead>\n",
       "    <tr style=\"text-align: right;\">\n",
       "      <th></th>\n",
       "      <th>filename</th>\n",
       "      <th>label</th>\n",
       "    </tr>\n",
       "  </thead>\n",
       "  <tbody>\n",
       "    <tr>\n",
       "      <th>0</th>\n",
       "      <td>C:\\Users\\yukir\\Documents\\Monicas_workspace\\NEW...</td>\n",
       "      <td>0</td>\n",
       "    </tr>\n",
       "    <tr>\n",
       "      <th>1</th>\n",
       "      <td>C:\\Users\\yukir\\Documents\\Monicas_workspace\\NEW...</td>\n",
       "      <td>1</td>\n",
       "    </tr>\n",
       "    <tr>\n",
       "      <th>2</th>\n",
       "      <td>C:\\Users\\yukir\\Documents\\Monicas_workspace\\NEW...</td>\n",
       "      <td>0</td>\n",
       "    </tr>\n",
       "    <tr>\n",
       "      <th>3</th>\n",
       "      <td>C:\\Users\\yukir\\Documents\\Monicas_workspace\\NEW...</td>\n",
       "      <td>1</td>\n",
       "    </tr>\n",
       "    <tr>\n",
       "      <th>4</th>\n",
       "      <td>C:\\Users\\yukir\\Documents\\Monicas_workspace\\NEW...</td>\n",
       "      <td>2</td>\n",
       "    </tr>\n",
       "  </tbody>\n",
       "</table>\n",
       "</div>"
      ],
      "text/plain": [
       "                                            filename  label\n",
       "0  C:\\Users\\yukir\\Documents\\Monicas_workspace\\NEW...      0\n",
       "1  C:\\Users\\yukir\\Documents\\Monicas_workspace\\NEW...      1\n",
       "2  C:\\Users\\yukir\\Documents\\Monicas_workspace\\NEW...      0\n",
       "3  C:\\Users\\yukir\\Documents\\Monicas_workspace\\NEW...      1\n",
       "4  C:\\Users\\yukir\\Documents\\Monicas_workspace\\NEW...      2"
      ]
     },
     "execution_count": 66,
     "metadata": {},
     "output_type": "execute_result"
    }
   ],
   "source": [
    "# read Train.csv file which contains image names and labels and preprocess them\n",
    "compi_root_path= \"C:\\\\Users\\\\yukir\\\\Documents\\\\Monicas_workspace\\\\NEW_Knee\\\\data\\\\KneeXray\\\\KneeXray\\\\\"\n",
    "df_val_compi = pd.read_csv(compi_root_path + \"Train.csv\")\n",
    "\n",
    "# add absolute path to the image names\n",
    "df_val_compi[\"filename\"] = df_val_compi.filename.apply(lambda x: compi_root_path+\"train/\" + x)\n",
    "df_val_compi.head()"
   ]
  },
  {
   "cell_type": "code",
   "execution_count": 67,
   "metadata": {},
   "outputs": [
    {
     "data": {
      "text/plain": [
       "Text(0, 0.5, 'count')"
      ]
     },
     "execution_count": 67,
     "metadata": {},
     "output_type": "execute_result"
    },
    {
     "data": {
      "image/png": "[encoded data removed]",
      "text/plain": [
       "<Figure size 432x288 with 1 Axes>"
      ]
     },
     "metadata": {
      "needs_background": "light"
     },
     "output_type": "display_data"
    }
   ],
   "source": [
    "# class count of compitition dataset\n",
    "df_val_compi.label.value_counts().plot.bar()\n",
    "plt.xlabel(\"label\")\n",
    "plt.ylabel(\"count\")"
   ]
  },
  {
   "cell_type": "code",
   "execution_count": 68,
   "metadata": {},
   "outputs": [
    {
     "name": "stdout",
     "output_type": "stream",
     "text": [
      "Found 7828 validated image filenames.\n"
     ]
    }
   ],
   "source": [
    "# create validation generator\n",
    "valid_generator = valid_aug.flow_from_dataframe( \n",
    "dataframe= df_val_compi,\n",
    "x_col= \"filename\",\n",
    "y_col= \"label\",\n",
    "batch_size= 32,\n",
    "seed= 42,\n",
    "shuffle= True,\n",
    "class_mode= \"raw\",\n",
    "target_size= (224,224))"
   ]
  },
  {
   "cell_type": "code",
   "execution_count": null,
   "metadata": {},
   "outputs": [],
   "source": []
  },
  {
   "cell_type": "code",
   "execution_count": null,
   "metadata": {},
   "outputs": [],
   "source": []
  },
  {
   "cell_type": "code",
   "execution_count": 69,
   "metadata": {},
   "outputs": [],
   "source": [
    "# compile\n",
    "model.compile(optimizer = tf.keras.optimizers.Adam(learning_rate=0.00001,decay=0.0001),\n",
    "                 metrics=[\"acc\"],\n",
    "                 loss= tf.keras.losses.sparse_categorical_crossentropy)\n",
    "\n",
    "# callbacks and checkpoints\n",
    "checkpoint_path = \"xception_best.ckpt\"\n",
    "checkpoint_dir = os.path.dirname(checkpoint_path)\n",
    "my_callbacks = [\n",
    "               ModelCheckpoint(checkpoint_path,\n",
    "                               monitor = 'val_acc',\n",
    "                               verbose = 1,\n",
    "                               save_weights_only=True,\n",
    "                               save_best_only = True,\n",
    "                               mode=\"max\"),\n",
    "              EarlyStopping(monitor='val_loss',\n",
    "                            patience=5,\n",
    "                            verbose=0),\n",
    "              ReduceLROnPlateau(monitor='val_loss',\n",
    "                                patience=5,\n",
    "                                verbose=1)\n",
    "]"
   ]
  },
  {
   "cell_type": "code",
   "execution_count": 70,
   "metadata": {},
   "outputs": [],
   "source": [
    "from sklearn.utils import class_weight\n",
    "class_weights = class_weight.compute_class_weight('balanced',\n",
    "                                                 classes= np.unique(df_train_kaggle.label.values),\n",
    "                                                 y= df_train_kaggle.label.values)\n",
    "class_weights = dict(enumerate(class_weights))"
   ]
  },
  {
   "cell_type": "code",
   "execution_count": 71,
   "metadata": {},
   "outputs": [
    {
     "data": {
      "text/plain": [
       "{0: 0.5074410163339383,\n",
       " 1: 1.1057627118644069,\n",
       " 2: 0.7591931730023274,\n",
       " 3: 1.5219284603421461,\n",
       " 4: 6.63457627118644}"
      ]
     },
     "execution_count": 71,
     "metadata": {},
     "output_type": "execute_result"
    }
   ],
   "source": [
    "class_weights"
   ]
  },
  {
   "cell_type": "code",
   "execution_count": 72,
   "metadata": {},
   "outputs": [
    {
     "name": "stdout",
     "output_type": "stream",
     "text": [
      "Found 7828 validated image filenames.\n"
     ]
    }
   ],
   "source": [
    "# create validation generator\n",
    "valid_generator = valid_aug.flow_from_dataframe( \n",
    "dataframe= df_val_compi,\n",
    "x_col= \"filename\",\n",
    "y_col= \"label\",\n",
    "batch_size= 32,\n",
    "seed= 42,\n",
    "shuffle= True,\n",
    "class_mode= \"raw\",\n",
    "target_size= (224,224))"
   ]
  },
  {
   "cell_type": "code",
   "execution_count": 73,
   "metadata": {},
   "outputs": [
    {
     "name": "stdout",
     "output_type": "stream",
     "text": [
      "Epoch 1/100\n"
     ]
    },
    {
     "name": "stderr",
     "output_type": "stream",
     "text": [
      "C:\\Users\\yukir\\anaconda3\\envs\\tensorflow37\\lib\\site-packages\\gdown\\cli.py:131: FutureWarning: Option `--id` was deprecated in version 4.3.1 and will be removed in 5.0. You don't need to pass it anymore to use a file ID.\n",
      "  category=FutureWarning,\n",
      "Downloading...\n",
      "From: https://drive.google.com/uc?id=1NdDqPK4NLn2aV8ZdF5ilux1sfG6IyebC\n",
      "To: C:\\Users\\yukir\\Documents\\Monicas_workspace\\NEW_Knee\\data\\KneeXray.zip\n",
      "\n",
      "  0%|          | 0.00/120M [00:00<?, ?B/s]\n",
      "  0%|          | 524k/120M [00:00<01:43, 1.15MB/s]\n",
      "  1%|          | 1.05M/120M [00:00<00:56, 2.11MB/s]\n",
      "  2%|▏         | 2.10M/120M [00:00<00:28, 4.18MB/s]\n",
      "  3%|▎         | 3.15M/120M [00:00<00:26, 4.45MB/s]\n",
      "  4%|▎         | 4.19M/120M [00:01<00:25, 4.44MB/s]\n",
      "  6%|▌         | 6.82M/120M [00:01<00:13, 8.16MB/s]\n",
      "  7%|▋         | 7.86M/120M [00:01<00:12, 8.62MB/s]\n",
      "  8%|▊         | 9.44M/120M [00:01<00:11, 9.49MB/s]\n",
      "  9%|▉         | 11.0M/120M [00:01<00:10, 10.1MB/s]\n",
      " 11%|█         | 12.6M/120M [00:01<00:10, 10.6MB/s]\n",
      " 12%|█▏        | 14.2M/120M [00:01<00:10, 10.3MB/s]\n",
      " 13%|█▎        | 15.7M/120M [00:02<00:09, 10.8MB/s]\n",
      " 14%|█▍        | 17.3M/120M [00:02<00:09, 11.1MB/s]\n",
      " 16%|█▌        | 18.9M/120M [00:02<00:08, 11.3MB/s]\n",
      " 17%|█▋        | 20.4M/120M [00:02<00:10, 9.59MB/s]\n",
      " 19%|█▉        | 23.1M/120M [00:02<00:08, 11.8MB/s]\n",
      " 21%|██        | 24.6M/120M [00:02<00:08, 11.8MB/s]\n",
      " 22%|██▏       | 26.2M/120M [00:02<00:07, 11.8MB/s]\n",
      " 23%|██▎       | 27.8M/120M [00:03<00:09, 9.93MB/s]\n",
      " 25%|██▌       | 30.4M/120M [00:03<00:07, 12.2MB/s]\n",
      " 27%|██▋       | 32.0M/120M [00:03<00:07, 12.1MB/s]\n",
      " 28%|██▊       | 33.6M/120M [00:03<00:07, 12.0MB/s]\n",
      " 29%|██▉       | 35.1M/120M [00:03<00:08, 9.94MB/s]\n",
      " 32%|███▏      | 37.7M/120M [00:03<00:06, 12.5MB/s]\n",
      " 33%|███▎      | 39.3M/120M [00:04<00:06, 12.3MB/s]\n",
      " 34%|███▍      | 40.9M/120M [00:04<00:06, 12.2MB/s]\n",
      " 35%|███▌      | 42.5M/120M [00:04<00:07, 10.1MB/s]\n",
      " 37%|███▋      | 44.0M/120M [00:04<00:07, 9.53MB/s]\n",
      " 38%|███▊      | 45.6M/120M [00:04<00:08, 8.66MB/s]\n",
      " 40%|████      | 48.2M/120M [00:04<00:06, 11.0MB/s]\n",
      " 42%|████▏     | 49.8M/120M [00:05<00:06, 11.2MB/s]\n",
      " 43%|████▎     | 51.4M/120M [00:05<00:06, 11.4MB/s]\n",
      " 44%|████▍     | 53.0M/120M [00:05<00:06, 9.77MB/s]\n",
      " 46%|████▋     | 55.6M/120M [00:05<00:06, 10.2MB/s]\n",
      " 48%|████▊     | 57.1M/120M [00:05<00:06, 10.4MB/s]\n",
      " 49%|████▉     | 58.7M/120M [00:05<00:05, 10.7MB/s]\n",
      " 50%|█████     | 60.3M/120M [00:06<00:06, 9.45MB/s]\n",
      " 53%|█████▎    | 62.9M/120M [00:06<00:04, 11.7MB/s]\n",
      " 54%|█████▍    | 64.5M/120M [00:06<00:05, 9.55MB/s]\n",
      " 55%|█████▌    | 66.1M/120M [00:06<00:05, 10.1MB/s]\n",
      " 57%|█████▋    | 67.6M/120M [00:06<00:05, 10.3MB/s]\n",
      " 58%|█████▊    | 69.2M/120M [00:07<00:04, 10.7MB/s]\n",
      " 59%|█████▉    | 70.8M/120M [00:07<00:04, 11.0MB/s]\n",
      " 60%|██████    | 72.4M/120M [00:07<00:04, 11.2MB/s]\n",
      " 62%|██████▏   | 73.9M/120M [00:07<00:04, 9.92MB/s]\n",
      " 63%|██████▎   | 75.5M/120M [00:07<00:04, 9.82MB/s]\n",
      " 64%|██████▍   | 77.1M/120M [00:07<00:04, 10.3MB/s]\n",
      " 66%|██████▌   | 78.6M/120M [00:07<00:03, 10.8MB/s]\n",
      " 67%|██████▋   | 80.2M/120M [00:08<00:04, 9.52MB/s]\n",
      " 69%|██████▉   | 82.3M/120M [00:08<00:03, 11.6MB/s]\n",
      " 70%|███████   | 83.9M/120M [00:08<00:03, 11.7MB/s]\n",
      " 71%|███████▏  | 85.5M/120M [00:08<00:02, 11.7MB/s]\n",
      " 73%|███████▎  | 87.0M/120M [00:08<00:03, 10.1MB/s]\n",
      " 74%|███████▍  | 89.1M/120M [00:08<00:02, 11.9MB/s]\n",
      " 76%|███████▌  | 90.7M/120M [00:08<00:02, 11.8MB/s]\n",
      " 77%|███████▋  | 92.3M/120M [00:09<00:02, 11.7MB/s]\n",
      " 78%|███████▊  | 93.8M/120M [00:09<00:02, 11.8MB/s]\n",
      " 80%|███████▉  | 95.4M/120M [00:09<00:02, 10.0MB/s]\n",
      " 81%|████████  | 97.0M/120M [00:09<00:02, 9.94MB/s]\n",
      " 82%|████████▏ | 98.6M/120M [00:09<00:02, 10.4MB/s]\n",
      " 84%|████████▎ | 100M/120M [00:09<00:02, 9.26MB/s] \n",
      " 85%|████████▌ | 102M/120M [00:10<00:01, 11.3MB/s]\n",
      " 87%|████████▋ | 104M/120M [00:10<00:01, 11.4MB/s]\n",
      " 88%|████████▊ | 105M/120M [00:10<00:01, 11.5MB/s]\n",
      " 89%|████████▉ | 107M/120M [00:10<00:01, 11.6MB/s]\n",
      " 91%|█████████ | 109M/120M [00:10<00:00, 11.2MB/s]\n",
      " 92%|█████████▏| 110M/120M [00:10<00:00, 11.6MB/s]\n",
      " 93%|█████████▎| 112M/120M [00:10<00:00, 11.4MB/s]\n",
      " 95%|█████████▍| 113M/120M [00:11<00:00, 11.4MB/s]\n",
      " 96%|█████████▌| 115M/120M [00:11<00:00, 8.66MB/s]\n",
      " 97%|█████████▋| 116M/120M [00:11<00:00, 9.28MB/s]\n",
      " 99%|█████████▊| 118M/120M [00:11<00:00, 9.94MB/s]\n",
      "100%|█████████▉| 120M/120M [00:11<00:00, 10.4MB/s]\n",
      "100%|██████████| 120M/120M [00:11<00:00, 10.2MB/s]\n"
     ]
    },
    {
     "name": "stdout",
     "output_type": "stream",
     "text": [
      "306/306 [==============================] - ETA: 0s - loss: 4.1481 - acc: 0.2119\n",
      "Epoch 00001: val_acc improved from -inf to 0.26648, saving model to xception_best.ckpt\n",
      "306/306 [==============================] - 138s 450ms/step - loss: 4.1481 - acc: 0.2119 - val_loss: 2.1382 - val_acc: 0.2665 - lr: 1.0000e-05\n",
      "Epoch 2/100\n",
      "306/306 [==============================] - ETA: 0s - loss: 1.4420 - acc: 0.4407\n",
      "Epoch 00002: val_acc improved from 0.26648 to 0.39997, saving model to xception_best.ckpt\n",
      "306/306 [==============================] - 135s 441ms/step - loss: 1.4420 - acc: 0.4407 - val_loss: 1.5087 - val_acc: 0.4000 - lr: 1.0000e-05\n",
      "Epoch 3/100\n",
      "306/306 [==============================] - ETA: 0s - loss: 1.0418 - acc: 0.5184\n",
      "Epoch 00003: val_acc improved from 0.39997 to 0.57256, saving model to xception_best.ckpt\n",
      "306/306 [==============================] - 135s 442ms/step - loss: 1.0418 - acc: 0.5184 - val_loss: 1.0806 - val_acc: 0.5726 - lr: 1.0000e-05\n",
      "Epoch 4/100\n",
      "306/306 [==============================] - ETA: 0s - loss: 0.8771 - acc: 0.5695\n",
      "Epoch 00004: val_acc improved from 0.57256 to 0.59057, saving model to xception_best.ckpt\n",
      "306/306 [==============================] - 134s 438ms/step - loss: 0.8771 - acc: 0.5695 - val_loss: 1.0079 - val_acc: 0.5906 - lr: 1.0000e-05\n",
      "Epoch 5/100\n",
      "306/306 [==============================] - ETA: 0s - loss: 0.7506 - acc: 0.6264\n",
      "Epoch 00005: val_acc improved from 0.59057 to 0.65496, saving model to xception_best.ckpt\n",
      "306/306 [==============================] - 133s 435ms/step - loss: 0.7506 - acc: 0.6264 - val_loss: 0.8753 - val_acc: 0.6550 - lr: 1.0000e-05\n",
      "Epoch 6/100\n",
      "306/306 [==============================] - ETA: 0s - loss: 0.6334 - acc: 0.6814\n",
      "Epoch 00006: val_acc improved from 0.65496 to 0.66658, saving model to xception_best.ckpt\n",
      "306/306 [==============================] - 134s 438ms/step - loss: 0.6334 - acc: 0.6814 - val_loss: 0.8378 - val_acc: 0.6666 - lr: 1.0000e-05\n",
      "Epoch 7/100\n",
      "306/306 [==============================] - ETA: 0s - loss: 0.5400 - acc: 0.7333\n",
      "Epoch 00007: val_acc improved from 0.66658 to 0.71002, saving model to xception_best.ckpt\n",
      "306/306 [==============================] - 137s 446ms/step - loss: 0.5400 - acc: 0.7333 - val_loss: 0.7229 - val_acc: 0.7100 - lr: 1.0000e-05\n",
      "Epoch 8/100\n",
      "306/306 [==============================] - ETA: 0s - loss: 0.4459 - acc: 0.7854\n",
      "Epoch 00008: val_acc improved from 0.71002 to 0.76162, saving model to xception_best.ckpt\n",
      "306/306 [==============================] - 139s 456ms/step - loss: 0.4459 - acc: 0.7854 - val_loss: 0.6169 - val_acc: 0.7616 - lr: 1.0000e-05\n",
      "Epoch 9/100\n",
      "306/306 [==============================] - ETA: 0s - loss: 0.3575 - acc: 0.8350\n",
      "Epoch 00009: val_acc improved from 0.76162 to 0.77670, saving model to xception_best.ckpt\n",
      "306/306 [==============================] - 141s 460ms/step - loss: 0.3575 - acc: 0.8350 - val_loss: 0.5898 - val_acc: 0.7767 - lr: 1.0000e-05\n",
      "Epoch 10/100\n",
      "306/306 [==============================] - ETA: 0s - loss: 0.2701 - acc: 0.8834\n",
      "Epoch 00010: val_acc improved from 0.77670 to 0.82333, saving model to xception_best.ckpt\n",
      "306/306 [==============================] - 140s 456ms/step - loss: 0.2701 - acc: 0.8834 - val_loss: 0.4803 - val_acc: 0.8233 - lr: 1.0000e-05\n",
      "Epoch 11/100\n",
      "306/306 [==============================] - ETA: 0s - loss: 0.2083 - acc: 0.9185\n",
      "Epoch 00011: val_acc improved from 0.82333 to 0.82971, saving model to xception_best.ckpt\n",
      "306/306 [==============================] - 141s 459ms/step - loss: 0.2083 - acc: 0.9185 - val_loss: 0.4543 - val_acc: 0.8297 - lr: 1.0000e-05\n",
      "Epoch 12/100\n",
      "306/306 [==============================] - ETA: 0s - loss: 0.1434 - acc: 0.9527\n",
      "Epoch 00012: val_acc improved from 0.82971 to 0.86254, saving model to xception_best.ckpt\n",
      "306/306 [==============================] - 135s 441ms/step - loss: 0.1434 - acc: 0.9527 - val_loss: 0.3876 - val_acc: 0.8625 - lr: 1.0000e-05\n",
      "Epoch 13/100\n",
      "306/306 [==============================] - ETA: 0s - loss: 0.1070 - acc: 0.9661\n",
      "Epoch 00013: val_acc improved from 0.86254 to 0.87621, saving model to xception_best.ckpt\n",
      "306/306 [==============================] - 134s 439ms/step - loss: 0.1070 - acc: 0.9661 - val_loss: 0.3464 - val_acc: 0.8762 - lr: 1.0000e-05\n",
      "Epoch 14/100\n",
      "306/306 [==============================] - ETA: 0s - loss: 0.0739 - acc: 0.9818\n",
      "Epoch 00014: val_acc improved from 0.87621 to 0.87685, saving model to xception_best.ckpt\n",
      "306/306 [==============================] - 132s 432ms/step - loss: 0.0739 - acc: 0.9818 - val_loss: 0.3489 - val_acc: 0.8769 - lr: 1.0000e-05\n",
      "Epoch 15/100\n",
      "306/306 [==============================] - ETA: 0s - loss: 0.0586 - acc: 0.9852\n",
      "Epoch 00015: val_acc improved from 0.87685 to 0.89167, saving model to xception_best.ckpt\n",
      "306/306 [==============================] - 135s 441ms/step - loss: 0.0586 - acc: 0.9852 - val_loss: 0.3090 - val_acc: 0.8917 - lr: 1.0000e-05\n",
      "Epoch 16/100\n",
      "306/306 [==============================] - ETA: 0s - loss: 0.0523 - acc: 0.9858\n",
      "Epoch 00016: val_acc improved from 0.89167 to 0.90112, saving model to xception_best.ckpt\n",
      "306/306 [==============================] - 134s 439ms/step - loss: 0.0523 - acc: 0.9858 - val_loss: 0.2863 - val_acc: 0.9011 - lr: 1.0000e-05\n",
      "Epoch 17/100\n",
      "306/306 [==============================] - ETA: 0s - loss: 0.0383 - acc: 0.9912\n",
      "Epoch 00017: val_acc improved from 0.90112 to 0.90278, saving model to xception_best.ckpt\n",
      "306/306 [==============================] - 134s 438ms/step - loss: 0.0383 - acc: 0.9912 - val_loss: 0.2747 - val_acc: 0.9028 - lr: 1.0000e-05\n",
      "Epoch 18/100\n",
      "306/306 [==============================] - ETA: 0s - loss: 0.0347 - acc: 0.9933\n",
      "Epoch 00018: val_acc improved from 0.90278 to 0.91300, saving model to xception_best.ckpt\n",
      "306/306 [==============================] - 134s 437ms/step - loss: 0.0347 - acc: 0.9933 - val_loss: 0.2517 - val_acc: 0.9130 - lr: 1.0000e-05\n",
      "Epoch 19/100\n",
      "306/306 [==============================] - ETA: 0s - loss: 0.0244 - acc: 0.9955\n",
      "Epoch 00019: val_acc did not improve from 0.91300\n",
      "306/306 [==============================] - 139s 454ms/step - loss: 0.0244 - acc: 0.9955 - val_loss: 0.2758 - val_acc: 0.9052 - lr: 1.0000e-05\n",
      "Epoch 20/100\n",
      "306/306 [==============================] - ETA: 0s - loss: 0.0251 - acc: 0.9950\n",
      "Epoch 00020: val_acc improved from 0.91300 to 0.91850, saving model to xception_best.ckpt\n",
      "306/306 [==============================] - 140s 456ms/step - loss: 0.0251 - acc: 0.9950 - val_loss: 0.2292 - val_acc: 0.9185 - lr: 1.0000e-05\n",
      "Epoch 21/100\n",
      "306/306 [==============================] - ETA: 0s - loss: 0.0204 - acc: 0.9958\n",
      "Epoch 00021: val_acc did not improve from 0.91850\n",
      "306/306 [==============================] - 138s 451ms/step - loss: 0.0204 - acc: 0.9958 - val_loss: 0.2362 - val_acc: 0.9176 - lr: 1.0000e-05\n",
      "Epoch 22/100\n",
      "306/306 [==============================] - ETA: 0s - loss: 0.0176 - acc: 0.9965\n",
      "Epoch 00022: val_acc improved from 0.91850 to 0.91875, saving model to xception_best.ckpt\n",
      "306/306 [==============================] - 141s 459ms/step - loss: 0.0176 - acc: 0.9965 - val_loss: 0.2370 - val_acc: 0.9188 - lr: 1.0000e-05\n",
      "Epoch 23/100\n",
      "306/306 [==============================] - ETA: 0s - loss: 0.0158 - acc: 0.9965\n",
      "Epoch 00023: val_acc improved from 0.91875 to 0.92105, saving model to xception_best.ckpt\n",
      "306/306 [==============================] - 139s 454ms/step - loss: 0.0158 - acc: 0.9965 - val_loss: 0.2218 - val_acc: 0.9211 - lr: 1.0000e-05\n",
      "Epoch 24/100\n",
      "306/306 [==============================] - ETA: 0s - loss: 0.0117 - acc: 0.9981\n",
      "Epoch 00024: val_acc improved from 0.92105 to 0.92501, saving model to xception_best.ckpt\n",
      "306/306 [==============================] - 141s 460ms/step - loss: 0.0117 - acc: 0.9981 - val_loss: 0.2127 - val_acc: 0.9250 - lr: 1.0000e-05\n",
      "Epoch 25/100\n",
      "306/306 [==============================] - ETA: 0s - loss: 0.0132 - acc: 0.9966\n",
      "Epoch 00025: val_acc improved from 0.92501 to 0.92540, saving model to xception_best.ckpt\n",
      "306/306 [==============================] - 139s 454ms/step - loss: 0.0132 - acc: 0.9966 - val_loss: 0.2169 - val_acc: 0.9254 - lr: 1.0000e-05\n",
      "Epoch 26/100\n",
      "306/306 [==============================] - ETA: 0s - loss: 0.0126 - acc: 0.9971\n",
      "Epoch 00026: val_acc did not improve from 0.92540\n",
      "306/306 [==============================] - 139s 455ms/step - loss: 0.0126 - acc: 0.9971 - val_loss: 0.2198 - val_acc: 0.9253 - lr: 1.0000e-05\n",
      "Epoch 27/100\n",
      "306/306 [==============================] - ETA: 0s - loss: 0.0118 - acc: 0.9978\n",
      "Epoch 00027: val_acc improved from 0.92540 to 0.92603, saving model to xception_best.ckpt\n",
      "306/306 [==============================] - 139s 456ms/step - loss: 0.0118 - acc: 0.9978 - val_loss: 0.2127 - val_acc: 0.9260 - lr: 1.0000e-05\n",
      "Epoch 28/100\n",
      "306/306 [==============================] - ETA: 0s - loss: 0.0114 - acc: 0.9979\n",
      "Epoch 00028: val_acc improved from 0.92603 to 0.93242, saving model to xception_best.ckpt\n",
      "306/306 [==============================] - 139s 455ms/step - loss: 0.0114 - acc: 0.9979 - val_loss: 0.2029 - val_acc: 0.9324 - lr: 1.0000e-05\n",
      "Epoch 29/100\n",
      "306/306 [==============================] - ETA: 0s - loss: 0.0092 - acc: 0.9979\n",
      "Epoch 00029: val_acc did not improve from 0.93242\n",
      "306/306 [==============================] - 139s 455ms/step - loss: 0.0092 - acc: 0.9979 - val_loss: 0.2068 - val_acc: 0.9299 - lr: 1.0000e-05\n",
      "Epoch 30/100\n",
      "306/306 [==============================] - ETA: 0s - loss: 0.0088 - acc: 0.9976\n",
      "Epoch 00030: val_acc did not improve from 0.93242\n",
      "306/306 [==============================] - 139s 455ms/step - loss: 0.0088 - acc: 0.9976 - val_loss: 0.2378 - val_acc: 0.9186 - lr: 1.0000e-05\n",
      "Epoch 31/100\n",
      "306/306 [==============================] - ETA: 0s - loss: 0.0070 - acc: 0.9988\n",
      "Epoch 00031: val_acc improved from 0.93242 to 0.93344, saving model to xception_best.ckpt\n",
      "306/306 [==============================] - 141s 461ms/step - loss: 0.0070 - acc: 0.9988 - val_loss: 0.1907 - val_acc: 0.9334 - lr: 1.0000e-05\n",
      "Epoch 32/100\n",
      "306/306 [==============================] - ETA: 0s - loss: 0.0078 - acc: 0.9983\n",
      "Epoch 00032: val_acc did not improve from 0.93344\n",
      "306/306 [==============================] - 138s 451ms/step - loss: 0.0078 - acc: 0.9983 - val_loss: 0.2052 - val_acc: 0.9306 - lr: 1.0000e-05\n",
      "Epoch 33/100\n",
      "306/306 [==============================] - ETA: 0s - loss: 0.0067 - acc: 0.9980\n",
      "Epoch 00033: val_acc did not improve from 0.93344\n",
      "306/306 [==============================] - 135s 442ms/step - loss: 0.0067 - acc: 0.9980 - val_loss: 0.1888 - val_acc: 0.9333 - lr: 1.0000e-05\n",
      "Epoch 34/100\n",
      "306/306 [==============================] - ETA: 0s - loss: 0.0080 - acc: 0.9978\n",
      "Epoch 00034: val_acc did not improve from 0.93344\n",
      "306/306 [==============================] - 140s 459ms/step - loss: 0.0080 - acc: 0.9978 - val_loss: 0.2038 - val_acc: 0.9305 - lr: 1.0000e-05\n",
      "Epoch 35/100\n",
      "306/306 [==============================] - ETA: 0s - loss: 0.0058 - acc: 0.9990\n",
      "Epoch 00035: val_acc did not improve from 0.93344\n",
      "306/306 [==============================] - 145s 474ms/step - loss: 0.0058 - acc: 0.9990 - val_loss: 0.2012 - val_acc: 0.9306 - lr: 1.0000e-05\n",
      "Epoch 36/100\n",
      "173/306 [===============>..............] - ETA: 52s - loss: 0.0074 - acc: 0.9978"
     ]
    },
    {
     "ename": "KeyboardInterrupt",
     "evalue": "",
     "output_type": "error",
     "traceback": [
      "\u001b[1;31m---------------------------------------------------------------------------\u001b[0m",
      "\u001b[1;31mKeyboardInterrupt\u001b[0m                         Traceback (most recent call last)",
      "\u001b[1;32m~\\AppData\\Local\\Temp/ipykernel_8240/46318645.py\u001b[0m in \u001b[0;36m<module>\u001b[1;34m\u001b[0m\n\u001b[0;32m      5\u001b[0m         \u001b[0mvalidation_data\u001b[0m\u001b[1;33m=\u001b[0m\u001b[0mvalid_generator\u001b[0m\u001b[1;33m,\u001b[0m\u001b[1;33m\u001b[0m\u001b[1;33m\u001b[0m\u001b[0m\n\u001b[0;32m      6\u001b[0m         \u001b[0mcallbacks\u001b[0m\u001b[1;33m=\u001b[0m\u001b[1;33m[\u001b[0m\u001b[0mmy_callbacks\u001b[0m\u001b[1;33m]\u001b[0m\u001b[1;33m,\u001b[0m\u001b[1;33m\u001b[0m\u001b[1;33m\u001b[0m\u001b[0m\n\u001b[1;32m----> 7\u001b[1;33m         class_weight=class_weights)\n\u001b[0m\u001b[0;32m      8\u001b[0m \u001b[1;33m\u001b[0m\u001b[0m\n\u001b[0;32m      9\u001b[0m \u001b[1;31m# load best saved weights\u001b[0m\u001b[1;33m\u001b[0m\u001b[1;33m\u001b[0m\u001b[1;33m\u001b[0m\u001b[0m\n",
      "\u001b[1;32m~\\anaconda3\\envs\\tensorflow37\\lib\\site-packages\\tensorflow\\python\\keras\\engine\\training.py\u001b[0m in \u001b[0;36m_method_wrapper\u001b[1;34m(self, *args, **kwargs)\u001b[0m\n\u001b[0;32m     64\u001b[0m   \u001b[1;32mdef\u001b[0m \u001b[0m_method_wrapper\u001b[0m\u001b[1;33m(\u001b[0m\u001b[0mself\u001b[0m\u001b[1;33m,\u001b[0m \u001b[1;33m*\u001b[0m\u001b[0margs\u001b[0m\u001b[1;33m,\u001b[0m \u001b[1;33m**\u001b[0m\u001b[0mkwargs\u001b[0m\u001b[1;33m)\u001b[0m\u001b[1;33m:\u001b[0m\u001b[1;33m\u001b[0m\u001b[1;33m\u001b[0m\u001b[0m\n\u001b[0;32m     65\u001b[0m     \u001b[1;32mif\u001b[0m \u001b[1;32mnot\u001b[0m \u001b[0mself\u001b[0m\u001b[1;33m.\u001b[0m\u001b[0m_in_multi_worker_mode\u001b[0m\u001b[1;33m(\u001b[0m\u001b[1;33m)\u001b[0m\u001b[1;33m:\u001b[0m  \u001b[1;31m# pylint: disable=protected-access\u001b[0m\u001b[1;33m\u001b[0m\u001b[1;33m\u001b[0m\u001b[0m\n\u001b[1;32m---> 66\u001b[1;33m       \u001b[1;32mreturn\u001b[0m \u001b[0mmethod\u001b[0m\u001b[1;33m(\u001b[0m\u001b[0mself\u001b[0m\u001b[1;33m,\u001b[0m \u001b[1;33m*\u001b[0m\u001b[0margs\u001b[0m\u001b[1;33m,\u001b[0m \u001b[1;33m**\u001b[0m\u001b[0mkwargs\u001b[0m\u001b[1;33m)\u001b[0m\u001b[1;33m\u001b[0m\u001b[1;33m\u001b[0m\u001b[0m\n\u001b[0m\u001b[0;32m     67\u001b[0m \u001b[1;33m\u001b[0m\u001b[0m\n\u001b[0;32m     68\u001b[0m     \u001b[1;31m# Running inside `run_distribute_coordinator` already.\u001b[0m\u001b[1;33m\u001b[0m\u001b[1;33m\u001b[0m\u001b[1;33m\u001b[0m\u001b[0m\n",
      "\u001b[1;32m~\\anaconda3\\envs\\tensorflow37\\lib\\site-packages\\tensorflow\\python\\keras\\engine\\training.py\u001b[0m in \u001b[0;36mfit\u001b[1;34m(self, x, y, batch_size, epochs, verbose, callbacks, validation_split, validation_data, shuffle, class_weight, sample_weight, initial_epoch, steps_per_epoch, validation_steps, validation_batch_size, validation_freq, max_queue_size, workers, use_multiprocessing)\u001b[0m\n\u001b[0;32m    853\u001b[0m                 \u001b[0mcontext\u001b[0m\u001b[1;33m.\u001b[0m\u001b[0masync_wait\u001b[0m\u001b[1;33m(\u001b[0m\u001b[1;33m)\u001b[0m\u001b[1;33m\u001b[0m\u001b[1;33m\u001b[0m\u001b[0m\n\u001b[0;32m    854\u001b[0m               \u001b[0mlogs\u001b[0m \u001b[1;33m=\u001b[0m \u001b[0mtmp_logs\u001b[0m  \u001b[1;31m# No error, now safe to assign to logs.\u001b[0m\u001b[1;33m\u001b[0m\u001b[1;33m\u001b[0m\u001b[0m\n\u001b[1;32m--> 855\u001b[1;33m               \u001b[0mcallbacks\u001b[0m\u001b[1;33m.\u001b[0m\u001b[0mon_train_batch_end\u001b[0m\u001b[1;33m(\u001b[0m\u001b[0mstep\u001b[0m\u001b[1;33m,\u001b[0m \u001b[0mlogs\u001b[0m\u001b[1;33m)\u001b[0m\u001b[1;33m\u001b[0m\u001b[1;33m\u001b[0m\u001b[0m\n\u001b[0m\u001b[0;32m    856\u001b[0m         \u001b[0mepoch_logs\u001b[0m \u001b[1;33m=\u001b[0m \u001b[0mcopy\u001b[0m\u001b[1;33m.\u001b[0m\u001b[0mcopy\u001b[0m\u001b[1;33m(\u001b[0m\u001b[0mlogs\u001b[0m\u001b[1;33m)\u001b[0m\u001b[1;33m\u001b[0m\u001b[1;33m\u001b[0m\u001b[0m\n\u001b[0;32m    857\u001b[0m \u001b[1;33m\u001b[0m\u001b[0m\n",
      "\u001b[1;32m~\\anaconda3\\envs\\tensorflow37\\lib\\site-packages\\tensorflow\\python\\keras\\callbacks.py\u001b[0m in \u001b[0;36mon_train_batch_end\u001b[1;34m(self, batch, logs)\u001b[0m\n\u001b[0;32m    387\u001b[0m     \"\"\"\n\u001b[0;32m    388\u001b[0m     \u001b[1;32mif\u001b[0m \u001b[0mself\u001b[0m\u001b[1;33m.\u001b[0m\u001b[0m_should_call_train_batch_hooks\u001b[0m\u001b[1;33m:\u001b[0m\u001b[1;33m\u001b[0m\u001b[1;33m\u001b[0m\u001b[0m\n\u001b[1;32m--> 389\u001b[1;33m       \u001b[0mlogs\u001b[0m \u001b[1;33m=\u001b[0m \u001b[0mself\u001b[0m\u001b[1;33m.\u001b[0m\u001b[0m_process_logs\u001b[0m\u001b[1;33m(\u001b[0m\u001b[0mlogs\u001b[0m\u001b[1;33m)\u001b[0m\u001b[1;33m\u001b[0m\u001b[1;33m\u001b[0m\u001b[0m\n\u001b[0m\u001b[0;32m    390\u001b[0m       \u001b[0mself\u001b[0m\u001b[1;33m.\u001b[0m\u001b[0m_call_batch_hook\u001b[0m\u001b[1;33m(\u001b[0m\u001b[0mModeKeys\u001b[0m\u001b[1;33m.\u001b[0m\u001b[0mTRAIN\u001b[0m\u001b[1;33m,\u001b[0m \u001b[1;34m'end'\u001b[0m\u001b[1;33m,\u001b[0m \u001b[0mbatch\u001b[0m\u001b[1;33m,\u001b[0m \u001b[0mlogs\u001b[0m\u001b[1;33m=\u001b[0m\u001b[0mlogs\u001b[0m\u001b[1;33m)\u001b[0m\u001b[1;33m\u001b[0m\u001b[1;33m\u001b[0m\u001b[0m\n\u001b[0;32m    391\u001b[0m \u001b[1;33m\u001b[0m\u001b[0m\n",
      "\u001b[1;32m~\\anaconda3\\envs\\tensorflow37\\lib\\site-packages\\tensorflow\\python\\keras\\callbacks.py\u001b[0m in \u001b[0;36m_process_logs\u001b[1;34m(self, logs)\u001b[0m\n\u001b[0;32m    263\u001b[0m     \u001b[1;34m\"\"\"Turns tensors into numpy arrays or Python scalars.\"\"\"\u001b[0m\u001b[1;33m\u001b[0m\u001b[1;33m\u001b[0m\u001b[0m\n\u001b[0;32m    264\u001b[0m     \u001b[1;32mif\u001b[0m \u001b[0mlogs\u001b[0m\u001b[1;33m:\u001b[0m\u001b[1;33m\u001b[0m\u001b[1;33m\u001b[0m\u001b[0m\n\u001b[1;32m--> 265\u001b[1;33m       \u001b[1;32mreturn\u001b[0m \u001b[0mtf_utils\u001b[0m\u001b[1;33m.\u001b[0m\u001b[0mto_numpy_or_python_type\u001b[0m\u001b[1;33m(\u001b[0m\u001b[0mlogs\u001b[0m\u001b[1;33m)\u001b[0m\u001b[1;33m\u001b[0m\u001b[1;33m\u001b[0m\u001b[0m\n\u001b[0m\u001b[0;32m    266\u001b[0m     \u001b[1;32mreturn\u001b[0m \u001b[1;33m{\u001b[0m\u001b[1;33m}\u001b[0m\u001b[1;33m\u001b[0m\u001b[1;33m\u001b[0m\u001b[0m\n\u001b[0;32m    267\u001b[0m \u001b[1;33m\u001b[0m\u001b[0m\n",
      "\u001b[1;32m~\\anaconda3\\envs\\tensorflow37\\lib\\site-packages\\tensorflow\\python\\keras\\utils\\tf_utils.py\u001b[0m in \u001b[0;36mto_numpy_or_python_type\u001b[1;34m(tensors)\u001b[0m\n\u001b[0;32m    521\u001b[0m     \u001b[1;32mreturn\u001b[0m \u001b[0mt\u001b[0m  \u001b[1;31m# Don't turn ragged or sparse tensors to NumPy.\u001b[0m\u001b[1;33m\u001b[0m\u001b[1;33m\u001b[0m\u001b[0m\n\u001b[0;32m    522\u001b[0m \u001b[1;33m\u001b[0m\u001b[0m\n\u001b[1;32m--> 523\u001b[1;33m   \u001b[1;32mreturn\u001b[0m \u001b[0mnest\u001b[0m\u001b[1;33m.\u001b[0m\u001b[0mmap_structure\u001b[0m\u001b[1;33m(\u001b[0m\u001b[0m_to_single_numpy_or_python_type\u001b[0m\u001b[1;33m,\u001b[0m \u001b[0mtensors\u001b[0m\u001b[1;33m)\u001b[0m\u001b[1;33m\u001b[0m\u001b[1;33m\u001b[0m\u001b[0m\n\u001b[0m\u001b[0;32m    524\u001b[0m \u001b[1;33m\u001b[0m\u001b[0m\n",
      "\u001b[1;32m~\\anaconda3\\envs\\tensorflow37\\lib\\site-packages\\tensorflow\\python\\util\\nest.py\u001b[0m in \u001b[0;36mmap_structure\u001b[1;34m(func, *structure, **kwargs)\u001b[0m\n\u001b[0;32m    615\u001b[0m \u001b[1;33m\u001b[0m\u001b[0m\n\u001b[0;32m    616\u001b[0m   return pack_sequence_as(\n\u001b[1;32m--> 617\u001b[1;33m       \u001b[0mstructure\u001b[0m\u001b[1;33m[\u001b[0m\u001b[1;36m0\u001b[0m\u001b[1;33m]\u001b[0m\u001b[1;33m,\u001b[0m \u001b[1;33m[\u001b[0m\u001b[0mfunc\u001b[0m\u001b[1;33m(\u001b[0m\u001b[1;33m*\u001b[0m\u001b[0mx\u001b[0m\u001b[1;33m)\u001b[0m \u001b[1;32mfor\u001b[0m \u001b[0mx\u001b[0m \u001b[1;32min\u001b[0m \u001b[0mentries\u001b[0m\u001b[1;33m]\u001b[0m\u001b[1;33m,\u001b[0m\u001b[1;33m\u001b[0m\u001b[1;33m\u001b[0m\u001b[0m\n\u001b[0m\u001b[0;32m    618\u001b[0m       expand_composites=expand_composites)\n\u001b[0;32m    619\u001b[0m \u001b[1;33m\u001b[0m\u001b[0m\n",
      "\u001b[1;32m~\\anaconda3\\envs\\tensorflow37\\lib\\site-packages\\tensorflow\\python\\util\\nest.py\u001b[0m in \u001b[0;36m<listcomp>\u001b[1;34m(.0)\u001b[0m\n\u001b[0;32m    615\u001b[0m \u001b[1;33m\u001b[0m\u001b[0m\n\u001b[0;32m    616\u001b[0m   return pack_sequence_as(\n\u001b[1;32m--> 617\u001b[1;33m       \u001b[0mstructure\u001b[0m\u001b[1;33m[\u001b[0m\u001b[1;36m0\u001b[0m\u001b[1;33m]\u001b[0m\u001b[1;33m,\u001b[0m \u001b[1;33m[\u001b[0m\u001b[0mfunc\u001b[0m\u001b[1;33m(\u001b[0m\u001b[1;33m*\u001b[0m\u001b[0mx\u001b[0m\u001b[1;33m)\u001b[0m \u001b[1;32mfor\u001b[0m \u001b[0mx\u001b[0m \u001b[1;32min\u001b[0m \u001b[0mentries\u001b[0m\u001b[1;33m]\u001b[0m\u001b[1;33m,\u001b[0m\u001b[1;33m\u001b[0m\u001b[1;33m\u001b[0m\u001b[0m\n\u001b[0m\u001b[0;32m    618\u001b[0m       expand_composites=expand_composites)\n\u001b[0;32m    619\u001b[0m \u001b[1;33m\u001b[0m\u001b[0m\n",
      "\u001b[1;32m~\\anaconda3\\envs\\tensorflow37\\lib\\site-packages\\tensorflow\\python\\keras\\utils\\tf_utils.py\u001b[0m in \u001b[0;36m_to_single_numpy_or_python_type\u001b[1;34m(t)\u001b[0m\n\u001b[0;32m    517\u001b[0m   \u001b[1;32mdef\u001b[0m \u001b[0m_to_single_numpy_or_python_type\u001b[0m\u001b[1;33m(\u001b[0m\u001b[0mt\u001b[0m\u001b[1;33m)\u001b[0m\u001b[1;33m:\u001b[0m\u001b[1;33m\u001b[0m\u001b[1;33m\u001b[0m\u001b[0m\n\u001b[0;32m    518\u001b[0m     \u001b[1;32mif\u001b[0m \u001b[0misinstance\u001b[0m\u001b[1;33m(\u001b[0m\u001b[0mt\u001b[0m\u001b[1;33m,\u001b[0m \u001b[0mops\u001b[0m\u001b[1;33m.\u001b[0m\u001b[0mTensor\u001b[0m\u001b[1;33m)\u001b[0m\u001b[1;33m:\u001b[0m\u001b[1;33m\u001b[0m\u001b[1;33m\u001b[0m\u001b[0m\n\u001b[1;32m--> 519\u001b[1;33m       \u001b[0mx\u001b[0m \u001b[1;33m=\u001b[0m \u001b[0mt\u001b[0m\u001b[1;33m.\u001b[0m\u001b[0mnumpy\u001b[0m\u001b[1;33m(\u001b[0m\u001b[1;33m)\u001b[0m\u001b[1;33m\u001b[0m\u001b[1;33m\u001b[0m\u001b[0m\n\u001b[0m\u001b[0;32m    520\u001b[0m       \u001b[1;32mreturn\u001b[0m \u001b[0mx\u001b[0m\u001b[1;33m.\u001b[0m\u001b[0mitem\u001b[0m\u001b[1;33m(\u001b[0m\u001b[1;33m)\u001b[0m \u001b[1;32mif\u001b[0m \u001b[0mnp\u001b[0m\u001b[1;33m.\u001b[0m\u001b[0mndim\u001b[0m\u001b[1;33m(\u001b[0m\u001b[0mx\u001b[0m\u001b[1;33m)\u001b[0m \u001b[1;33m==\u001b[0m \u001b[1;36m0\u001b[0m \u001b[1;32melse\u001b[0m \u001b[0mx\u001b[0m\u001b[1;33m\u001b[0m\u001b[1;33m\u001b[0m\u001b[0m\n\u001b[0;32m    521\u001b[0m     \u001b[1;32mreturn\u001b[0m \u001b[0mt\u001b[0m  \u001b[1;31m# Don't turn ragged or sparse tensors to NumPy.\u001b[0m\u001b[1;33m\u001b[0m\u001b[1;33m\u001b[0m\u001b[0m\n",
      "\u001b[1;32m~\\anaconda3\\envs\\tensorflow37\\lib\\site-packages\\tensorflow\\python\\framework\\ops.py\u001b[0m in \u001b[0;36mnumpy\u001b[1;34m(self)\u001b[0m\n\u001b[0;32m    959\u001b[0m     \"\"\"\n\u001b[0;32m    960\u001b[0m     \u001b[1;31m# TODO(slebedev): Consider avoiding a copy for non-CPU or remote tensors.\u001b[0m\u001b[1;33m\u001b[0m\u001b[1;33m\u001b[0m\u001b[1;33m\u001b[0m\u001b[0m\n\u001b[1;32m--> 961\u001b[1;33m     \u001b[0mmaybe_arr\u001b[0m \u001b[1;33m=\u001b[0m \u001b[0mself\u001b[0m\u001b[1;33m.\u001b[0m\u001b[0m_numpy\u001b[0m\u001b[1;33m(\u001b[0m\u001b[1;33m)\u001b[0m  \u001b[1;31m# pylint: disable=protected-access\u001b[0m\u001b[1;33m\u001b[0m\u001b[1;33m\u001b[0m\u001b[0m\n\u001b[0m\u001b[0;32m    962\u001b[0m     \u001b[1;32mreturn\u001b[0m \u001b[0mmaybe_arr\u001b[0m\u001b[1;33m.\u001b[0m\u001b[0mcopy\u001b[0m\u001b[1;33m(\u001b[0m\u001b[1;33m)\u001b[0m \u001b[1;32mif\u001b[0m \u001b[0misinstance\u001b[0m\u001b[1;33m(\u001b[0m\u001b[0mmaybe_arr\u001b[0m\u001b[1;33m,\u001b[0m \u001b[0mnp\u001b[0m\u001b[1;33m.\u001b[0m\u001b[0mndarray\u001b[0m\u001b[1;33m)\u001b[0m \u001b[1;32melse\u001b[0m \u001b[0mmaybe_arr\u001b[0m\u001b[1;33m\u001b[0m\u001b[1;33m\u001b[0m\u001b[0m\n\u001b[0;32m    963\u001b[0m \u001b[1;33m\u001b[0m\u001b[0m\n",
      "\u001b[1;32m~\\anaconda3\\envs\\tensorflow37\\lib\\site-packages\\tensorflow\\python\\framework\\ops.py\u001b[0m in \u001b[0;36m_numpy\u001b[1;34m(self)\u001b[0m\n\u001b[0;32m    925\u001b[0m     \u001b[1;31m# pylint: disable=protected-access\u001b[0m\u001b[1;33m\u001b[0m\u001b[1;33m\u001b[0m\u001b[1;33m\u001b[0m\u001b[0m\n\u001b[0;32m    926\u001b[0m     \u001b[1;32mtry\u001b[0m\u001b[1;33m:\u001b[0m\u001b[1;33m\u001b[0m\u001b[1;33m\u001b[0m\u001b[0m\n\u001b[1;32m--> 927\u001b[1;33m       \u001b[1;32mreturn\u001b[0m \u001b[0mself\u001b[0m\u001b[1;33m.\u001b[0m\u001b[0m_numpy_internal\u001b[0m\u001b[1;33m(\u001b[0m\u001b[1;33m)\u001b[0m\u001b[1;33m\u001b[0m\u001b[1;33m\u001b[0m\u001b[0m\n\u001b[0m\u001b[0;32m    928\u001b[0m     \u001b[1;32mexcept\u001b[0m \u001b[0mcore\u001b[0m\u001b[1;33m.\u001b[0m\u001b[0m_NotOkStatusException\u001b[0m \u001b[1;32mas\u001b[0m \u001b[0me\u001b[0m\u001b[1;33m:\u001b[0m\u001b[1;33m\u001b[0m\u001b[1;33m\u001b[0m\u001b[0m\n\u001b[0;32m    929\u001b[0m       \u001b[0msix\u001b[0m\u001b[1;33m.\u001b[0m\u001b[0mraise_from\u001b[0m\u001b[1;33m(\u001b[0m\u001b[0mcore\u001b[0m\u001b[1;33m.\u001b[0m\u001b[0m_status_to_exception\u001b[0m\u001b[1;33m(\u001b[0m\u001b[0me\u001b[0m\u001b[1;33m.\u001b[0m\u001b[0mcode\u001b[0m\u001b[1;33m,\u001b[0m \u001b[0me\u001b[0m\u001b[1;33m.\u001b[0m\u001b[0mmessage\u001b[0m\u001b[1;33m)\u001b[0m\u001b[1;33m,\u001b[0m \u001b[1;32mNone\u001b[0m\u001b[1;33m)\u001b[0m\u001b[1;33m\u001b[0m\u001b[1;33m\u001b[0m\u001b[0m\n",
      "\u001b[1;31mKeyboardInterrupt\u001b[0m: "
     ]
    }
   ],
   "source": [
    "# train the model\n",
    "model.fit(\n",
    "        train_generator,\n",
    "        epochs=100,\n",
    "        validation_data=valid_generator,\n",
    "        callbacks=[my_callbacks],\n",
    "        class_weight=class_weights)\n",
    "\n",
    "# load best saved weights\n",
    "model.load_weights(checkpoint_path)"
   ]
  },
  {
   "cell_type": "code",
   "execution_count": null,
   "metadata": {},
   "outputs": [],
   "source": [
    "preds = model.evaluate(valid_generator)\n",
    "print (\"Loss = \" + str(preds[0]))\n",
    "print (\"Test Accuracy = \" + str(preds[1]))"
   ]
  },
  {
   "cell_type": "code",
   "execution_count": null,
   "metadata": {},
   "outputs": [],
   "source": [
    "predicition_compi = model.predict(valid_generator, steps= valid_generator.n/ BATCH_SIZE, verbose= 1)"
   ]
  },
  {
   "cell_type": "code",
   "execution_count": null,
   "metadata": {},
   "outputs": [],
   "source": [
    "from sklearn.metrics import confusion_matrix, ConfusionMatrixDisplay\n",
    "class_prediction_compi =  np.argmax(predicition_compi, axis= 1)\n",
    "cm = confusion_matrix(df_val_compi.label, class_prediction_compi, labels=[0, 1, 2, 3, 4])\n",
    "disp = ConfusionMatrixDisplay(confusion_matrix=cm,\n",
    "                              display_labels=[0, 1, 2, 3, 4])\n",
    "disp.plot()"
   ]
  },
  {
   "cell_type": "code",
   "execution_count": null,
   "metadata": {},
   "outputs": [],
   "source": [
    "xception_model.save_weights(\"knee_xray_ResNet152V2.h5\")\n"
   ]
  },
  {
   "cell_type": "markdown",
   "metadata": {},
   "source": [
    "### compition data로 더 가르키는거\n",
    "https://www.kaggle.com/haidermasood/xception-osteoarthritis-kneexray"
   ]
  },
  {
   "cell_type": "code",
   "execution_count": null,
   "metadata": {},
   "outputs": [],
   "source": [
    "# train and validation split on competition data\n",
    "from sklearn.model_selection import train_test_split\n",
    "X_train, X_test = train_test_split(df_train_kaggle,\n",
    "                                   test_size=0.2,\n",
    "                                   random_state=42,\n",
    "                                   stratify= df_train_kaggle.label)"
   ]
  },
  {
   "cell_type": "code",
   "execution_count": null,
   "metadata": {},
   "outputs": [],
   "source": [
    "# train and validation split on competition data\n",
    "from sklearn.model_selection import train_test_split\n",
    "X_train, X_test = train_test_split(df_val_compi,\n",
    "                                   test_size=0.1,\n",
    "                                   random_state=42,\n",
    "                                   stratify= df_val_compi.label)"
   ]
  },
  {
   "cell_type": "code",
   "execution_count": null,
   "metadata": {},
   "outputs": [],
   "source": [
    "train_generator = train_aug.flow_from_dataframe(\n",
    "dataframe = X_train,\n",
    "x_col=\"filepath\",\n",
    "y_col=\"label\",\n",
    "batch_size=32,\n",
    "seed=42,\n",
    "shuffle=True,\n",
    "class_mode=\"raw\",\n",
    "target_size=(224,224))"
   ]
  },
  {
   "cell_type": "code",
   "execution_count": null,
   "metadata": {},
   "outputs": [],
   "source": [
    "valid_generator = valid_aug.flow_from_dataframe( \n",
    "dataframe=X_test,\n",
    "x_col=\"filepath\",\n",
    "y_col=\"label\",\n",
    "batch_size=32,\n",
    "seed=42,\n",
    "shuffle=True,\n",
    "class_mode=\"raw\",\n",
    "target_size=(224,224))"
   ]
  },
  {
   "cell_type": "code",
   "execution_count": null,
   "metadata": {},
   "outputs": [],
   "source": [
    "# number of steps to consider 1 as  epoch\n",
    "STEP_SIZE_TRAIN = train_generator.n//train_generator.batch_size\n",
    "STEP_SIZE_VALID =valid_generator.n//valid_generator.batch_size"
   ]
  },
  {
   "cell_type": "code",
   "execution_count": null,
   "metadata": {},
   "outputs": [],
   "source": [
    "# kick off training\n",
    "xception_model.fit(\n",
    "        train_generator,\n",
    "        steps_per_epoch=STEP_SIZE_TRAIN,\n",
    "        epochs=50,\n",
    "        validation_data=valid_generator,\n",
    "        validation_steps=STEP_SIZE_VALID,callbacks=[my_callbacks])"
   ]
  },
  {
   "cell_type": "code",
   "execution_count": null,
   "metadata": {},
   "outputs": [],
   "source": [
    "xception_model.save_weights(\"knee_final_xray_ResNet152V2.h5\")"
   ]
  },
  {
   "cell_type": "code",
   "execution_count": null,
   "metadata": {},
   "outputs": [],
   "source": [
    "# load best saved weights\n",
    "xception_model.load_weights(checkpoint_path)"
   ]
  },
  {
   "cell_type": "markdown",
   "metadata": {},
   "source": [
    "### **Confusion Matirx**"
   ]
  },
  {
   "cell_type": "code",
   "execution_count": null,
   "metadata": {},
   "outputs": [],
   "source": [
    "from sklearn.metrics import precision_recall_curve\n",
    "target_shape = 224\n",
    "BATCH_SIZE = 1\n",
    "\n",
    "# test generator\n",
    "compi_gen = valid_aug.flow_from_dataframe(dataframe= X_test,\n",
    "                            x_col= \"filepath\",\n",
    "                            class_mode=None,\n",
    "                            target_size= (target_shape, target_shape),\n",
    "                            shuffle= False,\n",
    "                            batch_size= BATCH_SIZE\n",
    "                            )"
   ]
  },
  {
   "cell_type": "code",
   "execution_count": null,
   "metadata": {},
   "outputs": [],
   "source": [
    "# prediction on train data\n",
    "predicition_compi = model.predict(compi_gen, steps= compi_gen.n/ BATCH_SIZE, verbose= 1)"
   ]
  },
  {
   "cell_type": "code",
   "execution_count": null,
   "metadata": {},
   "outputs": [],
   "source": [
    "from sklearn.metrics import confusion_matrix, ConfusionMatrixDisplay\n",
    "class_prediction_compi =  np.argmax(predicition_compi, axis= 1)\n",
    "cm = confusion_matrix(X_test.label, class_prediction_compi, labels=[0, 1, 2, 3, 4])\n",
    "disp = ConfusionMatrixDisplay(confusion_matrix=cm,\n",
    "                              display_labels=[0, 1, 2, 3, 4])\n",
    "disp.plot()"
   ]
  }
 ],
 "metadata": {
  "interpreter": {
   "hash": "2d93d6df27dcc797823232b994e4f43d959f011089850837812bf48ca3e70a46"
  },
  "kernelspec": {
   "display_name": "Python 3.7.11 ('tensorflow37')",
   "language": "python",
   "name": "python3"
  },
  "language_info": {
   "codemirror_mode": {
    "name": "ipython",
    "version": 3
   },
   "file_extension": ".py",
   "mimetype": "text/x-python",
   "name": "python",
   "nbconvert_exporter": "python",
   "pygments_lexer": "ipython3",
   "version": "3.7.11"
  },
  "orig_nbformat": 4
 },
 "nbformat": 4,
 "nbformat_minor": 2
}
