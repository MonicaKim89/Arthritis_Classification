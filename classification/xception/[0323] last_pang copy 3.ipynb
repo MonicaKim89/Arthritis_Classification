{
 "cells": [
  {
   "cell_type": "code",
   "execution_count": 2,
   "metadata": {},
   "outputs": [
    {
     "name": "stdout",
     "output_type": "stream",
     "text": [
      "C:\\Users\\yukir\\Documents\\GitHub\\Sign_Recognition\\py\n",
      "[name: \"/device:CPU:0\"\n",
      "device_type: \"CPU\"\n",
      "memory_limit: 268435456\n",
      "locality {\n",
      "}\n",
      "incarnation: 11681719739288787768\n",
      ", name: \"/device:XLA_CPU:0\"\n",
      "device_type: \"XLA_CPU\"\n",
      "memory_limit: 17179869184\n",
      "locality {\n",
      "}\n",
      "incarnation: 18368085166108246632\n",
      "physical_device_desc: \"device: XLA_CPU device\"\n",
      ", name: \"/device:GPU:0\"\n",
      "device_type: \"GPU\"\n",
      "memory_limit: 9883535296\n",
      "locality {\n",
      "  bus_id: 1\n",
      "  links {\n",
      "  }\n",
      "}\n",
      "incarnation: 6359618642782194322\n",
      "physical_device_desc: \"device: 0, name: NVIDIA GeForce RTX 2080 Ti, pci bus id: 0000:01:00.0, compute capability: 7.5\"\n",
      ", name: \"/device:XLA_GPU:0\"\n",
      "device_type: \"XLA_GPU\"\n",
      "memory_limit: 17179869184\n",
      "locality {\n",
      "}\n",
      "incarnation: 2428061413745708611\n",
      "physical_device_desc: \"device: XLA_GPU device\"\n",
      "]\n",
      "tf 2.2.0\n",
      "keras 2.3.0-tf\n",
      "set_global_determinism(seed=1337) 이거 꼭 해라\n",
      "set_global_determinism(seed=1337) 이거 꼭 해라\n",
      "set_global_determinism(seed=1337) 이거 꼭 해라\n",
      "C:\\Users\\yukir\\Documents\\Monicas_workspace\\Knee\n"
     ]
    }
   ],
   "source": [
    "%cd C:\\Users\\yukir\\Documents\\GitHub\\Sign_Recognition\\py\n",
    "\n",
    "from basic_preprocessing import *\n",
    "from deeplearning_check import *\n",
    "from machine_learning import *\n",
    "\n",
    "gpu_check()\n",
    "set_global_determinism(seed=SEED)\n",
    "\n",
    "%cd C:\\Users\\yukir\\Documents\\Monicas_workspace\\Knee"
   ]
  },
  {
   "cell_type": "code",
   "execution_count": 50,
   "metadata": {},
   "outputs": [],
   "source": [
    "%matplotlib inline\n",
    "import numpy as np \n",
    "import pandas as pd\n",
    "import os\n",
    "from glob import glob\n",
    "import matplotlib.pyplot as plt\n",
    "from keras_preprocessing.image import ImageDataGenerator\n",
    "from tensorflow.keras.applications import ResNet152V2\n",
    "from tensorflow.keras.layers import GlobalAveragePooling2D\n",
    "import tensorflow as tf\n",
    "from tensorflow.keras.callbacks import ModelCheckpoint, EarlyStopping, ReduceLROnPlateau\n",
    "from keras.models import Model"
   ]
  },
  {
   "cell_type": "code",
   "execution_count": 51,
   "metadata": {},
   "outputs": [],
   "source": [
    "from tensorflow.keras.applications import Xception"
   ]
  },
  {
   "cell_type": "code",
   "execution_count": 17,
   "metadata": {},
   "outputs": [],
   "source": [
    "### classess = 5로 줄여야 할 수도 있음\n",
    " \n",
    "model = tf.keras.applications.xception.Xception(\n",
    "    include_top=True, weights='imagenet', input_tensor=None,\n",
    "    input_shape=None, pooling=None, classes=1000,\n",
    "    classifier_activation='softmax'\n",
    ")"
   ]
  },
  {
   "cell_type": "code",
   "execution_count": 7,
   "metadata": {},
   "outputs": [
    {
     "data": {
      "text/plain": [
       "0    5553\n",
       "2    3712\n",
       "1    2548\n",
       "3    1852\n",
       "4     424\n",
       "Name: label, dtype: int64"
      ]
     },
     "execution_count": 7,
     "metadata": {},
     "output_type": "execute_result"
    }
   ],
   "source": [
    "n_class = 5\n",
    "\n",
    "# path to kaggle dataset\n",
    "root_path = \"C:\\\\Users\\\\yukir\\\\Documents\\\\Monicas_workspace\\\\NEW_Knee\\\\newenw\\\\last_pang\\\\train\"\n",
    "\n",
    "img_list = os.listdir(root_path)\n",
    "\n",
    "label_list = []\n",
    "image_list = []\n",
    "\n",
    "for i in os.listdir(root_path):\n",
    "    img_list = os.listdir(root_path+'\\\\'+i)\n",
    "    label_list += [int(i)] * len(img_list)\n",
    "    for k in img_list:\n",
    "        # print(k)\n",
    "        img_adr = root_path +'\\\\'+i+'\\\\'+k\n",
    "        image_list.append(img_adr)\n",
    "        \n",
    "\n",
    "df_train_kaggle  = pd.DataFrame({'filepath':image_list, 'label':label_list})\n",
    "df_train_kaggle.label.value_counts()\n",
    "\n",
    "# # convert to dataframe\n",
    "# df_train_kaggle = pd.DataFrame({\"filepath\" : image_path_list, \"label\": label_list})"
   ]
  },
  {
   "cell_type": "code",
   "execution_count": 8,
   "metadata": {},
   "outputs": [
    {
     "data": {
      "text/plain": [
       "0    5553\n",
       "2    3712\n",
       "1    2548\n",
       "3    1852\n",
       "4     424\n",
       "Name: label, dtype: int64"
      ]
     },
     "execution_count": 8,
     "metadata": {},
     "output_type": "execute_result"
    }
   ],
   "source": [
    "df_train_kaggle.label.value_counts()"
   ]
  },
  {
   "cell_type": "code",
   "execution_count": 9,
   "metadata": {},
   "outputs": [
    {
     "data": {
      "text/plain": [
       "(14089, 2)"
      ]
     },
     "execution_count": 9,
     "metadata": {},
     "output_type": "execute_result"
    }
   ],
   "source": [
    "df_train_kaggle.shape"
   ]
  },
  {
   "cell_type": "markdown",
   "metadata": {},
   "source": [
    "### class distribution"
   ]
  },
  {
   "cell_type": "code",
   "execution_count": 10,
   "metadata": {},
   "outputs": [
    {
     "data": {
      "text/plain": [
       "Text(0, 0.5, 'count')"
      ]
     },
     "execution_count": 10,
     "metadata": {},
     "output_type": "execute_result"
    },
    {
     "data": {
      "image/png": "[encoded data removed]",
      "text/plain": [
       "<Figure size 720x576 with 1 Axes>"
      ]
     },
     "metadata": {},
     "output_type": "display_data"
    }
   ],
   "source": [
    "df_train_kaggle.label.value_counts().plot.bar()\n",
    "plt.xlabel(\"label\")\n",
    "plt.ylabel(\"count\")"
   ]
  },
  {
   "cell_type": "code",
   "execution_count": 11,
   "metadata": {},
   "outputs": [],
   "source": [
    "# train data generator object\n",
    "train_aug = ImageDataGenerator(rescale=1./255)\n",
    "\n",
    "# validation data generator object\n",
    "valid_aug = ImageDataGenerator(rescale=1./255)"
   ]
  },
  {
   "cell_type": "code",
   "execution_count": 12,
   "metadata": {},
   "outputs": [
    {
     "name": "stdout",
     "output_type": "stream",
     "text": [
      "Found 14089 validated image filenames.\n"
     ]
    }
   ],
   "source": [
    "# create train generator\n",
    "train_generator = train_aug.flow_from_dataframe(\n",
    "dataframe=df_train_kaggle,\n",
    "directory=None,\n",
    "x_col=\"filepath\",\n",
    "y_col=\"label\",\n",
    "batch_size=32,\n",
    "seed=42,\n",
    "shuffle=True,\n",
    "class_mode=\"raw\",\n",
    "target_size=(224,224))"
   ]
  },
  {
   "cell_type": "code",
   "execution_count": 60,
   "metadata": {},
   "outputs": [
    {
     "name": "stdout",
     "output_type": "stream",
     "text": [
      "C:\\Users\\yukir\\Documents\\Monicas_workspace\\NEW_Knee\n"
     ]
    }
   ],
   "source": [
    "%cd C:\\Users\\yukir\\Documents\\Monicas_workspace\\NEW_Knee"
   ]
  },
  {
   "cell_type": "code",
   "execution_count": 13,
   "metadata": {},
   "outputs": [
    {
     "data": {
      "text/plain": [
       "0    1389\n",
       "2     928\n",
       "1     638\n",
       "3     463\n",
       "4     107\n",
       "Name: label, dtype: int64"
      ]
     },
     "execution_count": 13,
     "metadata": {},
     "output_type": "execute_result"
    }
   ],
   "source": [
    "n_class = 5\n",
    "\n",
    "# path to kaggle dataset\n",
    "root_path = \"C:\\\\Users\\\\yukir\\\\Documents\\\\Monicas_workspace\\\\NEW_Knee\\\\newenw\\\\last_pang\\\\val\"\n",
    "\n",
    "img_list = os.listdir(root_path)\n",
    "\n",
    "label_list = []\n",
    "image_list = []\n",
    "\n",
    "for i in os.listdir(root_path):\n",
    "    img_list = os.listdir(root_path+'\\\\'+i)\n",
    "    label_list += [int(i)] * len(img_list)\n",
    "    for k in img_list:\n",
    "        # print(k)\n",
    "        img_adr = root_path +'\\\\'+i+'\\\\'+k\n",
    "        image_list.append(img_adr)\n",
    "        \n",
    "\n",
    "df_val_kaggle  = pd.DataFrame({'filepath':image_list, 'label':label_list})\n",
    "df_val_kaggle.label.value_counts()\n",
    "\n",
    "# # convert to dataframe\n",
    "# df_train_kaggle = pd.DataFrame({\"filepath\" : image_path_list, \"label\": label_list})"
   ]
  },
  {
   "cell_type": "code",
   "execution_count": 14,
   "metadata": {},
   "outputs": [
    {
     "data": {
      "text/plain": [
       "Text(0, 0.5, 'count')"
      ]
     },
     "execution_count": 14,
     "metadata": {},
     "output_type": "execute_result"
    },
    {
     "data": {
      "image/png": "[encoded data removed]",
      "text/plain": [
       "<Figure size 720x576 with 1 Axes>"
      ]
     },
     "metadata": {},
     "output_type": "display_data"
    }
   ],
   "source": [
    "df_val_kaggle.label.value_counts().plot.bar()\n",
    "plt.xlabel(\"label\")\n",
    "plt.ylabel(\"count\")"
   ]
  },
  {
   "cell_type": "code",
   "execution_count": 15,
   "metadata": {},
   "outputs": [
    {
     "name": "stdout",
     "output_type": "stream",
     "text": [
      "Found 3525 validated image filenames.\n"
     ]
    }
   ],
   "source": [
    "# create validation generator\n",
    "valid_generator = valid_aug.flow_from_dataframe( \n",
    "dataframe= df_val_kaggle,\n",
    "x_col= \"filepath\",\n",
    "y_col= \"label\",\n",
    "batch_size= 32,\n",
    "seed= 42,\n",
    "shuffle= True,\n",
    "class_mode= \"raw\",\n",
    "target_size= (224,224))"
   ]
  },
  {
   "cell_type": "code",
   "execution_count": 20,
   "metadata": {},
   "outputs": [],
   "source": [
    "%matplotlib inline\n",
    "import numpy as np \n",
    "import pandas as pd\n",
    "import os\n",
    "from glob import glob\n",
    "import matplotlib.pyplot as plt\n",
    "from keras_preprocessing.image import ImageDataGenerator\n",
    "from tensorflow.keras.applications import ResNet152V2\n",
    "from tensorflow.keras.layers import GlobalAveragePooling2D\n",
    "import tensorflow as tf\n",
    "from tensorflow.keras.callbacks import ModelCheckpoint, EarlyStopping, ReduceLROnPlateau\n",
    "from keras.models import Model"
   ]
  },
  {
   "cell_type": "code",
   "execution_count": 35,
   "metadata": {},
   "outputs": [],
   "source": [
    "# compile\n",
    "model.compile(optimizer = tf.keras.optimizers.Adam(learning_rate=0.00001,decay=0.0001),\n",
    "                 metrics=[\"acc\"],\n",
    "                 loss= tf.keras.losses.sparse_categorical_crossentropy)\n",
    "\n",
    "# callbacks and checkpoints\n",
    "checkpoint_path = \"xception_best.ckpt\"\n",
    "checkpoint_dir = os.path.dirname(checkpoint_path)\n",
    "my_callbacks = [\n",
    "               ModelCheckpoint(checkpoint_path,\n",
    "                               monitor = 'val_acc',\n",
    "                               verbose = 1,\n",
    "                               save_weights_only=True,\n",
    "                               save_best_only = True,\n",
    "                               mode=\"max\"),\n",
    "              EarlyStopping(monitor='val_loss',\n",
    "                            patience=25,\n",
    "                            verbose=0)\n",
    "                \n",
    "]"
   ]
  },
  {
   "cell_type": "code",
   "execution_count": 22,
   "metadata": {},
   "outputs": [],
   "source": [
    "from sklearn.utils import class_weight\n",
    "class_weights = class_weight.compute_class_weight('balanced',\n",
    "                                                 classes= np.unique(df_train_kaggle.label.values),\n",
    "                                                 y= df_train_kaggle.label.values)\n",
    "class_weights = dict(enumerate(class_weights))"
   ]
  },
  {
   "cell_type": "code",
   "execution_count": 23,
   "metadata": {},
   "outputs": [
    {
     "data": {
      "text/plain": [
       "{0: 0.5074374212137583,\n",
       " 1: 1.1058869701726846,\n",
       " 2: 0.7591056034482758,\n",
       " 3: 1.521490280777538,\n",
       " 4: 6.645754716981132}"
      ]
     },
     "execution_count": 23,
     "metadata": {},
     "output_type": "execute_result"
    }
   ],
   "source": [
    "class_weights"
   ]
  },
  {
   "cell_type": "code",
   "execution_count": 36,
   "metadata": {},
   "outputs": [
    {
     "name": "stdout",
     "output_type": "stream",
     "text": [
      "Epoch 1/100\n",
      "441/441 [==============================] - ETA: 0s - loss: 0.0228 - acc: 0.9938\n",
      "Epoch 00001: val_acc improved from -inf to 0.82213, saving model to xception_best.ckpt\n",
      "441/441 [==============================] - 195s 443ms/step - loss: 0.0228 - acc: 0.9938 - val_loss: 0.7137 - val_acc: 0.8221\n",
      "Epoch 2/100\n",
      "441/441 [==============================] - ETA: 0s - loss: 0.0182 - acc: 0.9949\n",
      "Epoch 00002: val_acc did not improve from 0.82213\n",
      "441/441 [==============================] - 169s 383ms/step - loss: 0.0182 - acc: 0.9949 - val_loss: 0.7275 - val_acc: 0.8221\n",
      "Epoch 3/100\n",
      "441/441 [==============================] - ETA: 0s - loss: 0.0128 - acc: 0.9962\n",
      "Epoch 00003: val_acc improved from 0.82213 to 0.82326, saving model to xception_best.ckpt\n",
      "441/441 [==============================] - 170s 386ms/step - loss: 0.0128 - acc: 0.9962 - val_loss: 0.7298 - val_acc: 0.8233\n",
      "Epoch 4/100\n",
      "441/441 [==============================] - ETA: 0s - loss: 0.0122 - acc: 0.9968\n",
      "Epoch 00004: val_acc improved from 0.82326 to 0.83035, saving model to xception_best.ckpt\n",
      "441/441 [==============================] - 172s 390ms/step - loss: 0.0122 - acc: 0.9968 - val_loss: 0.7256 - val_acc: 0.8304\n",
      "Epoch 5/100\n",
      "441/441 [==============================] - ETA: 0s - loss: 0.0145 - acc: 0.9955\n",
      "Epoch 00005: val_acc did not improve from 0.83035\n",
      "441/441 [==============================] - 169s 382ms/step - loss: 0.0145 - acc: 0.9955 - val_loss: 0.7863 - val_acc: 0.8201\n",
      "Epoch 6/100\n",
      "441/441 [==============================] - ETA: 0s - loss: 0.0120 - acc: 0.9962\n",
      "Epoch 00006: val_acc improved from 0.83035 to 0.83234, saving model to xception_best.ckpt\n",
      "441/441 [==============================] - 165s 374ms/step - loss: 0.0120 - acc: 0.9962 - val_loss: 0.7527 - val_acc: 0.8323\n",
      "Epoch 7/100\n",
      "441/441 [==============================] - ETA: 0s - loss: 0.0102 - acc: 0.9971\n",
      "Epoch 00007: val_acc did not improve from 0.83234\n",
      "441/441 [==============================] - 156s 355ms/step - loss: 0.0102 - acc: 0.9971 - val_loss: 0.7497 - val_acc: 0.8250\n",
      "Epoch 8/100\n",
      "441/441 [==============================] - ETA: 0s - loss: 0.0091 - acc: 0.9974\n",
      "Epoch 00008: val_acc did not improve from 0.83234\n",
      "441/441 [==============================] - 162s 368ms/step - loss: 0.0091 - acc: 0.9974 - val_loss: 0.8290 - val_acc: 0.8190\n",
      "Epoch 9/100\n",
      "441/441 [==============================] - ETA: 0s - loss: 0.0096 - acc: 0.9968\n",
      "Epoch 00009: val_acc improved from 0.83234 to 0.83574, saving model to xception_best.ckpt\n",
      "441/441 [==============================] - 194s 439ms/step - loss: 0.0096 - acc: 0.9968 - val_loss: 0.7474 - val_acc: 0.8357\n",
      "Epoch 10/100\n",
      "441/441 [==============================] - ETA: 0s - loss: 0.0089 - acc: 0.9972\n",
      "Epoch 00010: val_acc did not improve from 0.83574\n",
      "441/441 [==============================] - 172s 389ms/step - loss: 0.0089 - acc: 0.9972 - val_loss: 0.7717 - val_acc: 0.8321\n",
      "Epoch 11/100\n",
      "441/441 [==============================] - ETA: 0s - loss: 0.0080 - acc: 0.9975\n",
      "Epoch 00011: val_acc improved from 0.83574 to 0.84312, saving model to xception_best.ckpt\n",
      "441/441 [==============================] - 175s 396ms/step - loss: 0.0080 - acc: 0.9975 - val_loss: 0.7588 - val_acc: 0.8431\n",
      "Epoch 12/100\n",
      "441/441 [==============================] - ETA: 0s - loss: 0.0069 - acc: 0.9976\n",
      "Epoch 00012: val_acc did not improve from 0.84312\n",
      "441/441 [==============================] - 173s 393ms/step - loss: 0.0069 - acc: 0.9976 - val_loss: 0.7592 - val_acc: 0.8400\n",
      "Epoch 13/100\n",
      "441/441 [==============================] - ETA: 0s - loss: 0.0065 - acc: 0.9983\n",
      "Epoch 00013: val_acc did not improve from 0.84312\n",
      "441/441 [==============================] - 171s 387ms/step - loss: 0.0065 - acc: 0.9983 - val_loss: 0.7577 - val_acc: 0.8409\n",
      "Epoch 14/100\n",
      "441/441 [==============================] - ETA: 0s - loss: 0.0060 - acc: 0.9977\n",
      "Epoch 00014: val_acc did not improve from 0.84312\n",
      "441/441 [==============================] - 159s 360ms/step - loss: 0.0060 - acc: 0.9977 - val_loss: 0.7686 - val_acc: 0.8389\n",
      "Epoch 15/100\n",
      "441/441 [==============================] - ETA: 0s - loss: 0.0049 - acc: 0.9982\n",
      "Epoch 00015: val_acc did not improve from 0.84312\n",
      "441/441 [==============================] - 153s 348ms/step - loss: 0.0049 - acc: 0.9982 - val_loss: 0.7661 - val_acc: 0.8391\n",
      "Epoch 16/100\n",
      "441/441 [==============================] - ETA: 0s - loss: 0.0038 - acc: 0.9988\n",
      "Epoch 00016: val_acc did not improve from 0.84312\n",
      "441/441 [==============================] - 175s 396ms/step - loss: 0.0038 - acc: 0.9988 - val_loss: 0.7775 - val_acc: 0.8394\n",
      "Epoch 17/100\n",
      "441/441 [==============================] - ETA: 0s - loss: 0.0052 - acc: 0.9983\n",
      "Epoch 00017: val_acc did not improve from 0.84312\n",
      "441/441 [==============================] - 173s 393ms/step - loss: 0.0052 - acc: 0.9983 - val_loss: 0.7986 - val_acc: 0.8374\n",
      "Epoch 18/100\n",
      "441/441 [==============================] - ETA: 0s - loss: 0.0036 - acc: 0.9989\n",
      "Epoch 00018: val_acc did not improve from 0.84312\n",
      "441/441 [==============================] - 168s 381ms/step - loss: 0.0036 - acc: 0.9989 - val_loss: 0.8257 - val_acc: 0.8363\n",
      "Epoch 19/100\n",
      "441/441 [==============================] - ETA: 0s - loss: 0.0030 - acc: 0.9994\n",
      "Epoch 00019: val_acc improved from 0.84312 to 0.84823, saving model to xception_best.ckpt\n",
      "441/441 [==============================] - 174s 394ms/step - loss: 0.0030 - acc: 0.9994 - val_loss: 0.7918 - val_acc: 0.8482\n",
      "Epoch 20/100\n",
      "441/441 [==============================] - ETA: 0s - loss: 0.0029 - acc: 0.9992\n",
      "Epoch 00020: val_acc did not improve from 0.84823\n",
      "441/441 [==============================] - 170s 385ms/step - loss: 0.0029 - acc: 0.9992 - val_loss: 0.7992 - val_acc: 0.8443\n",
      "Epoch 21/100\n",
      "441/441 [==============================] - ETA: 0s - loss: 0.0056 - acc: 0.9982\n",
      "Epoch 00021: val_acc did not improve from 0.84823\n",
      "441/441 [==============================] - 164s 372ms/step - loss: 0.0056 - acc: 0.9982 - val_loss: 0.7927 - val_acc: 0.8372\n",
      "Epoch 22/100\n",
      "441/441 [==============================] - ETA: 0s - loss: 0.0041 - acc: 0.9990\n",
      "Epoch 00022: val_acc did not improve from 0.84823\n",
      "441/441 [==============================] - 155s 352ms/step - loss: 0.0041 - acc: 0.9990 - val_loss: 0.8023 - val_acc: 0.8462\n",
      "Epoch 23/100\n",
      "441/441 [==============================] - ETA: 0s - loss: 0.0028 - acc: 0.9992\n",
      "Epoch 00023: val_acc did not improve from 0.84823\n",
      "441/441 [==============================] - 158s 358ms/step - loss: 0.0028 - acc: 0.9992 - val_loss: 0.8178 - val_acc: 0.8434\n",
      "Epoch 24/100\n",
      "441/441 [==============================] - ETA: 0s - loss: 0.0069 - acc: 0.9980\n",
      "Epoch 00024: val_acc did not improve from 0.84823\n",
      "441/441 [==============================] - 156s 355ms/step - loss: 0.0069 - acc: 0.9980 - val_loss: 0.8220 - val_acc: 0.8366\n",
      "Epoch 25/100\n",
      "441/441 [==============================] - ETA: 0s - loss: 0.0057 - acc: 0.9984\n",
      "Epoch 00025: val_acc did not improve from 0.84823\n",
      "441/441 [==============================] - 152s 345ms/step - loss: 0.0057 - acc: 0.9984 - val_loss: 0.7931 - val_acc: 0.8479\n",
      "Epoch 26/100\n",
      "441/441 [==============================] - ETA: 0s - loss: 0.0028 - acc: 0.9992\n",
      "Epoch 00026: val_acc did not improve from 0.84823\n",
      "441/441 [==============================] - 179s 406ms/step - loss: 0.0028 - acc: 0.9992 - val_loss: 0.8131 - val_acc: 0.8445\n",
      "{'loss': [0.022800061851739883, 0.018181398510932922, 0.012811531312763691, 0.012195632793009281, 0.014529155567288399, 0.01195098739117384, 0.01021986547857523, 0.00908238347619772, 0.009623880498111248, 0.008852045051753521, 0.007961096242070198, 0.006933624390512705, 0.006456775590777397, 0.005964430049061775, 0.004873593337833881, 0.0037624468095600605, 0.005171915516257286, 0.0035699116997420788, 0.003006370272487402, 0.002857653424143791, 0.005576299969106913, 0.004081192892044783, 0.002775251865386963, 0.006868662778288126, 0.0056821973994374275, 0.0028021507896482944], 'acc': [0.9938249588012695, 0.9948896169662476, 0.9961672425270081, 0.9968060255050659, 0.9954574704170227, 0.9962381720542908, 0.9970899224281311, 0.9974448084831238, 0.9968060255050659, 0.9971609115600586, 0.9975157976150513, 0.9975867867469788, 0.9982965588569641, 0.997728705406189, 0.9982255697250366, 0.998793363571167, 0.9982965588569641, 0.9988643527030945, 0.9994322061538696, 0.9992192387580872, 0.9981545805931091, 0.9990063309669495, 0.9992192387580872, 0.9980126619338989, 0.9983675479888916, 0.9992192387580872], 'val_loss': [0.71373450756073, 0.7274907827377319, 0.7297999262809753, 0.7256003022193909, 0.7862511873245239, 0.7527013421058655, 0.7497138381004333, 0.8289898633956909, 0.7474104762077332, 0.7717371582984924, 0.7588120698928833, 0.7592000365257263, 0.757699191570282, 0.7685696482658386, 0.7661406397819519, 0.7774580717086792, 0.7986373901367188, 0.8256691098213196, 0.7917740941047668, 0.7991693019866943, 0.7926742434501648, 0.8023051023483276, 0.8177962899208069, 0.8219641447067261, 0.7930999994277954, 0.8131105899810791], 'val_acc': [0.822127640247345, 0.822127640247345, 0.8232623934745789, 0.830354630947113, 0.8201418519020081, 0.83234041929245, 0.8249645233154297, 0.8190070986747742, 0.8357446789741516, 0.8320567607879639, 0.8431205749511719, 0.8399999737739563, 0.8408510684967041, 0.8388652205467224, 0.8391489386558533, 0.8394325971603394, 0.8374468088150024, 0.8363120555877686, 0.8482269644737244, 0.8442553281784058, 0.8371631503105164, 0.8462411165237427, 0.843404233455658, 0.8365957736968994, 0.8479432463645935, 0.8445389866828918]}\n"
     ]
    },
    {
     "data": {
      "text/plain": [
       "<tensorflow.python.training.tracking.util.CheckpointLoadStatus at 0x1f479db6c08>"
      ]
     },
     "execution_count": 36,
     "metadata": {},
     "output_type": "execute_result"
    }
   ],
   "source": [
    "# train the model\n",
    "history = model.fit(\n",
    "        train_generator,\n",
    "        epochs=100,\n",
    "        validation_data=valid_generator,\n",
    "        callbacks=[my_callbacks],\n",
    "        class_weight=class_weights)\n",
    "print(history.history)\n",
    "# load best saved weights\n",
    "model.load_weights(checkpoint_path)"
   ]
  },
  {
   "cell_type": "code",
   "execution_count": 38,
   "metadata": {},
   "outputs": [
    {
     "name": "stderr",
     "output_type": "stream",
     "text": [
      "findfont: Font family ['AppleGothic'] not found. Falling back to DejaVu Sans.\n",
      "findfont: Font family ['AppleGothic'] not found. Falling back to DejaVu Sans.\n"
     ]
    },
    {
     "data": {
      "image/png": "[encoded data removed]",
      "text/plain": [
       "<Figure size 720x576 with 1 Axes>"
      ]
     },
     "metadata": {},
     "output_type": "display_data"
    },
    {
     "data": {
      "image/png": "[encoded data removed]",
      "text/plain": [
       "<Figure size 720x576 with 1 Axes>"
      ]
     },
     "metadata": {},
     "output_type": "display_data"
    }
   ],
   "source": [
    "# 6 훈련 과정 시각화 (정확도)\n",
    "plt.plot(history.history['acc'])\n",
    "plt.plot(history.history['val_acc'])\n",
    "plt.title('Model accuracy')\n",
    "plt.xlabel('Epoch')\n",
    "plt.ylabel('Accuracy')\n",
    "plt.legend(['Train', 'Test'], loc='upper left')\n",
    "plt.show()\n",
    "\n",
    "# 7 훈련 과정 시각화 (손실)\n",
    "plt.plot(history.history['loss'])\n",
    "plt.plot(history.history['val_loss'])\n",
    "plt.title('Model loss')\n",
    "plt.xlabel('Epoch')\n",
    "plt.ylabel('Loss')\n",
    "plt.legend(['Train', 'Test'], loc='upper left')\n",
    "plt.show()"
   ]
  },
  {
   "cell_type": "code",
   "execution_count": 39,
   "metadata": {},
   "outputs": [
    {
     "name": "stdout",
     "output_type": "stream",
     "text": [
      "111/111 [==============================] - 11s 99ms/step - loss: 0.7918 - acc: 0.8482 6s - loss: 0.8120 - acc: 0 - ETA: 5s - loss: 0.7934 - acc: 0. - ETA: 5s - loss - ETA: 3s - loss: 0.7 - ETA: 1s - loss: 0.7999 - acc: - ETA: 0s - loss: 0.7807 - acc:\n",
      "Loss = 0.7917741537094116\n",
      "Test Accuracy = 0.8482269644737244\n"
     ]
    }
   ],
   "source": [
    "preds = model.evaluate(valid_generator)\n",
    "print (\"Loss = \" + str(preds[0]))\n",
    "print (\"Test Accuracy = \" + str(preds[1]))"
   ]
  },
  {
   "cell_type": "code",
   "execution_count": 40,
   "metadata": {},
   "outputs": [],
   "source": [
    "import matplotlib.image as mpimg\n",
    "from matplotlib import font_manager, rc\n",
    "rc('font',family=\"AppleGothic\")\n",
    "plt.rcParams[\"font.family\"]=\"AppleGothic\" #plt 한글꺠짐\n",
    "plt.rcParams[\"font.family\"]=\"Arial\" #외국어꺠짐\n",
    "plt.rcParams['axes.unicode_minus'] = False # 마이너스 부호 출력 설정\n",
    "plt.rc('figure', figsize=(10,8))\n",
    "\n",
    "sns.set(font=\"AppleGothic\", \n",
    "        rc={\"axes.unicode_minus\":False},\n",
    "        style='darkgrid') #sns 한글깨짐\n"
   ]
  },
  {
   "cell_type": "code",
   "execution_count": 41,
   "metadata": {},
   "outputs": [],
   "source": [
    "model.save_weights(\"[0324]Early_last_pang_v2.h5\")"
   ]
  },
  {
   "cell_type": "code",
   "execution_count": 46,
   "metadata": {},
   "outputs": [
    {
     "data": {
      "text/html": [
       "<div>\n",
       "<style scoped>\n",
       "    .dataframe tbody tr th:only-of-type {\n",
       "        vertical-align: middle;\n",
       "    }\n",
       "\n",
       "    .dataframe tbody tr th {\n",
       "        vertical-align: top;\n",
       "    }\n",
       "\n",
       "    .dataframe thead th {\n",
       "        text-align: right;\n",
       "    }\n",
       "</style>\n",
       "<table border=\"1\" class=\"dataframe\">\n",
       "  <thead>\n",
       "    <tr style=\"text-align: right;\">\n",
       "      <th></th>\n",
       "      <th>filename</th>\n",
       "    </tr>\n",
       "  </thead>\n",
       "  <tbody>\n",
       "    <tr>\n",
       "      <th>0</th>\n",
       "      <td>C:\\Users\\yukir\\Documents\\Monicas_workspace\\NEW...</td>\n",
       "    </tr>\n",
       "    <tr>\n",
       "      <th>1</th>\n",
       "      <td>C:\\Users\\yukir\\Documents\\Monicas_workspace\\NEW...</td>\n",
       "    </tr>\n",
       "    <tr>\n",
       "      <th>2</th>\n",
       "      <td>C:\\Users\\yukir\\Documents\\Monicas_workspace\\NEW...</td>\n",
       "    </tr>\n",
       "    <tr>\n",
       "      <th>3</th>\n",
       "      <td>C:\\Users\\yukir\\Documents\\Monicas_workspace\\NEW...</td>\n",
       "    </tr>\n",
       "    <tr>\n",
       "      <th>4</th>\n",
       "      <td>C:\\Users\\yukir\\Documents\\Monicas_workspace\\NEW...</td>\n",
       "    </tr>\n",
       "  </tbody>\n",
       "</table>\n",
       "</div>"
      ],
      "text/plain": [
       "                                            filename\n",
       "0  C:\\Users\\yukir\\Documents\\Monicas_workspace\\NEW...\n",
       "1  C:\\Users\\yukir\\Documents\\Monicas_workspace\\NEW...\n",
       "2  C:\\Users\\yukir\\Documents\\Monicas_workspace\\NEW...\n",
       "3  C:\\Users\\yukir\\Documents\\Monicas_workspace\\NEW...\n",
       "4  C:\\Users\\yukir\\Documents\\Monicas_workspace\\NEW..."
      ]
     },
     "execution_count": 46,
     "metadata": {},
     "output_type": "execute_result"
    }
   ],
   "source": [
    "# read Train.csv file which contains image names and labels and preprocess them\n",
    "root_path= \"C:\\\\Users\\\\yukir\\\\Documents\\\\Monicas_workspace\\\\NEW_Knee\\\\data\\\\KneeXray\\\\KneeXray\\\\\"\n",
    "df_test_compi = pd.read_csv(root_path + \"Test.csv\")\n",
    "\n",
    "# add absolute path to the image names\n",
    "df_test_compi[\"filename\"] = df_test_compi.filename.apply(lambda x: root_path+\"test/\" + x)\n",
    "df_test_compi.head()"
   ]
  },
  {
   "cell_type": "code",
   "execution_count": 56,
   "metadata": {},
   "outputs": [
    {
     "data": {
      "text/plain": [
       "0    932\n",
       "2    615\n",
       "1    428\n",
       "3    306\n",
       "4     71\n",
       "Name: label, dtype: int64"
      ]
     },
     "execution_count": 56,
     "metadata": {},
     "output_type": "execute_result"
    }
   ],
   "source": [
    "n_class = 5\n",
    "\n",
    "# path to kaggle dataset\n",
    "root_path= \"C:\\\\Users\\\\yukir\\\\Documents\\\\Monicas_workspace\\\\NEW_Knee\\\\newenw\\\\whole_new\\\\OSAIL Knee Osteoarthritis KL Scoring Dataset\\\\OSAIL_KL_Dataset\\\\Labeled\"\n",
    "\n",
    "img_list = os.listdir(root_path)\n",
    "\n",
    "label_list = []\n",
    "image_list = []\n",
    "\n",
    "for i in os.listdir(root_path):\n",
    "    img_list = os.listdir(root_path+'\\\\'+i)\n",
    "    label_list += [int(i)] * len(img_list)\n",
    "    for k in img_list:\n",
    "        # print(k)\n",
    "        img_adr = root_path +'\\\\'+i+'\\\\'+k\n",
    "        image_list.append(img_adr)\n",
    "        \n",
    "\n",
    "df_test_kaggle  = pd.DataFrame({'filepath':image_list, 'label':label_list})\n",
    "df_test_kaggle.label.value_counts()\n",
    "\n",
    "# # convert to dataframe\n",
    "# df_train_kaggle = pd.DataFrame({\"filepath\" : image_path_list, \"label\": label_list})"
   ]
  },
  {
   "cell_type": "code",
   "execution_count": 58,
   "metadata": {},
   "outputs": [
    {
     "name": "stdout",
     "output_type": "stream",
     "text": [
      "Found 2352 validated image filenames.\n"
     ]
    }
   ],
   "source": [
    "from sklearn.metrics import precision_recall_curve\n",
    "target_shape = 224\n",
    "BATCH_SIZE = 1\n",
    "\n",
    "# test generator\n",
    "compi_gen = valid_aug.flow_from_dataframe(dataframe= df_test_kaggle,\n",
    "                            x_col= \"filepath\",\n",
    "                            class_mode=None,\n",
    "                            target_size= (target_shape, target_shape),\n",
    "                            shuffle= False,\n",
    "                            batch_size= BATCH_SIZE\n",
    "                            )"
   ]
  },
  {
   "cell_type": "code",
   "execution_count": 59,
   "metadata": {},
   "outputs": [
    {
     "name": "stdout",
     "output_type": "stream",
     "text": [
      "2352/2352 [==============================] - 18s 8ms/step\n"
     ]
    }
   ],
   "source": [
    "# prediction on train data\n",
    "predicition_compi = model.predict(compi_gen, steps= compi_gen.n/ BATCH_SIZE, verbose= 1)\n"
   ]
  },
  {
   "cell_type": "code",
   "execution_count": 61,
   "metadata": {},
   "outputs": [
    {
     "data": {
      "text/plain": [
       "<sklearn.metrics._plot.confusion_matrix.ConfusionMatrixDisplay at 0x1f4aabf8308>"
      ]
     },
     "execution_count": 61,
     "metadata": {},
     "output_type": "execute_result"
    },
    {
     "data": {
      "image/png": "[encoded data removed]",
      "text/plain": [
       "<Figure size 720x576 with 2 Axes>"
      ]
     },
     "metadata": {},
     "output_type": "display_data"
    }
   ],
   "source": [
    "from sklearn.metrics import confusion_matrix, ConfusionMatrixDisplay\n",
    "class_prediction_compi =  np.argmax(predicition_compi, axis= 1)\n",
    "cm = confusion_matrix(df_test_kaggle.label, class_prediction_compi, labels=[0, 1, 2, 3, 4])\n",
    "disp = ConfusionMatrixDisplay(confusion_matrix=cm,\n",
    "                              display_labels=[0, 1, 2, 3, 4])\n",
    "disp.plot()"
   ]
  }
 ],
 "metadata": {
  "interpreter": {
   "hash": "2d93d6df27dcc797823232b994e4f43d959f011089850837812bf48ca3e70a46"
  },
  "kernelspec": {
   "display_name": "Python 3.7.11 ('tensorflow37')",
   "language": "python",
   "name": "python3"
  },
  "language_info": {
   "codemirror_mode": {
    "name": "ipython",
    "version": 3
   },
   "file_extension": ".py",
   "mimetype": "text/x-python",
   "name": "python",
   "nbconvert_exporter": "python",
   "pygments_lexer": "ipython3",
   "version": "3.7.11"
  },
  "orig_nbformat": 4
 },
 "nbformat": 4,
 "nbformat_minor": 2
}
