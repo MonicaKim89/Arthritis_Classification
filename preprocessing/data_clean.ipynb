{
 "cells": [
  {
   "cell_type": "code",
   "execution_count": 95,
   "metadata": {},
   "outputs": [],
   "source": [
    "import cv2\n",
    "import os\n",
    "import numpy as np\n",
    "import pandas as pd\n",
    "pd.set_option('display.max_rows', None)\n",
    "import matplotlib.pylab as plt\n",
    "from sklearn.linear_model import LinearRegression\n",
    "import seaborn as sns\n",
    "import glob\n",
    "import math\n",
    "from IPython import get_ipython\n",
    "get_ipython().run_line_magic('matplotlib', 'inline')\n",
    "from IPython.display import Image\n",
    "\n",
    "#cv\n",
    "import cv2\n",
    "import math\n",
    "from PIL import Image\n",
    "import math\n",
    "from scipy import ndimage\n",
    "import argparse\n",
    "import imutils\n",
    "import xml.etree.ElementTree as ET\n",
    "\n",
    "from tqdm import tqdm\n",
    "#시각화\n",
    "import seaborn as sns\n",
    "import matplotlib.pyplot as plt\n",
    "import matplotlib\n",
    "get_ipython().run_line_magic('matplotlib', 'inline')\n",
    "\n",
    "import matplotlib.image as mpimg\n",
    "from matplotlib import font_manager, rc\n",
    "rc('font',family=\"AppleGothic\")\n",
    "plt.rcParams[\"font.family\"]=\"AppleGothic\" #plt 한글꺠짐\n",
    "plt.rcParams[\"font.family\"]=\"Arial\" #외국어꺠짐\n",
    "plt.rcParams['axes.unicode_minus'] = False # 마이너스 부호 출력 설정\n",
    "plt.rc('figure', figsize=(10,8))\n",
    "\n",
    "sns.set(font=\"AppleGothic\", \n",
    "        rc={\"axes.unicode_minus\":False},\n",
    "        style = 'darkgrid')\n",
    "\n",
    "import shutil"
   ]
  },
  {
   "cell_type": "code",
   "execution_count": 2,
   "metadata": {},
   "outputs": [],
   "source": [
    "def show(img):\n",
    "    #사이즈\n",
    "    plt.figure(figsize = (10,8))\n",
    "    #xticks/yticks - 눈금표\n",
    "    plt.xticks([])\n",
    "    plt.yticks([])\n",
    "    #코랩에서 안돌아감 주의\n",
    "    plt.imshow(img, cmap= 'gray')\n",
    "    plt.show()\n",
    "\n",
    "def show_img_compar(img_1, img_2 ):\n",
    "    f, ax = plt.subplots(1, 2, figsize=(10,10))\n",
    "    ax[0].imshow(img_1)\n",
    "    ax[1].imshow(img_2)\n",
    "    ax[0].axis('off') #hide the axis\n",
    "    ax[1].axis('off')\n",
    "    f.tight_layout()\n",
    "    plt.show()"
   ]
  },
  {
   "cell_type": "markdown",
   "metadata": {},
   "source": [
    "#### DATA EDA"
   ]
  },
  {
   "cell_type": "code",
   "execution_count": 94,
   "metadata": {},
   "outputs": [
    {
     "data": {
      "text/plain": [
       "7"
      ]
     },
     "execution_count": 94,
     "metadata": {},
     "output_type": "execute_result"
    }
   ],
   "source": [
    "data_path = \"C:\\\\Users\\\\yukir\\\\Documents\\Monicas_workspace\\\\Knee\\\\vgg_dataset\\\\mask\\\\val\\\\4\\\\\"\n",
    "save_path = \"C:\\\\Users\\\\yukir\\\\Documents\\\\Monicas_workspace\\\\Knee\\\\non_use\\\\mask_vgg_no\\\\val\\\\4\\\\\"\n",
    "img_list = os.listdir(data_path)\n",
    "\n",
    "n=0\n",
    "for i in img_list:\n",
    "    m = i.split('.jpg')[0]\n",
    "    try:\n",
    "        k = m.split('_mask')[0].split('_')[-1]\n",
    "        # print(k)\n",
    "        if len(k) == 1:\n",
    "            shutil.move(data_path+i, save_path+i)\n",
    "            n+=1\n",
    "    except:\n",
    "        pass\n",
    "n"
   ]
  },
  {
   "cell_type": "code",
   "execution_count": 69,
   "metadata": {},
   "outputs": [
    {
     "data": {
      "text/plain": [
       "7"
      ]
     },
     "execution_count": 69,
     "metadata": {},
     "output_type": "execute_result"
    }
   ],
   "source": [
    "data_path = \"C:\\\\Users\\\\yukir\\\\Documents\\Monicas_workspace\\\\Knee\\\\vgg_dataset\\\\org_preproc\\\\val\\\\4\\\\\"\n",
    "save_path = \"C:\\\\Users\\\\yukir\\\\Documents\\\\Monicas_workspace\\\\Knee\\\\non_use\\\\knee_vgg_no\\\\val\\\\4\\\\\"\n",
    "img_list = os.listdir(data_path)\n",
    "\n",
    "n=0\n",
    "for i in img_list:\n",
    "    m = i.split('.jpg')[0]\n",
    "    try:\n",
    "        k = m.split('_')[-1]\n",
    "        # print(k)\n",
    "        if len(k) == 1:\n",
    "            shutil.move(data_path+i, save_path+i)\n",
    "            n+=1\n",
    "    except:\n",
    "        pass\n",
    "\n",
    "n"
   ]
  },
  {
   "cell_type": "code",
   "execution_count": 95,
   "metadata": {},
   "outputs": [
    {
     "name": "stdout",
     "output_type": "stream",
     "text": [
      "3253\n",
      "True\n"
     ]
    }
   ],
   "source": [
    "data_path = 'C:\\\\Users\\\\yukir\\\\Documents\\\\Monicas_workspace\\\\Knee\\\\dataset\\\\knee_dataset_prepro\\\\0\\\\'\n",
    "mask_path = 'C:\\\\Users\\\\yukir\\\\Documents\\\\Monicas_workspace\\\\Knee\\\\dataset\\\\mask_dataset\\\\0\\\\'\n",
    "img_list = os.listdir(data_path)\n",
    "mask_list = os.listdir(data_path)\n",
    "\n",
    "print(len(img_list))\n",
    "print(len(img_list)==len(mask_list))"
   ]
  },
  {
   "cell_type": "code",
   "execution_count": 96,
   "metadata": {},
   "outputs": [
    {
     "name": "stdout",
     "output_type": "stream",
     "text": [
      "1495\n",
      "True\n"
     ]
    }
   ],
   "source": [
    "data_path = 'C:\\\\Users\\\\yukir\\\\Documents\\\\Monicas_workspace\\\\Knee\\\\dataset\\\\knee_dataset_prepro\\\\1\\\\'\n",
    "mask_path = 'C:\\\\Users\\\\yukir\\\\Documents\\\\Monicas_workspace\\\\Knee\\\\dataset\\\\mask_dataset\\\\1\\\\'\n",
    "img_list = os.listdir(data_path)\n",
    "mask_list = os.listdir(data_path)\n",
    "\n",
    "print(len(img_list))\n",
    "print(len(img_list)==len(mask_list))"
   ]
  },
  {
   "cell_type": "code",
   "execution_count": 97,
   "metadata": {},
   "outputs": [
    {
     "name": "stdout",
     "output_type": "stream",
     "text": [
      "2175\n",
      "True\n"
     ]
    }
   ],
   "source": [
    "data_path = 'C:\\\\Users\\\\yukir\\\\Documents\\\\Monicas_workspace\\\\Knee\\\\dataset\\\\knee_dataset_prepro\\\\2\\\\'\n",
    "mask_path = 'C:\\\\Users\\\\yukir\\\\Documents\\\\Monicas_workspace\\\\Knee\\\\dataset\\\\mask_dataset\\\\2\\\\'\n",
    "img_list = os.listdir(data_path)\n",
    "mask_list = os.listdir(data_path)\n",
    "\n",
    "print(len(img_list))\n",
    "print(len(img_list)==len(mask_list))"
   ]
  },
  {
   "cell_type": "code",
   "execution_count": 98,
   "metadata": {},
   "outputs": [
    {
     "name": "stdout",
     "output_type": "stream",
     "text": [
      "1086\n",
      "True\n"
     ]
    }
   ],
   "source": [
    "data_path = 'C:\\\\Users\\\\yukir\\\\Documents\\\\Monicas_workspace\\\\Knee\\\\dataset\\\\knee_dataset_prepro\\\\3\\\\'\n",
    "mask_path = 'C:\\\\Users\\\\yukir\\\\Documents\\\\Monicas_workspace\\\\Knee\\\\dataset\\\\mask_dataset\\\\3\\\\'\n",
    "img_list = os.listdir(data_path)\n",
    "mask_list = os.listdir(data_path)\n",
    "\n",
    "print(len(img_list))\n",
    "print(len(img_list)==len(mask_list))"
   ]
  },
  {
   "cell_type": "code",
   "execution_count": 99,
   "metadata": {},
   "outputs": [
    {
     "name": "stdout",
     "output_type": "stream",
     "text": [
      "251\n",
      "True\n"
     ]
    }
   ],
   "source": [
    "data_path = 'C:\\\\Users\\\\yukir\\\\Documents\\\\Monicas_workspace\\\\Knee\\\\dataset\\\\knee_dataset_prepro\\\\4\\\\'\n",
    "mask_path = 'C:\\\\Users\\\\yukir\\\\Documents\\\\Monicas_workspace\\\\Knee\\\\dataset\\\\mask_dataset\\\\4\\\\'\n",
    "img_list = os.listdir(data_path)\n",
    "mask_list = os.listdir(data_path)\n",
    "\n",
    "print(len(img_list))\n",
    "print(len(img_list)==len(mask_list))"
   ]
  },
  {
   "cell_type": "markdown",
   "metadata": {},
   "source": [
    "#### DOCTOR'S DATASET"
   ]
  },
  {
   "cell_type": "code",
   "execution_count": 3,
   "metadata": {},
   "outputs": [],
   "source": [
    "data_path = 'C:\\\\Users\\\\yukir\\\\Documents\\\\Monicas_workspace\\\\Knee\\\\dataset\\\\doctors\\\\4\\\\'\n",
    "save_path = 'C:\\\\Users\\\\yukir\\\\Documents\\\\Monicas_workspace\\\\Knee\\\\new_doctors\\\\4\\\\'\n",
    "\n",
    "img_list = os.listdir(data_path)"
   ]
  },
  {
   "cell_type": "code",
   "execution_count": 91,
   "metadata": {},
   "outputs": [
    {
     "name": "stderr",
     "output_type": "stream",
     "text": [
      "100%|██████████| 206/206 [00:02<00:00, 75.39it/s]\n"
     ]
    }
   ],
   "source": [
    "for i in tqdm(range(len(img_list))):\n",
    "    img = cv2.imread(data_path+img_list[i], cv2.IMREAD_COLOR)\n",
    "    img_ = cv2.imread(data_path+img_list[i], cv2.IMREAD_COLOR)\n",
    "    name = img_list[i].replace(' ','').replace('.png','.jpg')\n",
    "    # print(name)\n",
    "\n",
    "\n",
    "    ###마스킹####\n",
    "    blur_k = int((img.mean()*0.5)//2)*2+1 \n",
    "    img = cv2.medianBlur(img, blur_k)\n",
    "\n",
    "    #threshold 적용을 위해 Lab에서 Grayscale로 이미지 변환 03\n",
    "    img = cv2.cvtColor(img, cv2.COLOR_Lab2BGR)\n",
    "    img = cv2.cvtColor(img, cv2.COLOR_BGR2GRAY)\n",
    "\n",
    "    #이미지 평균값을 기준으로 이진화 04\n",
    "    img = cv2.adaptiveThreshold(img,255,cv2.ADAPTIVE_THRESH_MEAN_C,cv2.THRESH_BINARY,7,2)\n",
    "    # show(img)\n",
    "    #가장 큰 값의 컨투어로 마스크 만들기 05\n",
    "    contours, hierarchy = cv2.findContours(img, cv2.RETR_EXTERNAL, cv2.CHAIN_APPROX_SIMPLE)\n",
    "    max_cnt = max(contours, key=cv2.contourArea)\n",
    "    mask = np.zeros(img.shape, dtype=np.uint8)\n",
    "    cv2.drawContours(mask, [max_cnt], -1, (255,255,255), -1)\n",
    "\n",
    "    k = cv2.getStructuringElement(cv2.MORPH_RECT, (5,5))\n",
    "    mask = cv2.dilate(mask,k)\n",
    "    height, width= mask.shape\n",
    "    try:\n",
    "\n",
    "        for y in range(int(height*0.05),height):\n",
    "            if max(mask[y,int(width*0.3):int(width*0.7)]) > 0:\n",
    "                start_y = y-int(height*0.05)\n",
    "                break\n",
    "        #왼쪽\n",
    "        for x in range(int(width*0.05),width):\n",
    "            if max(mask[int(height*0.3):int(height*0.7),x]) > 0:\n",
    "                start_x = x\n",
    "                break\n",
    "        #오른쪽\n",
    "        for x in range(int(width*0.95),-1,-1):\n",
    "            if max(mask[int(height*0.3):int(height*0.7),x]) > 0:\n",
    "                end_x = x-2\n",
    "                break\n",
    "\n",
    "        img_ = img_[start_y:,start_x:end_x]\n",
    "\n",
    "    except:\n",
    "        print('error')\n",
    "        pass\n",
    "\n",
    "    ### preprocessing ###\n",
    "\n",
    "    hist, bins = np.histogram(img_.flatten(), 256,[0,256])\n",
    "\n",
    "    cdf = hist.cumsum()\n",
    "\n",
    "    # cdf의 값이 0인 경우는 mask처리를 하여 계산에서 제외\n",
    "    # mask처리가 되면 Numpy 계산에서 제외가 됨\n",
    "    # 아래는 cdf array에서 값이 0인 부분을 mask처리함\n",
    "    cdf_m = np.ma.masked_equal(cdf,0)\n",
    "\n",
    "    #History Equalization 공식\n",
    "    cdf_m = (cdf_m - cdf_m.min())*255/(cdf_m.max()-cdf_m.min())\n",
    "\n",
    "    # Mask처리를 했던 부분을 다시 0으로 변환\n",
    "    cdf = np.ma.filled(cdf_m,0).astype('uint8')\n",
    "\n",
    "    img2 = cdf[img_]\n",
    "\n",
    "    img3 = cv2.resize(img2, dsize=(224,224))\n",
    "\n",
    "    # show_img_compar(img, img3)\n",
    "\n",
    "    cv2.imwrite(save_path+name, img3)"
   ]
  },
  {
   "cell_type": "markdown",
   "metadata": {},
   "source": [
    "### NEW DATASET"
   ]
  },
  {
   "cell_type": "code",
   "execution_count": 172,
   "metadata": {},
   "outputs": [
    {
     "name": "stdout",
     "output_type": "stream",
     "text": [
      "2496\n",
      "938\n",
      "1618\n",
      "529\n",
      "1\n"
     ]
    }
   ],
   "source": [
    "data_path='C:\\\\Users\\\\yukir\\\\Documents\\\\Monicas_workspace\\\\Knee\\\\dataset\\\\knee_dataset_prepro\\\\'\n",
    "path_list = os.listdir(data_path)\n",
    "for i in path_list:\n",
    "    k = os.listdir(data_path+i)\n",
    "    print(len(k))"
   ]
  },
  {
   "cell_type": "code",
   "execution_count": 170,
   "metadata": {},
   "outputs": [
    {
     "name": "stdout",
     "output_type": "stream",
     "text": [
      "4\n"
     ]
    }
   ],
   "source": [
    "import random\n",
    "\n",
    "data_path='C:\\\\Users\\\\yukir\\\\Documents\\\\Monicas_workspace\\\\Knee\\\\dataset\\\\knee_dataset_prepro\\\\4\\\\'\n",
    "save_path = 'C:\\\\Users\\\\yukir\\\\Documents\\\\Monicas_workspace\\\\Knee\\\\dataset\\\\new_vgg\\\\val\\\\4\\\\'\n",
    "\n",
    "\n",
    "\n",
    "for i in range(100):\n",
    "    try:\n",
    "        num = random.randint(1, len(os.listdir(data_path)))\n",
    "        img_list = os.listdir(data_path)\n",
    "        name = img_list[num]\n",
    "        shutil.move(data_path+name, save_path+name)\n",
    "    except:\n",
    "        continue\n",
    "    \n",
    "    if len(os.listdir(save_path))==100:\n",
    "        break\n",
    "\n",
    "\n",
    "print(len(os.listdir('C:\\\\Users\\\\yukir\\\\Documents\\\\Monicas_workspace\\\\Knee\\\\dataset\\\\new_vgg\\\\val\\\\4\\\\')))\n",
    "    "
   ]
  },
  {
   "cell_type": "code",
   "execution_count": 124,
   "metadata": {},
   "outputs": [
    {
     "data": {
      "text/plain": [
       "457"
      ]
     },
     "execution_count": 124,
     "metadata": {},
     "output_type": "execute_result"
    }
   ],
   "source": [
    "len(os.listdir(data_path))"
   ]
  },
  {
   "cell_type": "code",
   "execution_count": null,
   "metadata": {},
   "outputs": [],
   "source": []
  }
 ],
 "metadata": {
  "interpreter": {
   "hash": "2d93d6df27dcc797823232b994e4f43d959f011089850837812bf48ca3e70a46"
  },
  "kernelspec": {
   "display_name": "Python 3.7.11 64-bit ('tensorflow37': conda)",
   "language": "python",
   "name": "python3"
  },
  "language_info": {
   "codemirror_mode": {
    "name": "ipython",
    "version": 3
   },
   "file_extension": ".py",
   "mimetype": "text/x-python",
   "name": "python",
   "nbconvert_exporter": "python",
   "pygments_lexer": "ipython3",
   "version": "3.7.11"
  },
  "orig_nbformat": 4
 },
 "nbformat": 4,
 "nbformat_minor": 2
}
