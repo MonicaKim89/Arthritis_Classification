{
 "cells": [
  {
   "cell_type": "code",
   "execution_count": 1,
   "metadata": {},
   "outputs": [
    {
     "name": "stdout",
     "output_type": "stream",
     "text": [
      "C:\\Users\\yukir\\Documents\\GitHub\\Sign_Recognition\\py\n"
     ]
    },
    {
     "name": "stderr",
     "output_type": "stream",
     "text": [
      "Using TensorFlow backend.\n"
     ]
    },
    {
     "name": "stdout",
     "output_type": "stream",
     "text": [
      "[name: \"/device:CPU:0\"\n",
      "device_type: \"CPU\"\n",
      "memory_limit: 268435456\n",
      "locality {\n",
      "}\n",
      "incarnation: 4818327099118513476\n",
      ", name: \"/device:XLA_CPU:0\"\n",
      "device_type: \"XLA_CPU\"\n",
      "memory_limit: 17179869184\n",
      "locality {\n",
      "}\n",
      "incarnation: 12475548090354566136\n",
      "physical_device_desc: \"device: XLA_CPU device\"\n",
      ", name: \"/device:GPU:0\"\n",
      "device_type: \"GPU\"\n",
      "memory_limit: 9883535296\n",
      "locality {\n",
      "  bus_id: 1\n",
      "  links {\n",
      "  }\n",
      "}\n",
      "incarnation: 18340448853346922460\n",
      "physical_device_desc: \"device: 0, name: NVIDIA GeForce RTX 2080 Ti, pci bus id: 0000:01:00.0, compute capability: 7.5\"\n",
      ", name: \"/device:XLA_GPU:0\"\n",
      "device_type: \"XLA_GPU\"\n",
      "memory_limit: 17179869184\n",
      "locality {\n",
      "}\n",
      "incarnation: 9389783758801802836\n",
      "physical_device_desc: \"device: XLA_GPU device\"\n",
      "]\n",
      "tf 2.2.0\n",
      "keras 2.3.0-tf\n",
      "set_global_determinism(seed=1337) 이거 꼭 해라\n",
      "set_global_determinism(seed=1337) 이거 꼭 해라\n",
      "set_global_determinism(seed=1337) 이거 꼭 해라\n"
     ]
    }
   ],
   "source": [
    "%cd C:\\Users\\yukir\\Documents\\GitHub\\Sign_Recognition\\py\n",
    "\n",
    "from basic_preprocessing import *\n",
    "from deeplearning_check import *\n",
    "from machine_learning import *\n",
    "\n",
    "gpu_check()\n",
    "set_global_determinism(seed=SEED)\n",
    "\n",
    "import os\n",
    "import numpy as np\n",
    "import pandas as pd\n",
    "pd.set_option('display.max_rows', None)\n",
    "import matplotlib.pylab as plt\n",
    "from sklearn.linear_model import LinearRegression\n",
    "import seaborn as sns\n",
    "import glob\n",
    "import math\n",
    "from IPython import get_ipython\n",
    "get_ipython().run_line_magic('matplotlib', 'inline')\n",
    "from IPython.display import Image\n",
    "\n",
    "#cv\n",
    "import cv2\n",
    "import math\n",
    "from PIL import Image\n",
    "import math\n",
    "from scipy import ndimage\n",
    "import argparse\n",
    "import imutils\n",
    "import xml.etree.ElementTree as ET\n",
    "\n",
    "\n",
    "#시각화\n",
    "import seaborn as sns\n",
    "import matplotlib.pyplot as plt\n",
    "import matplotlib\n",
    "get_ipython().run_line_magic('matplotlib', 'inline')\n",
    "\n",
    "import matplotlib.image as mpimg\n",
    "from matplotlib import font_manager, rc\n",
    "rc('font',family=\"consolas\")\n",
    "plt.rcParams[\"font.family\"]=\"consolas\" #plt 한글꺠짐\n",
    "plt.rcParams[\"font.family\"]=\"Arial\" #외국어꺠짐\n",
    "plt.rcParams['axes.unicode_minus'] = False # 마이너스 부호 출력 설정\n",
    "plt.rc('figure', figsize=(10,8))\n",
    "\n",
    "sns.set(font=\"consolas\", \n",
    "        rc={\"axes.unicode_minus\":False},style='darkgrid')\n"
   ]
  },
  {
   "cell_type": "code",
   "execution_count": 2,
   "metadata": {},
   "outputs": [
    {
     "name": "stdout",
     "output_type": "stream",
     "text": [
      "C:\\Users\\yukir\\Documents\\Monicas_workspace\\Knee\n"
     ]
    }
   ],
   "source": [
    "import random \n",
    "from tqdm import tqdm\n",
    "from skimage.io import imread, imshow\n",
    "from skimage.transform import resize\n",
    "\n",
    "%cd C:\\Users\\yukir\\Documents\\Monicas_workspace\\Knee"
   ]
  },
  {
   "cell_type": "code",
   "execution_count": 3,
   "metadata": {},
   "outputs": [],
   "source": [
    "def show(img):\n",
    "    #사이즈\n",
    "    plt.figure(figsize = (6,6))\n",
    "    #xticks/yticks - 눈금표\n",
    "    plt.xticks([])\n",
    "    plt.yticks([])\n",
    "    #코랩에서 안돌아감 주의\n",
    "    plt.imshow(img, cmap= 'gray')\n",
    "    plt.show()\n",
    "\n",
    "def show_img_compar(img_1, img_2 ):\n",
    "    f, ax = plt.subplots(1, 2, figsize=(6,6))\n",
    "    ax[0].imshow(img_1)\n",
    "    ax[1].imshow(img_2)\n",
    "    ax[0].axis('off') #hide the axis\n",
    "    ax[1].axis('off')\n",
    "    f.tight_layout()\n",
    "    plt.show()"
   ]
  },
  {
   "cell_type": "markdown",
   "metadata": {},
   "source": [
    "#### MODEL_LOAD"
   ]
  },
  {
   "cell_type": "code",
   "execution_count": 4,
   "metadata": {},
   "outputs": [],
   "source": [
    "from tensorflow.keras.models import load_model\n",
    "model = load_model('C:\\\\Users\\\\yukir\\\\Documents\\\\Monicas_workspace\\\\Knee\\\\unet\\\\[0110]knee_annotation.h5')"
   ]
  },
  {
   "cell_type": "markdown",
   "metadata": {},
   "source": [
    "#### IMG_LOADER"
   ]
  },
  {
   "cell_type": "code",
   "execution_count": 132,
   "metadata": {},
   "outputs": [
    {
     "name": "stdout",
     "output_type": "stream",
     "text": [
      "295\n"
     ]
    }
   ],
   "source": [
    "# img_loader\n",
    "#Test Image\n",
    "IMG_WIDTH = 224\n",
    "IMG_HEIGHT = 224\n",
    "IMG_CHANNELS = 1\n",
    "\n",
    "IMG_PATH = 'C:\\\\Users\\\\yukir\\\\Documents\\\\Monicas_workspace\\\\Knee\\\\knee_dataset_org\\\\4\\\\'\n",
    "img_list = []\n",
    "file_name =[]\n",
    "for i in os.listdir(IMG_PATH):\n",
    "    adr = IMG_PATH+i\n",
    "    # print(adr)\n",
    "    img_list.append(IMG_PATH+i)\n",
    "    file_name.append(i)\n",
    "\n",
    "print(len(img_list))\n"
   ]
  },
  {
   "cell_type": "code",
   "execution_count": 133,
   "metadata": {},
   "outputs": [
    {
     "name": "stderr",
     "output_type": "stream",
     "text": [
      "295it [00:02, 144.34it/s]"
     ]
    },
    {
     "name": "stdout",
     "output_type": "stream",
     "text": [
      "Done\n"
     ]
    },
    {
     "name": "stderr",
     "output_type": "stream",
     "text": [
      "\n"
     ]
    }
   ],
   "source": [
    "# img_loader\n",
    "#Test Image\n",
    "\n",
    "X_test = np.zeros((len(img_list),224,224), dtype= np.uint8)\n",
    "\n",
    "sizes_test = []\n",
    "for n, id_ in tqdm(enumerate(img_list)):\n",
    "    img_ = imread(id_)\n",
    "    # show(img)\n",
    "    hist, bins = np.histogram(img_.flatten(), 256,[0,256])\n",
    "\n",
    "    cdf = hist.cumsum()\n",
    "\n",
    "    # cdf의 값이 0인 경우는 mask처리를 하여 계산에서 제외\n",
    "    # mask처리가 되면 Numpy 계산에서 제외가 됨\n",
    "    # 아래는 cdf array에서 값이 0인 부분을 mask처리함\n",
    "    cdf_m = np.ma.masked_equal(cdf,0)\n",
    "\n",
    "    #History Equalization 공식\n",
    "    cdf_m = (cdf_m - cdf_m.min())*255/(cdf_m.max()-cdf_m.min())\n",
    "\n",
    "    # Mask처리를 했던 부분을 다시 0으로 변환\n",
    "    cdf = np.ma.filled(cdf_m,0).astype('uint8')\n",
    "\n",
    "    img = cdf[img_]\n",
    "    # print(img.shape)\n",
    "    sizes_test.append([img.shape[0], img.shape[1]])\n",
    "    img = resize(img, (IMG_HEIGHT,IMG_WIDTH), mode = 'constant', preserve_range = True)\n",
    "    X_test[n] = img\n",
    "\n",
    "print('Done')"
   ]
  },
  {
   "cell_type": "code",
   "execution_count": 134,
   "metadata": {},
   "outputs": [
    {
     "name": "stdout",
     "output_type": "stream",
     "text": [
      "10/10 [==============================] - 0s 35ms/step\n"
     ]
    }
   ],
   "source": [
    "preds_test = model.predict(X_test, verbose =1)\n",
    "preds_test_t = (preds_test>0.5).astype(np.uint8)"
   ]
  },
  {
   "cell_type": "code",
   "execution_count": 135,
   "metadata": {},
   "outputs": [
    {
     "name": "stderr",
     "output_type": "stream",
     "text": [
      "100%|██████████| 295/295 [00:01<00:00, 240.81it/s]\n"
     ]
    }
   ],
   "source": [
    "for i in tqdm (range (len(preds_test_t))):\n",
    "    img_1 = imread(img_list[i])\n",
    "    img_2 = X_test[i]\n",
    "    img_3 = np.squeeze(preds_test_t[i])\n",
    "\n",
    "    img_name = file_name[i].split('.jpg')[0]\n",
    "\n",
    "    #저장\n",
    "    save_path = 'C:\\\\Users\\\\yukir\\\\Documents\\\\Monicas_workspace\\\\Knee\\\\mask_dataset\\\\4\\\\'\n",
    "    img = cv2.convertScaleAbs(img_3, alpha=(255.0)) # 이거없으면 all black 으로 저장됨 \n",
    "    cv2.imwrite(save_path+img_name+'_mask.jpg', img)\n",
    "\n",
    "    # print(len(preds_test_t)-i, '--------', file_name[i])\n",
    "    # show(preds_test_t[i])\n",
    "    # f, ax = plt.subplots(1, 3, figsize=(8,8))\n",
    "    # ax[0].imshow(img_1,cmap = 'gray')\n",
    "    # ax[1].imshow(img_2,cmap = 'gray')\n",
    "    # ax[2].imshow(img_3,cmap = 'gray')\n",
    "    # ax[0].axis('off') #hide the axis\n",
    "    # ax[1].axis('off')\n",
    "    # ax[2].axis('off')\n",
    "    # f.tight_layout()\n",
    "    # plt.show()"
   ]
  },
  {
   "cell_type": "markdown",
   "metadata": {},
   "source": [
    "### MAKE csv"
   ]
  },
  {
   "cell_type": "code",
   "execution_count": 174,
   "metadata": {},
   "outputs": [],
   "source": [
    "org_list=[]\n",
    "mask_list=[]\n",
    "grade_list=[]"
   ]
  },
  {
   "cell_type": "code",
   "execution_count": 175,
   "metadata": {},
   "outputs": [
    {
     "name": "stderr",
     "output_type": "stream",
     "text": [
      "100%|██████████| 3857/3857 [00:00<00:00, 3855441.02it/s]"
     ]
    },
    {
     "name": "stdout",
     "output_type": "stream",
     "text": [
      "3857\n",
      "3857\n",
      "3857\n"
     ]
    },
    {
     "name": "stderr",
     "output_type": "stream",
     "text": [
      "\n"
     ]
    }
   ],
   "source": [
    "knee_0_org = os.listdir('C:\\\\Users\\\\yukir\\\\Documents\\\\Monicas_workspace\\\\Knee\\\\knee_dataset_org\\\\0\\\\')\n",
    "knee_0_mask = os.listdir('C:\\\\Users\\\\yukir\\\\Documents\\\\Monicas_workspace\\\\Knee\\\\mask_dataset\\\\0\\\\')\n",
    "for i in knee_0_org:\n",
    "    org_list.append(i)\n",
    "\n",
    "for k in knee_0_mask:\n",
    "    mask_list.append(k)\n",
    "\n",
    "for i in tqdm (range(len(knee_0_mask))):\n",
    "    grade_list.append('0')\n",
    "    \n",
    "print(len(org_list))\n",
    "print(len(mask_list))\n",
    "print(len(grade_list))"
   ]
  },
  {
   "cell_type": "code",
   "execution_count": 179,
   "metadata": {},
   "outputs": [
    {
     "name": "stderr",
     "output_type": "stream",
     "text": [
      "100%|██████████| 295/295 [00:00<?, ?it/s]"
     ]
    },
    {
     "name": "stdout",
     "output_type": "stream",
     "text": [
      "9786\n",
      "9786\n",
      "9786\n"
     ]
    },
    {
     "name": "stderr",
     "output_type": "stream",
     "text": [
      "\n"
     ]
    }
   ],
   "source": [
    "knee_org = os.listdir('C:\\\\Users\\\\yukir\\\\Documents\\\\Monicas_workspace\\\\Knee\\\\knee_dataset_org\\\\4\\\\')\n",
    "knee_mask = os.listdir('C:\\\\Users\\\\yukir\\\\Documents\\\\Monicas_workspace\\\\Knee\\\\mask_dataset\\\\4\\\\')\n",
    "for i in knee_org:\n",
    "    org_list.append(i)\n",
    "\n",
    "for k in knee_mask:\n",
    "    mask_list.append(k)\n",
    "\n",
    "for i in tqdm (range(len(knee_mask))):\n",
    "    grade_list.append('4')\n",
    "    \n",
    "print(len(org_list))\n",
    "print(len(mask_list))\n",
    "print(len(grade_list))"
   ]
  },
  {
   "cell_type": "code",
   "execution_count": 180,
   "metadata": {},
   "outputs": [],
   "source": [
    "data_info = pd.DataFrame({'org_file':org_list, 'mask_file':mask_list, 'grade':grade_list})\n",
    "data_info.head()\n",
    "\n",
    "data_info.to_excel('arth_data.xlsx', encoding='utf-8')"
   ]
  },
  {
   "cell_type": "markdown",
   "metadata": {},
   "source": [
    "#### DATA SPLIT"
   ]
  },
  {
   "cell_type": "code",
   "execution_count": 181,
   "metadata": {},
   "outputs": [
    {
     "data": {
      "text/plain": [
       "['C:\\\\Users\\\\yukir\\\\Documents\\\\Monicas_workspace\\\\Knee\\\\knee_dataset_org\\\\0',\n",
       " 'C:\\\\Users\\\\yukir\\\\Documents\\\\Monicas_workspace\\\\Knee\\\\knee_dataset_org\\\\1',\n",
       " 'C:\\\\Users\\\\yukir\\\\Documents\\\\Monicas_workspace\\\\Knee\\\\knee_dataset_org\\\\2',\n",
       " 'C:\\\\Users\\\\yukir\\\\Documents\\\\Monicas_workspace\\\\Knee\\\\knee_dataset_org\\\\3',\n",
       " 'C:\\\\Users\\\\yukir\\\\Documents\\\\Monicas_workspace\\\\Knee\\\\knee_dataset_org\\\\4']"
      ]
     },
     "execution_count": 181,
     "metadata": {},
     "output_type": "execute_result"
    }
   ],
   "source": [
    "data_path = 'C:\\\\Users\\\\yukir\\\\Documents\\\\Monicas_workspace\\\\Knee\\\\knee_dataset_org\\\\'\n",
    "list_file = get_file_list(data_path)\n",
    "list_file"
   ]
  },
  {
   "cell_type": "code",
   "execution_count": 182,
   "metadata": {},
   "outputs": [],
   "source": [
    "categories = ['0','1','2','3','4']"
   ]
  },
  {
   "cell_type": "code",
   "execution_count": 183,
   "metadata": {},
   "outputs": [],
   "source": [
    "def data_for_ml (categories, data_path, num):\n",
    "    data = []\n",
    "    img_path=[]\n",
    "    \n",
    "\n",
    "    for category in categories:\n",
    "        file_path = os.path.join(data_path, category)\n",
    "        print(file_path)\n",
    "        label = categories.index(category)\n",
    "\n",
    "        for img in os.listdir(file_path):\n",
    "            imgpath = os.path.join(file_path, img)\n",
    "            img_path.append(imgpath)\n",
    "\n",
    "            try: \n",
    "                pet_img = cv2.imread(imgpath, cv2.IMREAD_COLOR)\n",
    "                # pet_img = cv2.cvtColor(pet_img, cv2.COLOR_BGR2RGB)\n",
    "                pet_img = cv2.resize(pet_img, (num, num))\n",
    "\n",
    "                images = np.array(pet_img).flatten()\n",
    "\n",
    "                data.append([images, label])\n",
    "\n",
    "            except Exception as e:\n",
    "                pass\n",
    "\n",
    "    print('data수: ', len(data))\n",
    "    return data, img_path, label"
   ]
  },
  {
   "cell_type": "code",
   "execution_count": 184,
   "metadata": {},
   "outputs": [
    {
     "name": "stdout",
     "output_type": "stream",
     "text": [
      "C:\\Users\\yukir\\Documents\\Monicas_workspace\\Knee\\knee_dataset_org\\0\n",
      "C:\\Users\\yukir\\Documents\\Monicas_workspace\\Knee\\knee_dataset_org\\1\n",
      "C:\\Users\\yukir\\Documents\\Monicas_workspace\\Knee\\knee_dataset_org\\2\n",
      "C:\\Users\\yukir\\Documents\\Monicas_workspace\\Knee\\knee_dataset_org\\3\n",
      "C:\\Users\\yukir\\Documents\\Monicas_workspace\\Knee\\knee_dataset_org\\4\n",
      "data수:  9786\n"
     ]
    }
   ],
   "source": [
    "data, img_path, label = data_for_ml(categories, data_path, 224)"
   ]
  },
  {
   "cell_type": "code",
   "execution_count": 185,
   "metadata": {},
   "outputs": [
    {
     "name": "stdout",
     "output_type": "stream",
     "text": [
      "features:  9786\n",
      "features ex:  [89 89 89 ... 80 80 80]\n",
      "feature shape:  (150528,)\n",
      "-----------------------------\n",
      "labels:  9786\n",
      "labels ex:  0\n",
      "labels shape:  (150528,)\n"
     ]
    }
   ],
   "source": [
    "features, labels = feature_label_maker(data)"
   ]
  },
  {
   "cell_type": "code",
   "execution_count": 186,
   "metadata": {},
   "outputs": [
    {
     "name": "stdout",
     "output_type": "stream",
     "text": [
      "9786\n",
      "9786\n",
      "9786\n"
     ]
    }
   ],
   "source": [
    "print(len(img_path))\n",
    "print(len(labels))\n",
    "print(len(features))"
   ]
  },
  {
   "cell_type": "code",
   "execution_count": 187,
   "metadata": {},
   "outputs": [
    {
     "data": {
      "text/plain": [
       "'C:\\\\Users\\\\yukir\\\\Documents\\\\Monicas_workspace\\\\Knee\\\\knee_dataset_org\\\\0\\\\0_9003126L.jpg'"
      ]
     },
     "execution_count": 187,
     "metadata": {},
     "output_type": "execute_result"
    }
   ],
   "source": [
    "feature_names = []\n",
    "for num, i in enumerate (img_path):\n",
    "    i = i.split('/')[-1]\n",
    "    feature_names.append(i)\n",
    "    \n",
    "feature_names[2]"
   ]
  },
  {
   "cell_type": "code",
   "execution_count": 188,
   "metadata": {},
   "outputs": [
    {
     "name": "stdout",
     "output_type": "stream",
     "text": [
      "이미지 수 3857\n",
      "0 None\n",
      "이미지 수 1770\n",
      "1 None\n",
      "이미지 수 2578\n",
      "2 None\n",
      "이미지 수 1286\n",
      "3 None\n",
      "이미지 수 295\n",
      "4 None\n"
     ]
    }
   ],
   "source": [
    "for i in categories:\n",
    "    img_paths = data_path+i\n",
    "    print(i, count_img(img_paths))"
   ]
  },
  {
   "cell_type": "code",
   "execution_count": 189,
   "metadata": {},
   "outputs": [
    {
     "data": {
      "image/png": "[encoded data removed]",
      "text/plain": [
       "<Figure size 432x432 with 1 Axes>"
      ]
     },
     "metadata": {},
     "output_type": "display_data"
    },
    {
     "name": "stdout",
     "output_type": "stream",
     "text": [
      "0\n"
     ]
    }
   ],
   "source": [
    "for_test = features[0]\n",
    "for_test_img = for_test.reshape(224,224,3)\n",
    "show(for_test_img)\n",
    "print(categories[labels[3]])"
   ]
  },
  {
   "cell_type": "code",
   "execution_count": 190,
   "metadata": {},
   "outputs": [],
   "source": [
    "from sklearn.model_selection import StratifiedKFold, StratifiedShuffleSplit, KFold"
   ]
  },
  {
   "cell_type": "code",
   "execution_count": 191,
   "metadata": {},
   "outputs": [
    {
     "name": "stdout",
     "output_type": "stream",
     "text": [
      "StratifiedKFold(n_splits=5, random_state=42, shuffle=True)\n"
     ]
    }
   ],
   "source": [
    "skf = StratifiedKFold(n_splits = 5, random_state = 42, shuffle=True)\n",
    "\n",
    "skf.get_n_splits(features, labels)\n",
    "print(skf)"
   ]
  },
  {
   "cell_type": "markdown",
   "metadata": {},
   "source": [
    "#### validation용 dataset"
   ]
  },
  {
   "cell_type": "code",
   "execution_count": 192,
   "metadata": {},
   "outputs": [
    {
     "name": "stdout",
     "output_type": "stream",
     "text": [
      "1958\n",
      "1958\n"
     ]
    }
   ],
   "source": [
    "train_index, test_index = next(skf.split(features, labels))\n",
    "train_X, test_X = features[train_index], features[test_index]\n",
    "train_y, test_y = labels[train_index], labels[test_index]\n",
    "\n",
    "print(len(test_X))\n",
    "print(len(test_X))"
   ]
  },
  {
   "cell_type": "code",
   "execution_count": 193,
   "metadata": {},
   "outputs": [],
   "source": [
    "val_img_list = []\n",
    "for i in test_index:\n",
    "    val_img_list.append(img_path[i])"
   ]
  },
  {
   "cell_type": "code",
   "execution_count": 194,
   "metadata": {},
   "outputs": [],
   "source": [
    "knee_0 =\"C:\\\\Users\\\\yukir\\\\Documents\\\\Monicas_workspace\\\\Knee\\\\vgg_dataset\\\\val\\\\0\"\n",
    "knee_1 =\"C:\\\\Users\\\\yukir\\\\Documents\\\\Monicas_workspace\\\\Knee\\\\vgg_dataset\\\\val\\\\1\"\n",
    "knee_2 =\"C:\\\\Users\\\\yukir\\\\Documents\\\\Monicas_workspace\\\\Knee\\\\vgg_dataset\\\\val\\\\2\"\n",
    "knee_3 =\"C:\\\\Users\\\\yukir\\\\Documents\\\\Monicas_workspace\\\\Knee\\\\vgg_dataset\\\\val\\\\3\"\n",
    "knee_4 =\"C:\\\\Users\\\\yukir\\\\Documents\\\\Monicas_workspace\\\\Knee\\\\vgg_dataset\\\\val\\\\4\""
   ]
  },
  {
   "cell_type": "code",
   "execution_count": 195,
   "metadata": {},
   "outputs": [],
   "source": [
    "import shutil\n",
    "import os\n",
    "\n",
    "\n",
    "for i in val_img_list:\n",
    "    try:\n",
    "        if '0_' in i:\n",
    "            shutil.copy(i, knee_0)\n",
    "        elif '1_' in i:\n",
    "            shutil.copy(i, knee_1)\n",
    "        elif '2_' in i:\n",
    "            shutil.copy(i, knee_2)\n",
    "        elif '3_' in i:\n",
    "            shutil.copy(i, knee_3)\n",
    "        elif '4_' in i:\n",
    "            shutil.copy(i, knee_4)\n",
    "    except:\n",
    "        print(i)"
   ]
  },
  {
   "cell_type": "markdown",
   "metadata": {},
   "source": [
    "#### train, test용 dataset"
   ]
  },
  {
   "cell_type": "code",
   "execution_count": 196,
   "metadata": {},
   "outputs": [
    {
     "data": {
      "image/png": "[encoded data removed]",
      "text/plain": [
       "<Figure size 432x432 with 1 Axes>"
      ]
     },
     "metadata": {},
     "output_type": "display_data"
    }
   ],
   "source": [
    "test_index =test_index.tolist()\n",
    "img_path[0]\n",
    "jpg = test_X[0].reshape(224,224,3)\n",
    "show(jpg)"
   ]
  },
  {
   "cell_type": "code",
   "execution_count": 198,
   "metadata": {},
   "outputs": [
    {
     "name": "stdout",
     "output_type": "stream",
     "text": [
      "7828\n"
     ]
    }
   ],
   "source": [
    "#새로운 파일명 만들기 --> feature되야함\n",
    "\n",
    "new_img_path =[]\n",
    "for num, i in enumerate(features):\n",
    "    if num in test_index:\n",
    "#         print(test_index[num])\n",
    "        pass\n",
    "    else:\n",
    "        new_img_path.append(img_path[num])\n",
    "        \n",
    "print(len(new_img_path))"
   ]
  },
  {
   "cell_type": "code",
   "execution_count": 199,
   "metadata": {},
   "outputs": [],
   "source": [
    "new_features=[]\n",
    "for num, i in enumerate (features):\n",
    "    if num in test_index:\n",
    "        pass\n",
    "    else:\n",
    "        new_features.append(i)"
   ]
  },
  {
   "cell_type": "code",
   "execution_count": 200,
   "metadata": {},
   "outputs": [],
   "source": [
    "new_label = []\n",
    "for num, i in enumerate (labels):\n",
    "    if num in test_index:\n",
    "        pass\n",
    "    else:\n",
    "        new_label.append(i)"
   ]
  },
  {
   "cell_type": "code",
   "execution_count": 201,
   "metadata": {},
   "outputs": [],
   "source": [
    "new_features = np.array(new_features)\n",
    "new_label = np.array(new_label)"
   ]
  },
  {
   "cell_type": "code",
   "execution_count": 202,
   "metadata": {},
   "outputs": [],
   "source": [
    "#train_test\n",
    "\n",
    "train_index1, test_index1 = next(skf.split(new_features, new_label))\n",
    "X_train, X_test = new_features[train_index1], new_features[test_index1]\n",
    "y_train, y_test = new_label[train_index1], new_label[test_index1]"
   ]
  },
  {
   "cell_type": "code",
   "execution_count": 207,
   "metadata": {},
   "outputs": [],
   "source": [
    "train_img_list = []\n",
    "for i in train_index1:\n",
    "    train_img_list.append(new_img_path[i])\n",
    "\n",
    "    \n",
    "test_img_list = []\n",
    "for i in test_index1:\n",
    "    test_img_list.append(new_img_path[i])"
   ]
  },
  {
   "cell_type": "code",
   "execution_count": 208,
   "metadata": {},
   "outputs": [],
   "source": [
    "# train\n",
    " \n",
    "knee_0 =\"C:\\\\Users\\\\yukir\\\\Documents\\\\Monicas_workspace\\\\Knee\\\\vgg_dataset\\\\train\\\\0\"\n",
    "knee_1 =\"C:\\\\Users\\\\yukir\\\\Documents\\\\Monicas_workspace\\\\Knee\\\\vgg_dataset\\\\train\\\\1\"\n",
    "knee_2 =\"C:\\\\Users\\\\yukir\\\\Documents\\\\Monicas_workspace\\\\Knee\\\\vgg_dataset\\\\train\\\\2\"\n",
    "knee_3 =\"C:\\\\Users\\\\yukir\\\\Documents\\\\Monicas_workspace\\\\Knee\\\\vgg_dataset\\\\train\\\\3\"\n",
    "knee_4 =\"C:\\\\Users\\\\yukir\\\\Documents\\\\Monicas_workspace\\\\Knee\\\\vgg_dataset\\\\train\\\\4\""
   ]
  },
  {
   "cell_type": "code",
   "execution_count": 209,
   "metadata": {},
   "outputs": [
    {
     "name": "stderr",
     "output_type": "stream",
     "text": [
      "100%|██████████| 6262/6262 [00:08<00:00, 722.33it/s]\n"
     ]
    }
   ],
   "source": [
    "for i in tqdm(train_img_list):\n",
    "    try:\n",
    "        if '0_' in i:\n",
    "            shutil.copy(i, knee_0)\n",
    "        elif '1_' in i:\n",
    "            shutil.copy(i, knee_1)\n",
    "        elif '2_' in i:\n",
    "            shutil.copy(i, knee_2)\n",
    "        elif '3_' in i:\n",
    "            shutil.copy(i, knee_3)\n",
    "        elif '4_' in i:\n",
    "            shutil.copy(i, knee_4)\n",
    "    except:\n",
    "        print(i)"
   ]
  },
  {
   "cell_type": "code",
   "execution_count": 210,
   "metadata": {},
   "outputs": [],
   "source": [
    "# test\n",
    " \n",
    "knee_0 =\"C:\\\\Users\\\\yukir\\\\Documents\\\\Monicas_workspace\\\\Knee\\\\vgg_dataset\\\\test\\\\0\"\n",
    "knee_1 =\"C:\\\\Users\\\\yukir\\\\Documents\\\\Monicas_workspace\\\\Knee\\\\vgg_dataset\\\\test\\\\1\"\n",
    "knee_2 =\"C:\\\\Users\\\\yukir\\\\Documents\\\\Monicas_workspace\\\\Knee\\\\vgg_dataset\\\\test\\\\2\"\n",
    "knee_3 =\"C:\\\\Users\\\\yukir\\\\Documents\\\\Monicas_workspace\\\\Knee\\\\vgg_dataset\\\\test\\\\3\"\n",
    "knee_4 =\"C:\\\\Users\\\\yukir\\\\Documents\\\\Monicas_workspace\\\\Knee\\\\vgg_dataset\\\\teset\\\\4\""
   ]
  },
  {
   "cell_type": "code",
   "execution_count": 211,
   "metadata": {},
   "outputs": [
    {
     "name": "stderr",
     "output_type": "stream",
     "text": [
      "100%|██████████| 1566/1566 [00:02<00:00, 761.60it/s]"
     ]
    },
    {
     "name": "stdout",
     "output_type": "stream",
     "text": [
      "C:\\Users\\yukir\\Documents\\Monicas_workspace\\Knee\\knee_dataset_org\\4\\4_9012867R.jpg\n",
      "C:\\Users\\yukir\\Documents\\Monicas_workspace\\Knee\\knee_dataset_org\\4\\4_9025994L.jpg\n",
      "C:\\Users\\yukir\\Documents\\Monicas_workspace\\Knee\\knee_dataset_org\\4\\4_9069393L.jpg\n",
      "C:\\Users\\yukir\\Documents\\Monicas_workspace\\Knee\\knee_dataset_org\\4\\4_9114036R.jpg\n",
      "C:\\Users\\yukir\\Documents\\Monicas_workspace\\Knee\\knee_dataset_org\\4\\4_9144384R.jpg\n",
      "C:\\Users\\yukir\\Documents\\Monicas_workspace\\Knee\\knee_dataset_org\\4\\4_9173013L.jpg\n",
      "C:\\Users\\yukir\\Documents\\Monicas_workspace\\Knee\\knee_dataset_org\\4\\4_9197466L.jpg\n",
      "C:\\Users\\yukir\\Documents\\Monicas_workspace\\Knee\\knee_dataset_org\\4\\4_9218935R.jpg\n",
      "C:\\Users\\yukir\\Documents\\Monicas_workspace\\Knee\\knee_dataset_org\\4\\4_9230284L.jpg\n",
      "C:\\Users\\yukir\\Documents\\Monicas_workspace\\Knee\\knee_dataset_org\\4\\4_9254422L.jpg\n",
      "C:\\Users\\yukir\\Documents\\Monicas_workspace\\Knee\\knee_dataset_org\\4\\4_9303539L.jpg\n",
      "C:\\Users\\yukir\\Documents\\Monicas_workspace\\Knee\\knee_dataset_org\\4\\4_9351700R.jpg\n",
      "C:\\Users\\yukir\\Documents\\Monicas_workspace\\Knee\\knee_dataset_org\\4\\4_9363397L.jpg\n",
      "C:\\Users\\yukir\\Documents\\Monicas_workspace\\Knee\\knee_dataset_org\\4\\4_9373191L.jpg\n",
      "C:\\Users\\yukir\\Documents\\Monicas_workspace\\Knee\\knee_dataset_org\\4\\4_9438523R.jpg\n",
      "C:\\Users\\yukir\\Documents\\Monicas_workspace\\Knee\\knee_dataset_org\\4\\4_9439428R.jpg\n",
      "C:\\Users\\yukir\\Documents\\Monicas_workspace\\Knee\\knee_dataset_org\\4\\4_9475286R.jpg\n",
      "C:\\Users\\yukir\\Documents\\Monicas_workspace\\Knee\\knee_dataset_org\\4\\4_9488319L.jpg\n",
      "C:\\Users\\yukir\\Documents\\Monicas_workspace\\Knee\\knee_dataset_org\\4\\4_9510943L.jpg\n",
      "C:\\Users\\yukir\\Documents\\Monicas_workspace\\Knee\\knee_dataset_org\\4\\4_9512864L.jpg\n",
      "C:\\Users\\yukir\\Documents\\Monicas_workspace\\Knee\\knee_dataset_org\\4\\4_9519310L.jpg\n",
      "C:\\Users\\yukir\\Documents\\Monicas_workspace\\Knee\\knee_dataset_org\\4\\4_9547902L.jpg\n",
      "C:\\Users\\yukir\\Documents\\Monicas_workspace\\Knee\\knee_dataset_org\\4\\4_9555061L.jpg\n",
      "C:\\Users\\yukir\\Documents\\Monicas_workspace\\Knee\\knee_dataset_org\\4\\4_9555061R.jpg\n",
      "C:\\Users\\yukir\\Documents\\Monicas_workspace\\Knee\\knee_dataset_org\\4\\4_9561824L.jpg\n",
      "C:\\Users\\yukir\\Documents\\Monicas_workspace\\Knee\\knee_dataset_org\\4\\4_9610439R.jpg\n",
      "C:\\Users\\yukir\\Documents\\Monicas_workspace\\Knee\\knee_dataset_org\\4\\4_9622083L.jpg\n",
      "C:\\Users\\yukir\\Documents\\Monicas_workspace\\Knee\\knee_dataset_org\\4\\4_9643944R.jpg\n",
      "C:\\Users\\yukir\\Documents\\Monicas_workspace\\Knee\\knee_dataset_org\\4\\4_9690658R.jpg\n",
      "C:\\Users\\yukir\\Documents\\Monicas_workspace\\Knee\\knee_dataset_org\\4\\4_9693806R.jpg\n",
      "C:\\Users\\yukir\\Documents\\Monicas_workspace\\Knee\\knee_dataset_org\\4\\4_9727543L.jpg\n",
      "C:\\Users\\yukir\\Documents\\Monicas_workspace\\Knee\\knee_dataset_org\\4\\4_9732751R.jpg\n",
      "C:\\Users\\yukir\\Documents\\Monicas_workspace\\Knee\\knee_dataset_org\\4\\4_9745368R.jpg\n",
      "C:\\Users\\yukir\\Documents\\Monicas_workspace\\Knee\\knee_dataset_org\\4\\4_9761503L.jpg\n",
      "C:\\Users\\yukir\\Documents\\Monicas_workspace\\Knee\\knee_dataset_org\\4\\4_9787693R.jpg\n",
      "C:\\Users\\yukir\\Documents\\Monicas_workspace\\Knee\\knee_dataset_org\\4\\4_9800368L.jpg\n",
      "C:\\Users\\yukir\\Documents\\Monicas_workspace\\Knee\\knee_dataset_org\\4\\4_9818359L.jpg\n",
      "C:\\Users\\yukir\\Documents\\Monicas_workspace\\Knee\\knee_dataset_org\\4\\4_9828555L.jpg\n",
      "C:\\Users\\yukir\\Documents\\Monicas_workspace\\Knee\\knee_dataset_org\\4\\4_9842579L.jpg\n",
      "C:\\Users\\yukir\\Documents\\Monicas_workspace\\Knee\\knee_dataset_org\\4\\4_9856356L.jpg\n",
      "C:\\Users\\yukir\\Documents\\Monicas_workspace\\Knee\\knee_dataset_org\\4\\4_9896743L.jpg\n",
      "C:\\Users\\yukir\\Documents\\Monicas_workspace\\Knee\\knee_dataset_org\\4\\4_9900761R.jpg\n",
      "C:\\Users\\yukir\\Documents\\Monicas_workspace\\Knee\\knee_dataset_org\\4\\4_9950790R.jpg\n",
      "C:\\Users\\yukir\\Documents\\Monicas_workspace\\Knee\\knee_dataset_org\\4\\4_9967719L.jpg\n",
      "C:\\Users\\yukir\\Documents\\Monicas_workspace\\Knee\\knee_dataset_org\\4\\4_9975485R.jpg\n",
      "C:\\Users\\yukir\\Documents\\Monicas_workspace\\Knee\\knee_dataset_org\\4\\4_9978026L.jpg\n"
     ]
    },
    {
     "name": "stderr",
     "output_type": "stream",
     "text": [
      "\n"
     ]
    }
   ],
   "source": [
    "for i in tqdm(test_img_list):\n",
    "    try:\n",
    "        if '0_' in i:\n",
    "            shutil.copy(i, knee_0)\n",
    "        elif '1_' in i:\n",
    "            shutil.copy(i, knee_1)\n",
    "        elif '2_' in i:\n",
    "            shutil.copy(i, knee_2)\n",
    "        elif '3_' in i:\n",
    "            shutil.copy(i, knee_3)\n",
    "        elif '4_' in i:\n",
    "            shutil.copy(i, knee_4)\n",
    "    except:\n",
    "        print(i)"
   ]
  },
  {
   "cell_type": "markdown",
   "metadata": {},
   "source": [
    "#### masked data move"
   ]
  },
  {
   "cell_type": "code",
   "execution_count": 104,
   "metadata": {},
   "outputs": [
    {
     "name": "stdout",
     "output_type": "stream",
     "text": [
      "['4_9048789L.jpg', '4_9081306L.jpg', '4_9101066_1.jpg']\n",
      "36\n"
     ]
    }
   ],
   "source": [
    "path = \"C:\\\\Users\\\\yukir\\\\Documents\\\\Monicas_workspace\\\\Knee\\\\vgg_dataset\\\\org\\\\val\\\\4\\\\\"\n",
    "file_name = os.listdir(path)\n",
    "print(file_name[:3])\n",
    "print(len(file_name))"
   ]
  },
  {
   "cell_type": "code",
   "execution_count": 105,
   "metadata": {},
   "outputs": [
    {
     "name": "stdout",
     "output_type": "stream",
     "text": [
      "295\n"
     ]
    }
   ],
   "source": [
    "mask_path = \"C:\\\\Users\\\\yukir\\\\Documents\\\\Monicas_workspace\\\\Knee\\\\mask_dataset\\\\4\"\n",
    "mask_file = os.listdir(mask_path)\n",
    "\n",
    "mask_list=[]\n",
    "\n",
    "for i in mask_file:\n",
    "    name = i.split('_mask')[0]\n",
    "    mask_list.append(name)\n",
    "\n",
    "print(len(mask_list))"
   ]
  },
  {
   "cell_type": "code",
   "execution_count": 106,
   "metadata": {},
   "outputs": [
    {
     "name": "stderr",
     "output_type": "stream",
     "text": [
      "36it [00:00, 210.53it/s]\n"
     ]
    }
   ],
   "source": [
    "save_path = \"C:\\\\Users\\\\yukir\\\\Documents\\\\Monicas_workspace\\\\Knee\\\\vgg_dataset\\\\mask\\\\val\\\\4\\\\\"\n",
    "\n",
    "for num, i in tqdm(enumerate(file_name)):\n",
    "    img_name = i.split('.jpg')[0]\n",
    "    # print(img_name)\n",
    "    if img_name in mask_list:\n",
    "        # print(save_path+i)\n",
    "        shutil.copy2(path+i, save_path+img_name+'_masked.jpg')"
   ]
  },
  {
   "cell_type": "code",
   "execution_count": null,
   "metadata": {},
   "outputs": [],
   "source": []
  }
 ],
 "metadata": {
  "interpreter": {
   "hash": "2d93d6df27dcc797823232b994e4f43d959f011089850837812bf48ca3e70a46"
  },
  "kernelspec": {
   "display_name": "Python 3.7.11 64-bit ('tensorflow37': conda)",
   "language": "python",
   "name": "python3"
  },
  "language_info": {
   "codemirror_mode": {
    "name": "ipython",
    "version": 3
   },
   "file_extension": ".py",
   "mimetype": "text/x-python",
   "name": "python",
   "nbconvert_exporter": "python",
   "pygments_lexer": "ipython3",
   "version": "3.7.11"
  },
  "orig_nbformat": 4
 },
 "nbformat": 4,
 "nbformat_minor": 2
}
