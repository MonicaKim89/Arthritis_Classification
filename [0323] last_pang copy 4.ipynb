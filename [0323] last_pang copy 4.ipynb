{
 "cells": [
  {
   "cell_type": "code",
   "execution_count": 6,
   "metadata": {},
   "outputs": [
    {
     "name": "stdout",
     "output_type": "stream",
     "text": [
      "C:\\Users\\yukir\\Documents\\GitHub\\Sign_Recognition\\py\n",
      "[name: \"/device:CPU:0\"\n",
      "device_type: \"CPU\"\n",
      "memory_limit: 268435456\n",
      "locality {\n",
      "}\n",
      "incarnation: 8953243162249003449\n",
      ", name: \"/device:XLA_CPU:0\"\n",
      "device_type: \"XLA_CPU\"\n",
      "memory_limit: 17179869184\n",
      "locality {\n",
      "}\n",
      "incarnation: 13103024106402696599\n",
      "physical_device_desc: \"device: XLA_CPU device\"\n",
      ", name: \"/device:GPU:0\"\n",
      "device_type: \"GPU\"\n",
      "memory_limit: 9883535296\n",
      "locality {\n",
      "  bus_id: 1\n",
      "  links {\n",
      "  }\n",
      "}\n",
      "incarnation: 2040523710908250220\n",
      "physical_device_desc: \"device: 0, name: NVIDIA GeForce RTX 2080 Ti, pci bus id: 0000:01:00.0, compute capability: 7.5\"\n",
      ", name: \"/device:XLA_GPU:0\"\n",
      "device_type: \"XLA_GPU\"\n",
      "memory_limit: 17179869184\n",
      "locality {\n",
      "}\n",
      "incarnation: 2225884510983500913\n",
      "physical_device_desc: \"device: XLA_GPU device\"\n",
      "]\n",
      "tf 2.2.0\n",
      "keras 2.3.0-tf\n",
      "set_global_determinism(seed=1337) 이거 꼭 해라\n",
      "set_global_determinism(seed=1337) 이거 꼭 해라\n",
      "set_global_determinism(seed=1337) 이거 꼭 해라\n",
      "C:\\Users\\yukir\\Documents\\Monicas_workspace\\Knee\n"
     ]
    }
   ],
   "source": [
    "%cd C:\\Users\\yukir\\Documents\\GitHub\\Sign_Recognition\\py\n",
    "\n",
    "from basic_preprocessing import *\n",
    "from deeplearning_check import *\n",
    "from machine_learning import *\n",
    "\n",
    "gpu_check()\n",
    "set_global_determinism(seed=SEED)\n",
    "\n",
    "%cd C:\\Users\\yukir\\Documents\\Monicas_workspace\\Knee"
   ]
  },
  {
   "cell_type": "code",
   "execution_count": 7,
   "metadata": {},
   "outputs": [],
   "source": [
    "%matplotlib inline\n",
    "import numpy as np \n",
    "import pandas as pd\n",
    "import os\n",
    "from glob import glob\n",
    "import matplotlib.pyplot as plt\n",
    "from keras_preprocessing.image import ImageDataGenerator\n",
    "from tensorflow.keras.applications import ResNet152V2\n",
    "from tensorflow.keras.layers import GlobalAveragePooling2D\n",
    "import tensorflow as tf\n",
    "from tensorflow.keras.callbacks import ModelCheckpoint, EarlyStopping, ReduceLROnPlateau\n",
    "from keras.models import Model"
   ]
  },
  {
   "cell_type": "code",
   "execution_count": 8,
   "metadata": {},
   "outputs": [],
   "source": [
    "from tensorflow.keras.applications import Xception"
   ]
  },
  {
   "cell_type": "code",
   "execution_count": 9,
   "metadata": {},
   "outputs": [],
   "source": [
    "### classess = 5로 줄여야 할 수도 있음\n",
    " \n",
    "model = tf.keras.applications.xception.Xception(\n",
    "    include_top=True, weights='imagenet', input_tensor=None,\n",
    "    input_shape=None, pooling=None, classes=1000,\n",
    "    classifier_activation='softmax'\n",
    ")"
   ]
  },
  {
   "cell_type": "code",
   "execution_count": 10,
   "metadata": {},
   "outputs": [
    {
     "data": {
      "text/plain": [
       "0    5553\n",
       "2    3712\n",
       "1    2548\n",
       "3    1852\n",
       "4     424\n",
       "Name: label, dtype: int64"
      ]
     },
     "execution_count": 10,
     "metadata": {},
     "output_type": "execute_result"
    }
   ],
   "source": [
    "n_class = 5\n",
    "\n",
    "# path to kaggle dataset\n",
    "root_path = \"C:\\\\Users\\\\yukir\\\\Documents\\\\Monicas_workspace\\\\NEW_Knee\\\\newenw\\\\last_pang_2\\\\train\"\n",
    "\n",
    "img_list = os.listdir(root_path)\n",
    "\n",
    "label_list = []\n",
    "image_list = []\n",
    "\n",
    "for i in os.listdir(root_path):\n",
    "    img_list = os.listdir(root_path+'\\\\'+i)\n",
    "    label_list += [int(i)] * len(img_list)\n",
    "    for k in img_list:\n",
    "        # print(k)\n",
    "        img_adr = root_path +'\\\\'+i+'\\\\'+k\n",
    "        image_list.append(img_adr)\n",
    "        \n",
    "\n",
    "df_train_kaggle  = pd.DataFrame({'filepath':image_list, 'label':label_list})\n",
    "df_train_kaggle.label.value_counts()\n",
    "\n",
    "# # convert to dataframe\n",
    "# df_train_kaggle = pd.DataFrame({\"filepath\" : image_path_list, \"label\": label_list})"
   ]
  },
  {
   "cell_type": "code",
   "execution_count": 11,
   "metadata": {},
   "outputs": [
    {
     "data": {
      "text/plain": [
       "0    5553\n",
       "2    3712\n",
       "1    2548\n",
       "3    1852\n",
       "4     424\n",
       "Name: label, dtype: int64"
      ]
     },
     "execution_count": 11,
     "metadata": {},
     "output_type": "execute_result"
    }
   ],
   "source": [
    "df_train_kaggle.label.value_counts()"
   ]
  },
  {
   "cell_type": "code",
   "execution_count": 12,
   "metadata": {},
   "outputs": [
    {
     "data": {
      "text/plain": [
       "(14089, 2)"
      ]
     },
     "execution_count": 12,
     "metadata": {},
     "output_type": "execute_result"
    }
   ],
   "source": [
    "df_train_kaggle.shape"
   ]
  },
  {
   "cell_type": "markdown",
   "metadata": {},
   "source": [
    "### class distribution"
   ]
  },
  {
   "cell_type": "code",
   "execution_count": 13,
   "metadata": {},
   "outputs": [
    {
     "data": {
      "text/plain": [
       "Text(0, 0.5, 'count')"
      ]
     },
     "execution_count": 13,
     "metadata": {},
     "output_type": "execute_result"
    },
    {
     "data": {
      "image/png": "[encoded data removed]",
      "text/plain": [
       "<Figure size 432x288 with 1 Axes>"
      ]
     },
     "metadata": {
      "needs_background": "light"
     },
     "output_type": "display_data"
    }
   ],
   "source": [
    "df_train_kaggle.label.value_counts().plot.bar()\n",
    "plt.xlabel(\"label\")\n",
    "plt.ylabel(\"count\")"
   ]
  },
  {
   "cell_type": "code",
   "execution_count": 14,
   "metadata": {},
   "outputs": [],
   "source": [
    "# train data generator object\n",
    "train_aug = ImageDataGenerator(rescale=1./255)\n",
    "\n",
    "# validation data generator object\n",
    "valid_aug = ImageDataGenerator(rescale=1./255)"
   ]
  },
  {
   "cell_type": "code",
   "execution_count": 15,
   "metadata": {},
   "outputs": [
    {
     "name": "stdout",
     "output_type": "stream",
     "text": [
      "Found 14089 validated image filenames.\n"
     ]
    }
   ],
   "source": [
    "# create train generator\n",
    "train_generator = train_aug.flow_from_dataframe(\n",
    "dataframe=df_train_kaggle,\n",
    "directory=None,\n",
    "x_col=\"filepath\",\n",
    "y_col=\"label\",\n",
    "batch_size=32,\n",
    "seed=42,\n",
    "shuffle=True,\n",
    "class_mode=\"raw\",\n",
    "target_size=(224,224))"
   ]
  },
  {
   "cell_type": "code",
   "execution_count": 16,
   "metadata": {},
   "outputs": [
    {
     "name": "stdout",
     "output_type": "stream",
     "text": [
      "C:\\Users\\yukir\\Documents\\Monicas_workspace\\NEW_Knee\n"
     ]
    }
   ],
   "source": [
    "%cd C:\\Users\\yukir\\Documents\\Monicas_workspace\\NEW_Knee"
   ]
  },
  {
   "cell_type": "code",
   "execution_count": 17,
   "metadata": {},
   "outputs": [
    {
     "data": {
      "text/plain": [
       "0    1389\n",
       "2     928\n",
       "1     638\n",
       "3     463\n",
       "4     107\n",
       "Name: label, dtype: int64"
      ]
     },
     "execution_count": 17,
     "metadata": {},
     "output_type": "execute_result"
    }
   ],
   "source": [
    "n_class = 5\n",
    "\n",
    "# path to kaggle dataset\n",
    "root_path = \"C:\\\\Users\\\\yukir\\\\Documents\\\\Monicas_workspace\\\\NEW_Knee\\\\newenw\\\\last_pang\\\\val\"\n",
    "\n",
    "img_list = os.listdir(root_path)\n",
    "\n",
    "label_list = []\n",
    "image_list = []\n",
    "\n",
    "for i in os.listdir(root_path):\n",
    "    img_list = os.listdir(root_path+'\\\\'+i)\n",
    "    label_list += [int(i)] * len(img_list)\n",
    "    for k in img_list:\n",
    "        # print(k)\n",
    "        img_adr = root_path +'\\\\'+i+'\\\\'+k\n",
    "        image_list.append(img_adr)\n",
    "        \n",
    "\n",
    "df_val_kaggle  = pd.DataFrame({'filepath':image_list, 'label':label_list})\n",
    "df_val_kaggle.label.value_counts()\n",
    "\n",
    "# # convert to dataframe\n",
    "# df_train_kaggle = pd.DataFrame({\"filepath\" : image_path_list, \"label\": label_list})"
   ]
  },
  {
   "cell_type": "code",
   "execution_count": 18,
   "metadata": {},
   "outputs": [
    {
     "data": {
      "text/plain": [
       "Text(0, 0.5, 'count')"
      ]
     },
     "execution_count": 18,
     "metadata": {},
     "output_type": "execute_result"
    },
    {
     "data": {
      "image/png": "[encoded data removed]",
      "text/plain": [
       "<Figure size 432x288 with 1 Axes>"
      ]
     },
     "metadata": {
      "needs_background": "light"
     },
     "output_type": "display_data"
    }
   ],
   "source": [
    "df_val_kaggle.label.value_counts().plot.bar()\n",
    "plt.xlabel(\"label\")\n",
    "plt.ylabel(\"count\")"
   ]
  },
  {
   "cell_type": "code",
   "execution_count": 19,
   "metadata": {},
   "outputs": [
    {
     "name": "stdout",
     "output_type": "stream",
     "text": [
      "Found 3525 validated image filenames.\n"
     ]
    }
   ],
   "source": [
    "# create validation generator\n",
    "valid_generator = valid_aug.flow_from_dataframe( \n",
    "dataframe= df_val_kaggle,\n",
    "x_col= \"filepath\",\n",
    "y_col= \"label\",\n",
    "batch_size= 32,\n",
    "seed= 42,\n",
    "shuffle= True,\n",
    "class_mode= \"raw\",\n",
    "target_size= (224,224))"
   ]
  },
  {
   "cell_type": "code",
   "execution_count": 20,
   "metadata": {},
   "outputs": [],
   "source": [
    "%matplotlib inline\n",
    "import numpy as np \n",
    "import pandas as pd\n",
    "import os\n",
    "from glob import glob\n",
    "import matplotlib.pyplot as plt\n",
    "from keras_preprocessing.image import ImageDataGenerator\n",
    "from tensorflow.keras.applications import ResNet152V2\n",
    "from tensorflow.keras.layers import GlobalAveragePooling2D\n",
    "import tensorflow as tf\n",
    "from tensorflow.keras.callbacks import ModelCheckpoint, EarlyStopping, ReduceLROnPlateau\n",
    "from keras.models import Model"
   ]
  },
  {
   "cell_type": "code",
   "execution_count": 21,
   "metadata": {},
   "outputs": [],
   "source": [
    "# compile\n",
    "model.compile(optimizer = tf.keras.optimizers.Adam(learning_rate=0.00001,decay=0.0001),\n",
    "                 metrics=[\"acc\"],\n",
    "                 loss= tf.keras.losses.sparse_categorical_crossentropy)\n",
    "\n",
    "# callbacks and checkpoints\n",
    "checkpoint_path = \"xception_best.ckpt\"\n",
    "checkpoint_dir = os.path.dirname(checkpoint_path)\n",
    "my_callbacks = [\n",
    "               ModelCheckpoint(checkpoint_path,\n",
    "                               monitor = 'val_acc',\n",
    "                               verbose = 1,\n",
    "                               save_weights_only=True,\n",
    "                               save_best_only = True,\n",
    "                               mode=\"max\"),\n",
    "              EarlyStopping(monitor='val_loss',\n",
    "                            patience=25,\n",
    "                            verbose=0)\n",
    "                \n",
    "]"
   ]
  },
  {
   "cell_type": "code",
   "execution_count": 22,
   "metadata": {},
   "outputs": [],
   "source": [
    "from sklearn.utils import class_weight\n",
    "class_weights = class_weight.compute_class_weight('balanced',\n",
    "                                                 classes= np.unique(df_train_kaggle.label.values),\n",
    "                                                 y= df_train_kaggle.label.values)\n",
    "class_weights = dict(enumerate(class_weights))"
   ]
  },
  {
   "cell_type": "code",
   "execution_count": 23,
   "metadata": {},
   "outputs": [
    {
     "data": {
      "text/plain": [
       "{0: 0.5074374212137583,\n",
       " 1: 1.1058869701726846,\n",
       " 2: 0.7591056034482758,\n",
       " 3: 1.521490280777538,\n",
       " 4: 6.645754716981132}"
      ]
     },
     "execution_count": 23,
     "metadata": {},
     "output_type": "execute_result"
    }
   ],
   "source": [
    "class_weights"
   ]
  },
  {
   "cell_type": "code",
   "execution_count": 24,
   "metadata": {},
   "outputs": [
    {
     "name": "stdout",
     "output_type": "stream",
     "text": [
      "Epoch 1/100\n",
      "441/441 [==============================] - ETA: 0s - loss: 3.3283 - acc: 0.2726\n",
      "Epoch 00001: val_acc improved from -inf to 0.30270, saving model to xception_best.ckpt\n",
      "441/441 [==============================] - 203s 460ms/step - loss: 3.3283 - acc: 0.2726 - val_loss: 1.7533 - val_acc: 0.3027\n",
      "Epoch 2/100\n",
      "441/441 [==============================] - ETA: 0s - loss: 1.1560 - acc: 0.4843\n",
      "Epoch 00002: val_acc improved from 0.30270 to 0.55574, saving model to xception_best.ckpt\n",
      "441/441 [==============================] - 152s 344ms/step - loss: 1.1560 - acc: 0.4843 - val_loss: 1.1023 - val_acc: 0.5557\n",
      "Epoch 3/100\n",
      "441/441 [==============================] - ETA: 0s - loss: 0.8674 - acc: 0.5729\n",
      "Epoch 00003: val_acc improved from 0.55574 to 0.60908, saving model to xception_best.ckpt\n",
      "441/441 [==============================] - 157s 357ms/step - loss: 0.8674 - acc: 0.5729 - val_loss: 0.9548 - val_acc: 0.6091\n",
      "Epoch 4/100\n",
      "441/441 [==============================] - ETA: 0s - loss: 0.6934 - acc: 0.6454\n",
      "Epoch 00004: val_acc improved from 0.60908 to 0.72255, saving model to xception_best.ckpt\n",
      "441/441 [==============================] - 157s 356ms/step - loss: 0.6934 - acc: 0.6454 - val_loss: 0.7463 - val_acc: 0.7226\n",
      "Epoch 5/100\n",
      "441/441 [==============================] - ETA: 0s - loss: 0.5545 - acc: 0.7216\n",
      "Epoch 00005: val_acc improved from 0.72255 to 0.79546, saving model to xception_best.ckpt\n",
      "441/441 [==============================] - 158s 357ms/step - loss: 0.5545 - acc: 0.7216 - val_loss: 0.5902 - val_acc: 0.7955\n",
      "Epoch 6/100\n",
      "441/441 [==============================] - ETA: 0s - loss: 0.4280 - acc: 0.7918\n",
      "Epoch 00006: val_acc improved from 0.79546 to 0.83433, saving model to xception_best.ckpt\n",
      "441/441 [==============================] - 157s 356ms/step - loss: 0.4280 - acc: 0.7918 - val_loss: 0.4861 - val_acc: 0.8343\n",
      "Epoch 7/100\n",
      "441/441 [==============================] - ETA: 0s - loss: 0.3133 - acc: 0.8563\n",
      "Epoch 00007: val_acc improved from 0.83433 to 0.90298, saving model to xception_best.ckpt\n",
      "441/441 [==============================] - 157s 356ms/step - loss: 0.3133 - acc: 0.8563 - val_loss: 0.3411 - val_acc: 0.9030\n",
      "Epoch 8/100\n",
      "441/441 [==============================] - ETA: 0s - loss: 0.2141 - acc: 0.9082\n",
      "Epoch 00008: val_acc improved from 0.90298 to 0.92624, saving model to xception_best.ckpt\n",
      "441/441 [==============================] - 157s 357ms/step - loss: 0.2141 - acc: 0.9082 - val_loss: 0.2707 - val_acc: 0.9262\n",
      "Epoch 9/100\n",
      "441/441 [==============================] - ETA: 0s - loss: 0.1478 - acc: 0.9463\n",
      "Epoch 00009: val_acc improved from 0.92624 to 0.94270, saving model to xception_best.ckpt\n",
      "441/441 [==============================] - 157s 357ms/step - loss: 0.1478 - acc: 0.9463 - val_loss: 0.2243 - val_acc: 0.9427\n",
      "Epoch 10/100\n",
      "441/441 [==============================] - ETA: 0s - loss: 0.0940 - acc: 0.9696\n",
      "Epoch 00010: val_acc improved from 0.94270 to 0.95461, saving model to xception_best.ckpt\n",
      "441/441 [==============================] - 157s 356ms/step - loss: 0.0940 - acc: 0.9696 - val_loss: 0.1790 - val_acc: 0.9546\n",
      "Epoch 11/100\n",
      "441/441 [==============================] - ETA: 0s - loss: 0.0658 - acc: 0.9813\n",
      "Epoch 00011: val_acc improved from 0.95461 to 0.95972, saving model to xception_best.ckpt\n",
      "441/441 [==============================] - 158s 359ms/step - loss: 0.0658 - acc: 0.9813 - val_loss: 0.1552 - val_acc: 0.9597\n",
      "Epoch 12/100\n",
      "441/441 [==============================] - ETA: 0s - loss: 0.0484 - acc: 0.9868\n",
      "Epoch 00012: val_acc did not improve from 0.95972\n",
      "441/441 [==============================] - 156s 353ms/step - loss: 0.0484 - acc: 0.9868 - val_loss: 0.1521 - val_acc: 0.9589\n",
      "Epoch 13/100\n",
      "441/441 [==============================] - ETA: 0s - loss: 0.0388 - acc: 0.9906\n",
      "Epoch 00013: val_acc improved from 0.95972 to 0.96170, saving model to xception_best.ckpt\n",
      "441/441 [==============================] - 162s 366ms/step - loss: 0.0388 - acc: 0.9906 - val_loss: 0.1483 - val_acc: 0.9617\n",
      "Epoch 14/100\n",
      "441/441 [==============================] - ETA: 0s - loss: 0.0294 - acc: 0.9931\n",
      "Epoch 00014: val_acc improved from 0.96170 to 0.96227, saving model to xception_best.ckpt\n",
      "441/441 [==============================] - 166s 376ms/step - loss: 0.0294 - acc: 0.9931 - val_loss: 0.1465 - val_acc: 0.9623\n",
      "Epoch 15/100\n",
      "441/441 [==============================] - ETA: 0s - loss: 0.0258 - acc: 0.9936\n",
      "Epoch 00015: val_acc did not improve from 0.96227\n",
      "441/441 [==============================] - 165s 374ms/step - loss: 0.0258 - acc: 0.9936 - val_loss: 0.1429 - val_acc: 0.9603\n",
      "Epoch 16/100\n",
      "441/441 [==============================] - ETA: 0s - loss: 0.0211 - acc: 0.9946\n",
      "Epoch 00016: val_acc improved from 0.96227 to 0.96369, saving model to xception_best.ckpt\n",
      "441/441 [==============================] - 169s 382ms/step - loss: 0.0211 - acc: 0.9946 - val_loss: 0.1445 - val_acc: 0.9637\n",
      "Epoch 17/100\n",
      "441/441 [==============================] - ETA: 0s - loss: 0.0164 - acc: 0.9962\n",
      "Epoch 00017: val_acc did not improve from 0.96369\n",
      "441/441 [==============================] - 163s 369ms/step - loss: 0.0164 - acc: 0.9962 - val_loss: 0.1506 - val_acc: 0.9606\n",
      "Epoch 18/100\n",
      "441/441 [==============================] - ETA: 0s - loss: 0.0139 - acc: 0.9976\n",
      "Epoch 00018: val_acc improved from 0.96369 to 0.96454, saving model to xception_best.ckpt\n",
      "441/441 [==============================] - 163s 370ms/step - loss: 0.0139 - acc: 0.9976 - val_loss: 0.1421 - val_acc: 0.9645\n",
      "Epoch 19/100\n",
      "441/441 [==============================] - ETA: 0s - loss: 0.0124 - acc: 0.9969\n",
      "Epoch 00019: val_acc improved from 0.96454 to 0.96567, saving model to xception_best.ckpt\n",
      "441/441 [==============================] - 158s 358ms/step - loss: 0.0124 - acc: 0.9969 - val_loss: 0.1491 - val_acc: 0.9657\n",
      "Epoch 20/100\n",
      "441/441 [==============================] - ETA: 0s - loss: 0.0096 - acc: 0.9979\n",
      "Epoch 00020: val_acc did not improve from 0.96567\n",
      "441/441 [==============================] - 156s 353ms/step - loss: 0.0096 - acc: 0.9979 - val_loss: 0.1456 - val_acc: 0.9640\n",
      "Epoch 21/100\n",
      "441/441 [==============================] - ETA: 0s - loss: 0.0078 - acc: 0.9984\n",
      "Epoch 00021: val_acc did not improve from 0.96567\n",
      "441/441 [==============================] - 156s 353ms/step - loss: 0.0078 - acc: 0.9984 - val_loss: 0.1544 - val_acc: 0.9637\n",
      "Epoch 22/100\n",
      "441/441 [==============================] - ETA: 0s - loss: 0.0117 - acc: 0.9967\n",
      "Epoch 00022: val_acc did not improve from 0.96567\n",
      "441/441 [==============================] - 165s 373ms/step - loss: 0.0117 - acc: 0.9967 - val_loss: 0.1558 - val_acc: 0.9626\n",
      "Epoch 23/100\n",
      "441/441 [==============================] - ETA: 0s - loss: 0.0088 - acc: 0.9977\n",
      "Epoch 00023: val_acc did not improve from 0.96567\n",
      "441/441 [==============================] - 158s 358ms/step - loss: 0.0088 - acc: 0.9977 - val_loss: 0.1537 - val_acc: 0.9654\n",
      "Epoch 24/100\n",
      "441/441 [==============================] - ETA: 0s - loss: 0.0084 - acc: 0.9974\n",
      "Epoch 00024: val_acc did not improve from 0.96567\n",
      "441/441 [==============================] - 156s 353ms/step - loss: 0.0084 - acc: 0.9974 - val_loss: 0.1565 - val_acc: 0.9637\n",
      "Epoch 25/100\n",
      "441/441 [==============================] - ETA: 0s - loss: 0.0075 - acc: 0.9987\n",
      "Epoch 00025: val_acc did not improve from 0.96567\n",
      "441/441 [==============================] - 157s 355ms/step - loss: 0.0075 - acc: 0.9987 - val_loss: 0.1502 - val_acc: 0.9651\n",
      "Epoch 26/100\n",
      "441/441 [==============================] - ETA: 0s - loss: 0.0088 - acc: 0.9974\n",
      "Epoch 00026: val_acc improved from 0.96567 to 0.96596, saving model to xception_best.ckpt\n",
      "441/441 [==============================] - 158s 359ms/step - loss: 0.0088 - acc: 0.9974 - val_loss: 0.1524 - val_acc: 0.9660\n",
      "Epoch 27/100\n",
      "441/441 [==============================] - ETA: 0s - loss: 0.0069 - acc: 0.9980\n",
      "Epoch 00027: val_acc did not improve from 0.96596\n",
      "441/441 [==============================] - 156s 353ms/step - loss: 0.0069 - acc: 0.9980 - val_loss: 0.1575 - val_acc: 0.9657\n",
      "Epoch 28/100\n",
      "441/441 [==============================] - ETA: 0s - loss: 0.0060 - acc: 0.9987\n",
      "Epoch 00028: val_acc improved from 0.96596 to 0.96879, saving model to xception_best.ckpt\n",
      "441/441 [==============================] - 157s 357ms/step - loss: 0.0060 - acc: 0.9987 - val_loss: 0.1522 - val_acc: 0.9688\n",
      "Epoch 29/100\n",
      "441/441 [==============================] - ETA: 0s - loss: 0.0051 - acc: 0.9989\n",
      "Epoch 00029: val_acc did not improve from 0.96879\n",
      "441/441 [==============================] - 157s 356ms/step - loss: 0.0051 - acc: 0.9989 - val_loss: 0.1558 - val_acc: 0.9662\n",
      "Epoch 30/100\n",
      "441/441 [==============================] - ETA: 0s - loss: 0.0053 - acc: 0.9984\n",
      "Epoch 00030: val_acc did not improve from 0.96879\n",
      "441/441 [==============================] - 156s 354ms/step - loss: 0.0053 - acc: 0.9984 - val_loss: 0.1541 - val_acc: 0.9654\n",
      "Epoch 31/100\n",
      "441/441 [==============================] - ETA: 0s - loss: 0.0055 - acc: 0.9984\n",
      "Epoch 00031: val_acc did not improve from 0.96879\n",
      "441/441 [==============================] - 156s 353ms/step - loss: 0.0055 - acc: 0.9984 - val_loss: 0.1525 - val_acc: 0.9674\n",
      "Epoch 32/100\n",
      "441/441 [==============================] - ETA: 0s - loss: 0.0047 - acc: 0.9985\n",
      "Epoch 00032: val_acc did not improve from 0.96879\n",
      "441/441 [==============================] - 156s 354ms/step - loss: 0.0047 - acc: 0.9985 - val_loss: 0.1502 - val_acc: 0.9668\n",
      "Epoch 33/100\n",
      "441/441 [==============================] - ETA: 0s - loss: 0.0053 - acc: 0.9984\n",
      "Epoch 00033: val_acc did not improve from 0.96879\n",
      "441/441 [==============================] - 156s 353ms/step - loss: 0.0053 - acc: 0.9984 - val_loss: 0.1579 - val_acc: 0.9637\n",
      "Epoch 34/100\n",
      "441/441 [==============================] - ETA: 0s - loss: 0.0038 - acc: 0.9989\n",
      "Epoch 00034: val_acc did not improve from 0.96879\n",
      "441/441 [==============================] - 156s 353ms/step - loss: 0.0038 - acc: 0.9989 - val_loss: 0.1527 - val_acc: 0.9668\n",
      "Epoch 35/100\n",
      "441/441 [==============================] - ETA: 0s - loss: 0.0052 - acc: 0.9980\n",
      "Epoch 00035: val_acc did not improve from 0.96879\n",
      "441/441 [==============================] - 159s 362ms/step - loss: 0.0052 - acc: 0.9980 - val_loss: 0.1633 - val_acc: 0.9665\n",
      "Epoch 36/100\n",
      "441/441 [==============================] - ETA: 0s - loss: 0.0033 - acc: 0.9996\n",
      "Epoch 00036: val_acc improved from 0.96879 to 0.96936, saving model to xception_best.ckpt\n",
      "441/441 [==============================] - 166s 377ms/step - loss: 0.0033 - acc: 0.9996 - val_loss: 0.1571 - val_acc: 0.9694\n",
      "Epoch 37/100\n",
      "441/441 [==============================] - ETA: 0s - loss: 0.0037 - acc: 0.9990\n",
      "Epoch 00037: val_acc did not improve from 0.96936\n",
      "441/441 [==============================] - 157s 357ms/step - loss: 0.0037 - acc: 0.9990 - val_loss: 0.1595 - val_acc: 0.9668\n",
      "Epoch 38/100\n",
      "441/441 [==============================] - ETA: 0s - loss: 0.0029 - acc: 0.9990\n",
      "Epoch 00038: val_acc improved from 0.96936 to 0.96965, saving model to xception_best.ckpt\n",
      "441/441 [==============================] - 163s 370ms/step - loss: 0.0029 - acc: 0.9990 - val_loss: 0.1587 - val_acc: 0.9696\n",
      "Epoch 39/100\n",
      "441/441 [==============================] - ETA: 0s - loss: 0.0041 - acc: 0.9991\n",
      "Epoch 00039: val_acc did not improve from 0.96965\n",
      "441/441 [==============================] - 165s 374ms/step - loss: 0.0041 - acc: 0.9991 - val_loss: 0.1614 - val_acc: 0.9685\n",
      "Epoch 40/100\n",
      "441/441 [==============================] - ETA: 0s - loss: 0.0028 - acc: 0.9993\n",
      "Epoch 00040: val_acc did not improve from 0.96965\n",
      "441/441 [==============================] - 164s 372ms/step - loss: 0.0028 - acc: 0.9993 - val_loss: 0.1600 - val_acc: 0.9679\n",
      "Epoch 41/100\n",
      "441/441 [==============================] - ETA: 0s - loss: 0.0028 - acc: 0.9993\n",
      "Epoch 00041: val_acc did not improve from 0.96965\n",
      "441/441 [==============================] - 164s 372ms/step - loss: 0.0028 - acc: 0.9993 - val_loss: 0.1592 - val_acc: 0.9671\n",
      "Epoch 42/100\n",
      "441/441 [==============================] - ETA: 0s - loss: 0.0047 - acc: 0.9984\n",
      "Epoch 00042: val_acc did not improve from 0.96965\n",
      "441/441 [==============================] - 164s 373ms/step - loss: 0.0047 - acc: 0.9984 - val_loss: 0.1735 - val_acc: 0.9634\n",
      "Epoch 43/100\n",
      "441/441 [==============================] - ETA: 0s - loss: 0.0054 - acc: 0.9984\n",
      "Epoch 00043: val_acc did not improve from 0.96965\n",
      "441/441 [==============================] - 162s 367ms/step - loss: 0.0054 - acc: 0.9984 - val_loss: 0.1578 - val_acc: 0.9677\n",
      "{'loss': [3.3283205032348633, 1.1560018062591553, 0.867419421672821, 0.6933587789535522, 0.5545455813407898, 0.4279591739177704, 0.3133474886417389, 0.2141374945640564, 0.14784573018550873, 0.09403311461210251, 0.0657825842499733, 0.04841012880206108, 0.03878355398774147, 0.02935207635164261, 0.02582802064716816, 0.02110106870532036, 0.01643393188714981, 0.013888722285628319, 0.012397405691444874, 0.009557993151247501, 0.007765321992337704, 0.01169085968285799, 0.008798522874712944, 0.00839623436331749, 0.007504765875637531, 0.008849304169416428, 0.006854560226202011, 0.006022882182151079, 0.005097853951156139, 0.005266841966658831, 0.00547259533777833, 0.004663534928113222, 0.0052926018834114075, 0.0037574395537376404, 0.005211003124713898, 0.0032712831161916256, 0.0037078543100506067, 0.0029265207704156637, 0.004087911918759346, 0.0028186102863401175, 0.002811477053910494, 0.004650350194424391, 0.005423892289400101], 'acc': [0.27255305647850037, 0.48427852988243103, 0.5729292631149292, 0.6453971266746521, 0.7216268181800842, 0.7917524576187134, 0.8563418388366699, 0.9081553220748901, 0.9462701678276062, 0.9696217179298401, 0.9813329577445984, 0.9867982268333435, 0.9906309843063354, 0.9931151866912842, 0.9936120510101318, 0.9946057200431824, 0.9962381720542908, 0.9975867867469788, 0.9968770146369934, 0.9979416728019714, 0.9984384775161743, 0.9967350363731384, 0.9976577758789062, 0.9973738193511963, 0.9986514449119568, 0.9973738193511963, 0.9980126619338989, 0.9986514449119568, 0.9988643527030945, 0.9984384775161743, 0.9984384775161743, 0.9985094666481018, 0.9984384775161743, 0.998935341835022, 0.9980126619338989, 0.9995741248130798, 0.9990063309669495, 0.9990063309669495, 0.9991482496261597, 0.9992902278900146, 0.9992902278900146, 0.9984384775161743, 0.9983675479888916], 'val_loss': [1.7533118724822998, 1.1022605895996094, 0.9547663927078247, 0.7462860345840454, 0.5901755690574646, 0.4860677719116211, 0.3411319851875305, 0.2706790864467621, 0.2243117094039917, 0.17897145450115204, 0.15524731576442719, 0.15211181342601776, 0.14826571941375732, 0.14646875858306885, 0.14286968111991882, 0.1444784700870514, 0.15055641531944275, 0.14205849170684814, 0.14910846948623657, 0.14560960233211517, 0.1544002741575241, 0.15581537783145905, 0.15366414189338684, 0.15653924643993378, 0.15019914507865906, 0.15238328278064728, 0.15747453272342682, 0.15224964916706085, 0.15581776201725006, 0.15409551560878754, 0.15250559151172638, 0.15022078156471252, 0.15786151587963104, 0.15268759429454803, 0.1633499562740326, 0.15705254673957825, 0.1595345437526703, 0.15874941647052765, 0.16143614053726196, 0.15998005867004395, 0.15920168161392212, 0.17354045808315277, 0.15776829421520233], 'val_acc': [0.30269503593444824, 0.5557447075843811, 0.6090779900550842, 0.7225531935691833, 0.7954609990119934, 0.8343262672424316, 0.9029787182807922, 0.9262411594390869, 0.9426950216293335, 0.9546099305152893, 0.9597163200378418, 0.958865225315094, 0.9617021083831787, 0.9622694849967957, 0.9602836966514587, 0.9636879563331604, 0.9605673551559448, 0.9645389914512634, 0.9656737446784973, 0.9639716148376465, 0.9636879563331604, 0.9625532031059265, 0.9653900861740112, 0.9636879563331604, 0.9651063680648804, 0.9659574627876282, 0.9656737446784973, 0.9687943458557129, 0.9662411212921143, 0.9653900861740112, 0.9673758745193481, 0.9668084979057312, 0.9636879563331604, 0.9668084979057312, 0.9665248394012451, 0.9693617224693298, 0.9668084979057312, 0.9696453809738159, 0.968510627746582, 0.9679432511329651, 0.9670922160148621, 0.9634042382240295, 0.967659592628479]}\n"
     ]
    },
    {
     "data": {
      "text/plain": [
       "<tensorflow.python.training.tracking.util.CheckpointLoadStatus at 0x1e4533e1e08>"
      ]
     },
     "execution_count": 24,
     "metadata": {},
     "output_type": "execute_result"
    }
   ],
   "source": [
    "# train the model\n",
    "history = model.fit(\n",
    "        train_generator,\n",
    "        epochs=100,\n",
    "        validation_data=valid_generator,\n",
    "        callbacks=[my_callbacks],\n",
    "        class_weight=class_weights)\n",
    "print(history.history)\n",
    "# load best saved weights\n",
    "model.load_weights(checkpoint_path)"
   ]
  },
  {
   "cell_type": "code",
   "execution_count": 34,
   "metadata": {},
   "outputs": [
    {
     "data": {
      "image/png": "[encoded data removed]",
      "text/plain": [
       "<Figure size 720x576 with 1 Axes>"
      ]
     },
     "metadata": {},
     "output_type": "display_data"
    },
    {
     "data": {
      "image/png": "[encoded data removed]",
      "text/plain": [
       "<Figure size 720x576 with 1 Axes>"
      ]
     },
     "metadata": {},
     "output_type": "display_data"
    }
   ],
   "source": [
    "# 6 훈련 과정 시각화 (정확도)\n",
    "plt.plot(history.history['acc'])\n",
    "plt.plot(history.history['val_acc'])\n",
    "plt.title('Model accuracy')\n",
    "plt.xlabel('Epoch')\n",
    "plt.ylabel('Accuracy')\n",
    "plt.legend(['Train', 'Test'], loc='upper left')\n",
    "plt.show()\n",
    "\n",
    "# 7 훈련 과정 시각화 (손실)\n",
    "plt.plot(history.history['loss'])\n",
    "plt.plot(history.history['val_loss'])\n",
    "plt.title('Model loss')\n",
    "plt.xlabel('Epoch')\n",
    "plt.ylabel('Loss')\n",
    "plt.legend(['Train', 'Test'], loc='upper left')\n",
    "plt.show()"
   ]
  },
  {
   "cell_type": "code",
   "execution_count": 35,
   "metadata": {},
   "outputs": [
    {
     "name": "stdout",
     "output_type": "stream",
     "text": [
      "111/111 [==============================] - 11s 97ms/step - loss: 0.1587 - acc: 0.9696 ETA: 0s - loss: 0.1578 - acc: 0.9\n",
      "Loss = 0.15874937176704407\n",
      "Test Accuracy = 0.9696453809738159\n"
     ]
    }
   ],
   "source": [
    "preds = model.evaluate(valid_generator)\n",
    "print (\"Loss = \" + str(preds[0]))\n",
    "print (\"Test Accuracy = \" + str(preds[1]))"
   ]
  },
  {
   "cell_type": "code",
   "execution_count": 36,
   "metadata": {},
   "outputs": [],
   "source": [
    "import matplotlib.image as mpimg\n",
    "from matplotlib import font_manager, rc\n",
    "rc('font',family=\"AppleGothic\")\n",
    "plt.rcParams[\"font.family\"]=\"AppleGothic\" #plt 한글꺠짐\n",
    "plt.rcParams[\"font.family\"]=\"Arial\" #외국어꺠짐\n",
    "plt.rcParams['axes.unicode_minus'] = False # 마이너스 부호 출력 설정\n",
    "plt.rc('figure', figsize=(10,8))\n",
    "\n",
    "sns.set(font=\"AppleGothic\", \n",
    "        rc={\"axes.unicode_minus\":False},\n",
    "        style='darkgrid') #sns 한글깨짐\n"
   ]
  },
  {
   "cell_type": "code",
   "execution_count": 43,
   "metadata": {},
   "outputs": [
    {
     "data": {
      "text/plain": [
       "'C:\\\\Users\\\\yukir\\\\Documents\\\\Monicas_workspace\\\\NEW_Knee'"
      ]
     },
     "execution_count": 43,
     "metadata": {},
     "output_type": "execute_result"
    }
   ],
   "source": [
    "/pwd"
   ]
  },
  {
   "cell_type": "code",
   "execution_count": 37,
   "metadata": {},
   "outputs": [],
   "source": [
    "model.save_weights(\"[0324]Early_last_pang_v3.h5\")"
   ]
  },
  {
   "cell_type": "code",
   "execution_count": 45,
   "metadata": {},
   "outputs": [
    {
     "name": "stdout",
     "output_type": "stream",
     "text": [
      "Saved model to disk\n"
     ]
    }
   ],
   "source": [
    "model.save(\"[0324]model_Early_last_pang_v3.h5\")\n",
    "\n",
    "model_json = model.to_json()\n",
    "with open(\"[0324]Early_last_pang_v3.h5.json\", \"w\") as json_file : \n",
    "    json_file.write(model_json)\n",
    "\n",
    "# model.save_weights(\"[1001]new_stratified_4class_85_weight.h5\")\n",
    "print(\"Saved model to disk\")"
   ]
  },
  {
   "cell_type": "code",
   "execution_count": 38,
   "metadata": {},
   "outputs": [
    {
     "data": {
      "text/html": [
       "<div>\n",
       "<style scoped>\n",
       "    .dataframe tbody tr th:only-of-type {\n",
       "        vertical-align: middle;\n",
       "    }\n",
       "\n",
       "    .dataframe tbody tr th {\n",
       "        vertical-align: top;\n",
       "    }\n",
       "\n",
       "    .dataframe thead th {\n",
       "        text-align: right;\n",
       "    }\n",
       "</style>\n",
       "<table border=\"1\" class=\"dataframe\">\n",
       "  <thead>\n",
       "    <tr style=\"text-align: right;\">\n",
       "      <th></th>\n",
       "      <th>filename</th>\n",
       "    </tr>\n",
       "  </thead>\n",
       "  <tbody>\n",
       "    <tr>\n",
       "      <th>0</th>\n",
       "      <td>C:\\Users\\yukir\\Documents\\Monicas_workspace\\NEW...</td>\n",
       "    </tr>\n",
       "    <tr>\n",
       "      <th>1</th>\n",
       "      <td>C:\\Users\\yukir\\Documents\\Monicas_workspace\\NEW...</td>\n",
       "    </tr>\n",
       "    <tr>\n",
       "      <th>2</th>\n",
       "      <td>C:\\Users\\yukir\\Documents\\Monicas_workspace\\NEW...</td>\n",
       "    </tr>\n",
       "    <tr>\n",
       "      <th>3</th>\n",
       "      <td>C:\\Users\\yukir\\Documents\\Monicas_workspace\\NEW...</td>\n",
       "    </tr>\n",
       "    <tr>\n",
       "      <th>4</th>\n",
       "      <td>C:\\Users\\yukir\\Documents\\Monicas_workspace\\NEW...</td>\n",
       "    </tr>\n",
       "  </tbody>\n",
       "</table>\n",
       "</div>"
      ],
      "text/plain": [
       "                                            filename\n",
       "0  C:\\Users\\yukir\\Documents\\Monicas_workspace\\NEW...\n",
       "1  C:\\Users\\yukir\\Documents\\Monicas_workspace\\NEW...\n",
       "2  C:\\Users\\yukir\\Documents\\Monicas_workspace\\NEW...\n",
       "3  C:\\Users\\yukir\\Documents\\Monicas_workspace\\NEW...\n",
       "4  C:\\Users\\yukir\\Documents\\Monicas_workspace\\NEW..."
      ]
     },
     "execution_count": 38,
     "metadata": {},
     "output_type": "execute_result"
    }
   ],
   "source": [
    "# read Train.csv file which contains image names and labels and preprocess them\n",
    "root_path= \"C:\\\\Users\\\\yukir\\\\Documents\\\\Monicas_workspace\\\\NEW_Knee\\\\data\\\\KneeXray\\\\KneeXray\\\\\"\n",
    "df_test_compi = pd.read_csv(root_path + \"Test.csv\")\n",
    "\n",
    "# add absolute path to the image names\n",
    "df_test_compi[\"filename\"] = df_test_compi.filename.apply(lambda x: root_path+\"test/\" + x)\n",
    "df_test_compi.head()"
   ]
  },
  {
   "cell_type": "code",
   "execution_count": 39,
   "metadata": {},
   "outputs": [
    {
     "data": {
      "text/plain": [
       "0    932\n",
       "2    615\n",
       "1    428\n",
       "3    306\n",
       "4     71\n",
       "Name: label, dtype: int64"
      ]
     },
     "execution_count": 39,
     "metadata": {},
     "output_type": "execute_result"
    }
   ],
   "source": [
    "n_class = 5\n",
    "\n",
    "# path to kaggle dataset\n",
    "root_path= \"C:\\\\Users\\\\yukir\\\\Documents\\\\Monicas_workspace\\\\NEW_Knee\\\\newenw\\\\whole_new\\\\OSAIL Knee Osteoarthritis KL Scoring Dataset\\\\OSAIL_KL_Dataset\\\\Labeled\"\n",
    "\n",
    "img_list = os.listdir(root_path)\n",
    "\n",
    "label_list = []\n",
    "image_list = []\n",
    "\n",
    "for i in os.listdir(root_path):\n",
    "    img_list = os.listdir(root_path+'\\\\'+i)\n",
    "    label_list += [int(i)] * len(img_list)\n",
    "    for k in img_list:\n",
    "        # print(k)\n",
    "        img_adr = root_path +'\\\\'+i+'\\\\'+k\n",
    "        image_list.append(img_adr)\n",
    "        \n",
    "\n",
    "df_test_kaggle  = pd.DataFrame({'filepath':image_list, 'label':label_list})\n",
    "df_test_kaggle.label.value_counts()\n",
    "\n",
    "# # convert to dataframe\n",
    "# df_train_kaggle = pd.DataFrame({\"filepath\" : image_path_list, \"label\": label_list})"
   ]
  },
  {
   "cell_type": "code",
   "execution_count": 40,
   "metadata": {},
   "outputs": [
    {
     "name": "stdout",
     "output_type": "stream",
     "text": [
      "Found 2352 validated image filenames.\n"
     ]
    }
   ],
   "source": [
    "from sklearn.metrics import precision_recall_curve\n",
    "target_shape = 224\n",
    "BATCH_SIZE = 1\n",
    "\n",
    "# test generator\n",
    "compi_gen = valid_aug.flow_from_dataframe(dataframe= df_test_kaggle,\n",
    "                            x_col= \"filepath\",\n",
    "                            class_mode=None,\n",
    "                            target_size= (target_shape, target_shape),\n",
    "                            shuffle= False,\n",
    "                            batch_size= BATCH_SIZE\n",
    "                            )"
   ]
  },
  {
   "cell_type": "code",
   "execution_count": 41,
   "metadata": {},
   "outputs": [
    {
     "name": "stdout",
     "output_type": "stream",
     "text": [
      "2352/2352 [==============================] - 17s 7ms/step\n"
     ]
    }
   ],
   "source": [
    "# prediction on train data\n",
    "predicition_compi = model.predict(compi_gen, steps= compi_gen.n/ BATCH_SIZE, verbose= 1)\n"
   ]
  },
  {
   "cell_type": "code",
   "execution_count": 42,
   "metadata": {},
   "outputs": [
    {
     "data": {
      "text/plain": [
       "<sklearn.metrics._plot.confusion_matrix.ConfusionMatrixDisplay at 0x1e4531c5f08>"
      ]
     },
     "execution_count": 42,
     "metadata": {},
     "output_type": "execute_result"
    },
    {
     "data": {
      "image/png": "[encoded data removed]",
      "text/plain": [
       "<Figure size 720x576 with 2 Axes>"
      ]
     },
     "metadata": {},
     "output_type": "display_data"
    }
   ],
   "source": [
    "from sklearn.metrics import confusion_matrix, ConfusionMatrixDisplay\n",
    "class_prediction_compi =  np.argmax(predicition_compi, axis= 1)\n",
    "cm = confusion_matrix(df_test_kaggle.label, class_prediction_compi, labels=[0, 1, 2, 3, 4])\n",
    "disp = ConfusionMatrixDisplay(confusion_matrix=cm,\n",
    "                              display_labels=[0, 1, 2, 3, 4])\n",
    "disp.plot()"
   ]
  },
  {
   "cell_type": "code",
   "execution_count": 47,
   "metadata": {},
   "outputs": [],
   "source": [
    "predicted_classes = np.argmax(class_prediction_compi)"
   ]
  },
  {
   "cell_type": "code",
   "execution_count": 50,
   "metadata": {},
   "outputs": [
    {
     "name": "stdout",
     "output_type": "stream",
     "text": [
      "WARNING:tensorflow:From C:\\Users\\yukir\\AppData\\Local\\Temp/ipykernel_31356/2019596128.py:4: Model.predict_generator (from tensorflow.python.keras.engine.training) is deprecated and will be removed in a future version.\n",
      "Instructions for updating:\n",
      "Please use Model.predict, which supports generators.\n"
     ]
    }
   ],
   "source": [
    "test_steps_per_epoch = np.math.ceil(compi_gen.samples / compi_gen.batch_size)\n",
    "\n",
    "\n",
    "predictions = model.predict_generator(compi_gen, steps=test_steps_per_epoch)"
   ]
  },
  {
   "cell_type": "code",
   "execution_count": 51,
   "metadata": {},
   "outputs": [],
   "source": [
    "predicted_classes = np.argmax(predictions, axis=1)\n"
   ]
  },
  {
   "cell_type": "code",
   "execution_count": 55,
   "metadata": {},
   "outputs": [
    {
     "data": {
      "text/plain": [
       "array([2, 0, 1, ..., 4, 4, 4], dtype=int64)"
      ]
     },
     "execution_count": 55,
     "metadata": {},
     "output_type": "execute_result"
    }
   ],
   "source": [
    "predicted_classes"
   ]
  },
  {
   "cell_type": "code",
   "execution_count": 56,
   "metadata": {},
   "outputs": [],
   "source": [
    "y_true = df_test_kaggle.label.to_list()"
   ]
  },
  {
   "cell_type": "code",
   "execution_count": 58,
   "metadata": {},
   "outputs": [
    {
     "name": "stdout",
     "output_type": "stream",
     "text": [
      "              precision    recall  f1-score   support\n",
      "\n",
      "           0       0.83      0.62      0.71       932\n",
      "           1       0.50      0.57      0.53       428\n",
      "           2       0.60      0.69      0.64       615\n",
      "           3       0.67      0.85      0.75       306\n",
      "           4       0.83      0.80      0.81        71\n",
      "\n",
      "    accuracy                           0.66      2352\n",
      "   macro avg       0.68      0.71      0.69      2352\n",
      "weighted avg       0.69      0.66      0.67      2352\n",
      "\n"
     ]
    }
   ],
   "source": [
    "print(classification_report(y_true, predicted_classes))"
   ]
  },
  {
   "cell_type": "code",
   "execution_count": null,
   "metadata": {},
   "outputs": [],
   "source": [
    "### labeld에서 1,2 clas더 추가해서 model 재학습 --> oversampling을 통한 데이터제작?"
   ]
  }
 ],
 "metadata": {
  "interpreter": {
   "hash": "2d93d6df27dcc797823232b994e4f43d959f011089850837812bf48ca3e70a46"
  },
  "kernelspec": {
   "display_name": "Python 3.7.11 ('tensorflow37')",
   "language": "python",
   "name": "python3"
  },
  "language_info": {
   "codemirror_mode": {
    "name": "ipython",
    "version": 3
   },
   "file_extension": ".py",
   "mimetype": "text/x-python",
   "name": "python",
   "nbconvert_exporter": "python",
   "pygments_lexer": "ipython3",
   "version": "3.7.11"
  },
  "orig_nbformat": 4
 },
 "nbformat": 4,
 "nbformat_minor": 2
}
